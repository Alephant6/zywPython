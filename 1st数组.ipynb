{
 "cells": [
  {
   "cell_type": "markdown",
   "source": [
    "@date: 11 May, 2022\n",
    "@author: Alephant"
   ],
   "metadata": {
    "collapsed": false,
    "pycharm": {
     "name": "#%% md\n"
    }
   }
  },
  {
   "cell_type": "markdown",
   "source": [
    "## [485. 最大连续 1 的个数](https://leetcode.cn/problems/max-consecutive-ones/)"
   ],
   "metadata": {
    "collapsed": false,
    "pycharm": {
     "name": "#%% md\n"
    }
   }
  },
  {
   "cell_type": "markdown",
   "source": [
    "### 自己敲的"
   ],
   "metadata": {
    "collapsed": false,
    "pycharm": {
     "name": "#%% md\n"
    }
   }
  },
  {
   "cell_type": "code",
   "execution_count": 1,
   "outputs": [],
   "source": [
    "def findMaxConsecutiveOnes(nums):\n",
    "    \"\"\"\n",
    "    :type nums: List[int]\n",
    "    :rtype: int\n",
    "    \"\"\"\n",
    "    if len(nums) == 0:\n",
    "        result = 0\n",
    "        return result\n",
    "    else:\n",
    "        counts = 0\n",
    "        result = 0\n",
    "        for i in nums:\n",
    "            if i == 1:\n",
    "                counts +=  1\n",
    "                result = max(counts, result)\n",
    "            else:\n",
    "                counts = 0\n",
    "        return result"
   ],
   "metadata": {
    "collapsed": false,
    "pycharm": {
     "name": "#%%\n"
    }
   }
  },
  {
   "cell_type": "code",
   "execution_count": 2,
   "outputs": [],
   "source": [
    "nums = [1,1,0,1,1,1]"
   ],
   "metadata": {
    "collapsed": false,
    "pycharm": {
     "name": "#%%\n"
    }
   }
  },
  {
   "cell_type": "code",
   "execution_count": 3,
   "outputs": [
    {
     "data": {
      "text/plain": "3"
     },
     "execution_count": 3,
     "metadata": {},
     "output_type": "execute_result"
    }
   ],
   "source": [
    "findMaxConsecutiveOnes(nums)"
   ],
   "metadata": {
    "collapsed": false,
    "pycharm": {
     "name": "#%%\n"
    }
   }
  },
  {
   "cell_type": "markdown",
   "source": [
    "### 对象的写法"
   ],
   "metadata": {
    "collapsed": false,
    "pycharm": {
     "name": "#%% md\n"
    }
   }
  },
  {
   "cell_type": "code",
   "execution_count": 4,
   "outputs": [],
   "source": [
    "class Solution:\n",
    "    def findMaxConsecutiveOnes(self, nums):\n",
    "        if len(nums) == 0:\n",
    "            result = 0\n",
    "            return result\n",
    "        else:\n",
    "            counts = 0\n",
    "            result = 0\n",
    "            for i in nums:\n",
    "                if i == 1:\n",
    "                    counts +=  1\n",
    "                    result = max(counts, result)\n",
    "                else:\n",
    "                    counts = 0\n",
    "            return result"
   ],
   "metadata": {
    "collapsed": false,
    "pycharm": {
     "name": "#%%\n"
    }
   }
  },
  {
   "cell_type": "code",
   "execution_count": 5,
   "outputs": [
    {
     "data": {
      "text/plain": "3"
     },
     "execution_count": 5,
     "metadata": {},
     "output_type": "execute_result"
    }
   ],
   "source": [
    "Solution.findMaxConsecutiveOnes(Solution, nums)"
   ],
   "metadata": {
    "collapsed": false,
    "pycharm": {
     "name": "#%%\n"
    }
   }
  },
  {
   "cell_type": "markdown",
   "source": [
    "## 输出10到1的偶数"
   ],
   "metadata": {
    "collapsed": false,
    "pycharm": {
     "name": "#%% md\n"
    }
   }
  },
  {
   "cell_type": "markdown",
   "source": [
    "### 常规做法"
   ],
   "metadata": {
    "collapsed": false,
    "pycharm": {
     "name": "#%% md\n"
    }
   }
  },
  {
   "cell_type": "code",
   "execution_count": 6,
   "outputs": [
    {
     "name": "stdout",
     "output_type": "stream",
     "text": [
      "10\n",
      "8\n",
      "6\n",
      "4\n",
      "2\n"
     ]
    }
   ],
   "source": [
    "for i in range(10,0,-1):\n",
    "    if i % 2 == 0:\n",
    "        print(i)"
   ],
   "metadata": {
    "collapsed": false,
    "pycharm": {
     "name": "#%%\n"
    }
   }
  },
  {
   "cell_type": "markdown",
   "source": [
    "## 参考答案1"
   ],
   "metadata": {
    "collapsed": false,
    "pycharm": {
     "name": "#%% md\n"
    }
   }
  },
  {
   "cell_type": "code",
   "execution_count": 2,
   "outputs": [],
   "source": [
    "class Solution:\n",
    "    # Leetcode 485. Max Consecutive Ones\n",
    "    # @爱学习的饲养员\n",
    "    # One Pass\n",
    "    # N is the size of nums\n",
    "    # Time Complexity: O(N)\n",
    "    # Space Complexity: O(1)\n",
    "    def findMaxConsecutiveOnes(self, nums: list[int]) -> int:\n",
    "        if nums is None or len(nums) == 0:\n",
    "            return 0\n",
    "\n",
    "        consecutive_ones = 0 if nums[0] == 0 else 1\n",
    "        max_consecutive_ones = consecutive_ones\n",
    "\n",
    "        for i in range(1, len(nums)):\n",
    "            if nums[i] == 1:\n",
    "                consecutive_ones += 1\n",
    "            else:\n",
    "                consecutive_ones = 0\n",
    "            max_consecutive_ones = max(max_consecutive_ones, consecutive_ones)\n",
    "\n",
    "        return max_consecutive_ones"
   ],
   "metadata": {
    "collapsed": false,
    "pycharm": {
     "name": "#%%\n"
    }
   }
  },
  {
   "cell_type": "markdown",
   "source": [
    "## 参考答案2"
   ],
   "metadata": {
    "collapsed": false,
    "pycharm": {
     "name": "#%% md\n"
    }
   }
  },
  {
   "cell_type": "code",
   "execution_count": null,
   "outputs": [],
   "source": [
    "class Solution:\n",
    "    # Leetcode 485. Max Consecutive Ones\n",
    "    # @爱学习的饲养员\n",
    "    # Dyname Programming\n",
    "    # N is the size of nums\n",
    "    # Time Complexity: O(N)\n",
    "    # Space Complexity: O(1)\n",
    "    def findMaxConsecutiveOnes(self, nums: list[int]) -> int:\n",
    "        if nums is None or len(nums) == 0:\n",
    "            return 0\n",
    "\n",
    "        nums[0] = 0 if nums[0] == 0 else 1\n",
    "        max_consecutive_ones = nums[0]\n",
    "\n",
    "        for i in range(1, len(nums)):\n",
    "            if nums[i] == 1:\n",
    "                nums[i] = nums[i-1]+1\n",
    "            else:\n",
    "                nums[i] = 0\n",
    "            max_consecutive_ones = max(max_consecutive_ones, nums[i]);\n",
    "\n",
    "        return max_consecutive_ones"
   ],
   "metadata": {
    "collapsed": false,
    "pycharm": {
     "name": "#%%\n"
    }
   }
  }
 ],
 "metadata": {
  "kernelspec": {
   "display_name": "Python 3",
   "language": "python",
   "name": "python3"
  },
  "language_info": {
   "codemirror_mode": {
    "name": "ipython",
    "version": 2
   },
   "file_extension": ".py",
   "mimetype": "text/x-python",
   "name": "python",
   "nbconvert_exporter": "python",
   "pygments_lexer": "ipython2",
   "version": "2.7.6"
  }
 },
 "nbformat": 4,
 "nbformat_minor": 0
}