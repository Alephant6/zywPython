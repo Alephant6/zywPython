{
 "cells": [
  {
   "cell_type": "markdown",
   "source": [
    "@date: 11 May, 2022\n",
    "@author: Alephant"
   ],
   "metadata": {
    "collapsed": false,
    "pycharm": {
     "name": "#%% md\n"
    }
   }
  },
  {
   "cell_type": "markdown",
   "source": [
    "# 问题一： [485. 最大连续 1 的个数](https://leetcode.cn/problems/max-consecutive-ones/)"
   ],
   "metadata": {
    "collapsed": false,
    "pycharm": {
     "name": "#%% md\n"
    }
   }
  },
  {
   "cell_type": "markdown",
   "source": [
    "### 自己敲的"
   ],
   "metadata": {
    "collapsed": false,
    "pycharm": {
     "name": "#%% md\n"
    }
   }
  },
  {
   "cell_type": "code",
   "execution_count": 1,
   "outputs": [],
   "source": [
    "def findMaxConsecutiveOnes(nums):\n",
    "    \"\"\"\n",
    "    :type nums: List[int]\n",
    "    :rtype: int\n",
    "    \"\"\"\n",
    "    if len(nums) == 0:\n",
    "        result = 0\n",
    "        return result\n",
    "    else:\n",
    "        counts = 0\n",
    "        result = 0\n",
    "        for i in nums:\n",
    "            if i == 1:\n",
    "                counts +=  1\n",
    "                result = max(counts, result)\n",
    "            else:\n",
    "                counts = 0\n",
    "        return result"
   ],
   "metadata": {
    "collapsed": false,
    "pycharm": {
     "name": "#%%\n"
    }
   }
  },
  {
   "cell_type": "code",
   "execution_count": 2,
   "outputs": [],
   "source": [
    "nums = [1,1,0,1,1,1]"
   ],
   "metadata": {
    "collapsed": false,
    "pycharm": {
     "name": "#%%\n"
    }
   }
  },
  {
   "cell_type": "code",
   "execution_count": 3,
   "outputs": [
    {
     "data": {
      "text/plain": "3"
     },
     "execution_count": 3,
     "metadata": {},
     "output_type": "execute_result"
    }
   ],
   "source": [
    "findMaxConsecutiveOnes(nums)"
   ],
   "metadata": {
    "collapsed": false,
    "pycharm": {
     "name": "#%%\n"
    }
   }
  },
  {
   "cell_type": "markdown",
   "source": [
    "### 对象的写法"
   ],
   "metadata": {
    "collapsed": false,
    "pycharm": {
     "name": "#%% md\n"
    }
   }
  },
  {
   "cell_type": "code",
   "execution_count": 4,
   "outputs": [],
   "source": [
    "class Solution:\n",
    "    def findMaxConsecutiveOnes(self, nums):\n",
    "        if len(nums) == 0:\n",
    "            result = 0\n",
    "            return result\n",
    "        else:\n",
    "            counts = 0\n",
    "            result = 0\n",
    "            for i in nums:\n",
    "                if i == 1:\n",
    "                    counts +=  1\n",
    "                    result = max(counts, result)\n",
    "                else:\n",
    "                    counts = 0\n",
    "            return result"
   ],
   "metadata": {
    "collapsed": false,
    "pycharm": {
     "name": "#%%\n"
    }
   }
  },
  {
   "cell_type": "code",
   "execution_count": 5,
   "outputs": [
    {
     "data": {
      "text/plain": "3"
     },
     "execution_count": 5,
     "metadata": {},
     "output_type": "execute_result"
    }
   ],
   "source": [
    "Solution.findMaxConsecutiveOnes(Solution, nums)"
   ],
   "metadata": {
    "collapsed": false,
    "pycharm": {
     "name": "#%%\n"
    }
   }
  },
  {
   "cell_type": "markdown",
   "source": [
    "## 输出10到1的偶数"
   ],
   "metadata": {
    "collapsed": false,
    "pycharm": {
     "name": "#%% md\n"
    }
   }
  },
  {
   "cell_type": "markdown",
   "source": [
    "### 常规做法"
   ],
   "metadata": {
    "collapsed": false,
    "pycharm": {
     "name": "#%% md\n"
    }
   }
  },
  {
   "cell_type": "code",
   "execution_count": 6,
   "outputs": [
    {
     "name": "stdout",
     "output_type": "stream",
     "text": [
      "10\n",
      "8\n",
      "6\n",
      "4\n",
      "2\n"
     ]
    }
   ],
   "source": [
    "for i in range(10,0,-1):\n",
    "    if i % 2 == 0:\n",
    "        print(i)"
   ],
   "metadata": {
    "collapsed": false,
    "pycharm": {
     "name": "#%%\n"
    }
   }
  },
  {
   "cell_type": "markdown",
   "source": [
    "## 参考答案1"
   ],
   "metadata": {
    "collapsed": false,
    "pycharm": {
     "name": "#%% md\n"
    }
   }
  },
  {
   "cell_type": "code",
   "execution_count": 2,
   "outputs": [],
   "source": [
    "class Solution:\n",
    "    # Leetcode 485. Max Consecutive Ones\n",
    "    # @爱学习的饲养员\n",
    "    # One Pass\n",
    "    # N is the size of nums\n",
    "    # Time Complexity: O(N)\n",
    "    # Space Complexity: O(1)\n",
    "    def findMaxConsecutiveOnes(self, nums: list[int]) -> int:\n",
    "        if nums is None or len(nums) == 0:\n",
    "            return 0\n",
    "\n",
    "        consecutive_ones = 0 if nums[0] == 0 else 1\n",
    "        max_consecutive_ones = consecutive_ones\n",
    "\n",
    "        for i in range(1, len(nums)):\n",
    "            if nums[i] == 1:\n",
    "                consecutive_ones += 1\n",
    "            else:\n",
    "                consecutive_ones = 0\n",
    "            max_consecutive_ones = max(max_consecutive_ones, consecutive_ones)\n",
    "\n",
    "        return max_consecutive_ones"
   ],
   "metadata": {
    "collapsed": false,
    "pycharm": {
     "name": "#%%\n"
    }
   }
  },
  {
   "cell_type": "markdown",
   "source": [
    "## 参考答案2"
   ],
   "metadata": {
    "collapsed": false,
    "pycharm": {
     "name": "#%% md\n"
    }
   }
  },
  {
   "cell_type": "code",
   "execution_count": 3,
   "outputs": [],
   "source": [
    "class Solution:\n",
    "    # Leetcode 485. Max Consecutive Ones\n",
    "    # @爱学习的饲养员\n",
    "    # Dyname Programming\n",
    "    # N is the size of nums\n",
    "    # Time Complexity: O(N)\n",
    "    # Space Complexity: O(1)\n",
    "    def findMaxConsecutiveOnes(self, nums: list[int]) -> int:\n",
    "        if nums is None or len(nums) == 0:\n",
    "            return 0\n",
    "\n",
    "        nums[0] = 0 if nums[0] == 0 else 1\n",
    "        max_consecutive_ones = nums[0]\n",
    "\n",
    "        for i in range(1, len(nums)):\n",
    "            if nums[i] == 1:\n",
    "                nums[i] = nums[i-1]+1\n",
    "            else:\n",
    "                nums[i] = 0\n",
    "            max_consecutive_ones = max(max_consecutive_ones, nums[i]);\n",
    "\n",
    "        return max_consecutive_ones"
   ],
   "metadata": {
    "collapsed": false,
    "pycharm": {
     "name": "#%%\n"
    }
   }
  },
  {
   "cell_type": "markdown",
   "source": [
    "# 问题二：[283. 移动零](https://leetcode.cn/problems/move-zeroes/)\n",
    "给定一个数组 nums，编写一个函数将所有 0 移动到数组的末尾，同时保持非零元素的相对顺序。\n",
    "\n",
    "请注意 ，必须在不复制数组的情况下原地对数组进行操作。\n",
    "\n",
    "\n",
    "\n",
    "示例 1:\n",
    "\n",
    "输入: nums = [0,1,0,3,12]\n",
    "输出: [1,3,12,0,0]\n",
    "示例 2:\n",
    "\n",
    "输入: nums = [0]\n",
    "输出: [0]\n",
    "\n",
    "\n",
    "提示:\n",
    "\n",
    "1 <= nums.length <= 104\n",
    "-2^{31} <= nums[i] <= 2^{31} - 1\n",
    "\n",
    "\n",
    "进阶：你能尽量减少完成的操作次数吗？"
   ],
   "metadata": {
    "collapsed": false,
    "pycharm": {
     "name": "#%% md\n"
    }
   }
  },
  {
   "cell_type": "markdown",
   "source": [
    "## 自己尝试"
   ],
   "metadata": {
    "collapsed": false,
    "pycharm": {
     "name": "#%% md\n"
    }
   }
  },
  {
   "cell_type": "code",
   "execution_count": 10,
   "outputs": [],
   "source": [
    "class Solution(object):\n",
    "    def moveZeroes(self, nums):\n",
    "        \"\"\"\n",
    "        :type nums: List[int]\n",
    "        :rtype: None Do not return anything, modify nums in-place instead.\n",
    "        \"\"\"\n",
    "        for num in nums:\n",
    "            if num == 0:\n",
    "                nums.remove(num)\n",
    "                nums.append(num)\n",
    "        return nums"
   ],
   "metadata": {
    "collapsed": false,
    "pycharm": {
     "name": "#%%\n"
    }
   }
  },
  {
   "cell_type": "code",
   "execution_count": 11,
   "outputs": [],
   "source": [
    "nums = [0]"
   ],
   "metadata": {
    "collapsed": false,
    "pycharm": {
     "name": "#%%\n"
    }
   }
  },
  {
   "cell_type": "code",
   "execution_count": 12,
   "outputs": [
    {
     "data": {
      "text/plain": "[0]"
     },
     "execution_count": 12,
     "metadata": {},
     "output_type": "execute_result"
    }
   ],
   "source": [
    "Solution.moveZeroes(Solution, nums)"
   ],
   "metadata": {
    "collapsed": false,
    "pycharm": {
     "name": "#%%\n"
    }
   }
  },
  {
   "cell_type": "markdown",
   "source": [
    "### 结果 - 16ms\n",
    "![](https://cdn.jsdelivr.net/gh/Alephant6/PicBed/202205112312982.png)"
   ],
   "metadata": {
    "collapsed": false,
    "pycharm": {
     "name": "#%% md\n"
    }
   }
  },
  {
   "cell_type": "markdown",
   "source": [],
   "metadata": {
    "collapsed": false,
    "pycharm": {
     "name": "#%% md\n"
    }
   }
  },
  {
   "cell_type": "markdown",
   "source": [
    "## zyw想法 - 数零\n",
    "```python\n",
    "class Solution:\n",
    "    def moveZeroes(nums) -> None:\n",
    "        \"\"\"\n",
    "        Do not return anything, modify nums in-place instead.\n",
    "        \"\"\"\n",
    "        if nums is None or len(nums) == 0:\n",
    "            return nums\n",
    "        count = 0\n",
    "        for i in range(0, len(nums)):\n",
    "            if nums[i] == 0:\n",
    "                count += 1\n",
    "        return count\n",
    "```"
   ],
   "metadata": {
    "collapsed": false,
    "pycharm": {
     "name": "#%% md\n"
    }
   }
  },
  {
   "cell_type": "markdown",
   "source": [
    "## 自己想法 - 看讲解后\n",
    "给的伪代码：\n",
    "<img src=\"https://cdn.jsdelivr.net/gh/Alephant6/PicBed/202205112303891.png\"/>"
   ],
   "metadata": {
    "collapsed": false,
    "pycharm": {
     "name": "#%% md\n"
    }
   }
  },
  {
   "cell_type": "code",
   "execution_count": 14,
   "outputs": [],
   "source": [
    "class Solution(object):\n",
    "    def moveZeroes(self, nums):\n",
    "        \"\"\"\n",
    "        :type nums: List[int]\n",
    "        :rtype: None Do not return anything, modify nums in-place instead.\n",
    "        \"\"\"\n",
    "        index = 0\n",
    "        for i in range(0, len(nums)):\n",
    "            if nums[i] != 0:\n",
    "                nums[index] = nums[i]\n",
    "                index += 1\n",
    "        for i in range(index, len(nums)):\n",
    "            nums[i] = 0"
   ],
   "metadata": {
    "collapsed": false,
    "pycharm": {
     "name": "#%%\n"
    }
   }
  },
  {
   "cell_type": "markdown",
   "source": [
    "### 结果 - 48ms\n",
    "![](https://cdn.jsdelivr.net/gh/Alephant6/PicBed/202205112311954.png)\n",
    "我感觉我自己的运行速度16ms还更快些"
   ],
   "metadata": {
    "collapsed": false,
    "pycharm": {
     "name": "#%% md\n"
    }
   }
  },
  {
   "cell_type": "code",
   "execution_count": null,
   "outputs": [],
   "source": [],
   "metadata": {
    "collapsed": false,
    "pycharm": {
     "name": "#%%\n"
    }
   }
  }
 ],
 "metadata": {
  "kernelspec": {
   "display_name": "Python 3",
   "language": "python",
   "name": "python3"
  },
  "language_info": {
   "codemirror_mode": {
    "name": "ipython",
    "version": 2
   },
   "file_extension": ".py",
   "mimetype": "text/x-python",
   "name": "python",
   "nbconvert_exporter": "python",
   "pygments_lexer": "ipython2",
   "version": "2.7.6"
  }
 },
 "nbformat": 4,
 "nbformat_minor": 0
}