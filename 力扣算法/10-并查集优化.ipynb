{
 "cells": [
  {
   "cell_type": "markdown",
   "source": [
    "quick\n",
    "\n",
    "力扣200"
   ],
   "metadata": {
    "collapsed": false,
    "pycharm": {
     "name": "#%% md\n"
    }
   }
  },
  {
   "cell_type": "code",
   "execution_count": null,
   "outputs": [],
   "source": [
    "class Solution:\n",
    "\n",
    "    def numIslands(self, grid):\n",
    "        if grid is None or len(grid) == 0:\n",
    "            return 0\n",
    "        row = len(grid)\n",
    "        col = len(grid[0])\n",
    "        waters = 0\n",
    "        uf = UnionFind(grid)\n",
    "        for i in range(0, row):\n",
    "            for j in range(0, col):\n",
    "                if grid[i][j] == '0':\n",
    "                    waters += 1\n",
    "                else:\n",
    "                    directions = [(0,1), (0,-1), (-1,0), (1,0)]\n",
    "                    for x, y in directions:\n",
    "                        x = x + i\n",
    "                        y = y + j\n",
    "                        if x>=0 and y>=0 and x<row and y<col and grid[x][y] == '1':\n",
    "                            uf.union(x*col+y, i*col+j)\n",
    "        return uf.getCount() - waters\n",
    "\n",
    "class UnionFind:\n",
    "    def __init__(self, grid):\n",
    "        row = len(grid)\n",
    "        col = len(grid[0])\n",
    "        self.root = [-1]*(row*col)\n",
    "        self.rank = [0]*(row*col)\n",
    "        self.count = row*col\n",
    "        for i in range(0, row*col):\n",
    "            self.root[i] = i\n",
    "\n",
    "    def find(self, x):\n",
    "        if x == self.root[x]:\n",
    "            return self.root[x]\n",
    "        else:\n",
    "            self.root[x] = self.find(self.root[x])\n",
    "            return self.root[x]\n",
    "\n",
    "    def union(self, x, y):\n",
    "        rootX = self.find(x)\n",
    "        rootY = self.find(y)\n",
    "        if rootX != rootY:\n",
    "            if self.rank[rootX] > self.rank[rootY]:\n",
    "                self.root[rootY] = rootX\n",
    "            elif self.rank[rootX] < self.rank[rootY]:\n",
    "                self.root[rootX] = rootY\n",
    "            else:\n",
    "                self.root[rootX] = rootY\n",
    "                self.rank[rootX] += 1\n",
    "            self.count -= 1\n",
    "\n",
    "    def getCount(self):\n",
    "        return self.count"
   ],
   "metadata": {
    "collapsed": false,
    "pycharm": {
     "name": "#%%\n"
    }
   }
  },
  {
   "cell_type": "markdown",
   "source": [
    "### 结果\n",
    "![](https://cdn.jsdelivr.net/gh/Alephant6/PicBed/202206092359744.png)"
   ],
   "metadata": {
    "collapsed": false,
    "pycharm": {
     "name": "#%% md\n"
    }
   }
  }
 ],
 "metadata": {
  "kernelspec": {
   "display_name": "Python 3",
   "language": "python",
   "name": "python3"
  },
  "language_info": {
   "codemirror_mode": {
    "name": "ipython",
    "version": 2
   },
   "file_extension": ".py",
   "mimetype": "text/x-python",
   "name": "python",
   "nbconvert_exporter": "python",
   "pygments_lexer": "ipython2",
   "version": "2.7.6"
  }
 },
 "nbformat": 4,
 "nbformat_minor": 0
}