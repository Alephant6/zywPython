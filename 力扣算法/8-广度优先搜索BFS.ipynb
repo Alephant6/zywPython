{
 "cells": [
  {
   "cell_type": "markdown",
   "metadata": {
    "pycharm": {
     "name": "#%% md\n"
    }
   },
   "source": [
    "1. 102\n",
    "2. 107\n",
    "3. 200"
   ]
  },
  {
   "cell_type": "markdown",
   "metadata": {
    "pycharm": {
     "name": "#%% md\n"
    }
   },
   "source": [
    "# 问题一：102"
   ]
  },
  {
   "cell_type": "code",
   "execution_count": 1,
   "metadata": {
    "pycharm": {
     "name": "#%%\n"
    }
   },
   "outputs": [],
   "source": [
    "from collections import deque"
   ]
  },
  {
   "cell_type": "code",
   "execution_count": 2,
   "metadata": {
    "pycharm": {
     "name": "#%%\n"
    }
   },
   "outputs": [],
   "source": [
    "# Definition for a binary tree node.\n",
    "# class TreeNode(object):\n",
    "#     def __init__(self, val=0, left=None, right=None):\n",
    "#         self.val = val\n",
    "#         self.left = left\n",
    "#         self.right = right\n",
    "class Solution(object):\n",
    "    def levelOrder(self, root):\n",
    "        \"\"\"\n",
    "        :type root: TreeNode\n",
    "        :rtype: List[List[int]]\n",
    "        \"\"\"\n",
    "        def BFS(root):\n",
    "            if root is None:\n",
    "                return []\n",
    "            result = []\n",
    "            q = deque()\n",
    "            q.append(root)\n",
    "            while len(q) > 0:\n",
    "                temp = []\n",
    "                size = len(q)\n",
    "                while size:\n",
    "                    cur = q.pop()\n",
    "                    temp.append(cur.val)\n",
    "                    if cur.left:\n",
    "                        q.appendleft(cur.left)\n",
    "                    if cur.right:\n",
    "                        q.appendleft(cur.right)\n",
    "                    size = size - 1\n",
    "                result.append(temp)\n",
    "            return result\n",
    "        return BFS(root)\n",
    "        "
   ]
  },
  {
   "cell_type": "markdown",
   "metadata": {
    "pycharm": {
     "name": "#%% md\n"
    }
   },
   "source": [
    "## 结果\n",
    "![IMG_0443](https://raw.githubusercontent.com/Alephant6/PicBed/main/IMG_0443.PNG)\n",
    "\n",
    "## 总结一开始失败的原因\n",
    "`deque.append()`是从右开始加的，这会导致'先进后出'与队列'先进先出'相反，故改用`deque.appendleft()`即可解决"
   ]
  },
  {
   "cell_type": "markdown",
   "metadata": {
    "pycharm": {
     "name": "#%% md\n"
    }
   },
   "source": [
    "# 问题二：107"
   ]
  },
  {
   "cell_type": "code",
   "execution_count": 3,
   "metadata": {
    "pycharm": {
     "name": "#%%\n"
    }
   },
   "outputs": [],
   "source": [
    "# Definition for a binary tree node.\n",
    "# class TreeNode(object):\n",
    "#     def __init__(self, val=0, left=None, right=None):\n",
    "#         self.val = val\n",
    "#         self.left = left\n",
    "#         self.right = right\n",
    "class Solution(object):\n",
    "    def levelOrderBottom(self, root):\n",
    "        \"\"\"\n",
    "        :type root: TreeNode\n",
    "        :rtype: List[List[int]]\n",
    "        \"\"\"\n",
    "        def BFS(root):\n",
    "            if root is None:\n",
    "                return []\n",
    "            result = []\n",
    "            q = deque()\n",
    "            q.append(root)\n",
    "            while len(q) > 0:\n",
    "                temp = []\n",
    "                size = len(q)\n",
    "                while size:\n",
    "                    cur = q.pop()\n",
    "                    temp.append(cur.val)\n",
    "                    if cur.left:\n",
    "                        q.appendleft(cur.left)\n",
    "                    if cur.right:\n",
    "                        q.appendleft(cur.right)\n",
    "                    size = size - 1\n",
    "                result.insert(0, temp)\n",
    "            return result\n",
    "        return BFS(root)"
   ]
  },
  {
   "cell_type": "markdown",
   "metadata": {
    "pycharm": {
     "name": "#%% md\n"
    }
   },
   "source": [
    "## 结果\n",
    "![IMG_0444](https://raw.githubusercontent.com/Alephant6/PicBed/main/IMG_0444.PNG)"
   ]
  },
  {
   "cell_type": "markdown",
   "metadata": {
    "pycharm": {
     "name": "#%% md\n"
    }
   },
   "source": [
    "# 问题三：200"
   ]
  },
  {
   "cell_type": "code",
   "execution_count": null,
   "metadata": {
    "pycharm": {
     "name": "#%%\n"
    }
   },
   "outputs": [],
   "source": [
    "class UnionFind:\n",
    "    def __init__(self, grid):\n",
    "        row = len(grid)\n",
    "        col = len(grid[0])\n",
    "        self.root = [-1] * (row*col)\n",
    "        self.count = row*col\n",
    "        for i in range(row*col):\n",
    "            self.root[i] = i\n",
    "            \n",
    "    def find(self, x):\n",
    "        # find the root of x\n",
    "        if x == self.root[x]:\n",
    "            return self.root[x]\n",
    "        else: \n",
    "            self.root[x] = self.find(self.root[x])\n",
    "            return self.root[x]\n",
    "    \n",
    "    def union(self, x, y):\n",
    "        rootX = self.find(x)\n",
    "        rootY = self.find(y)\n",
    "        if rootX != rootY:\n",
    "            self.root[rootX] = rootY\n",
    "            self.count -= 1\n",
    "            \n",
    "            \n",
    "class Solution:\n",
    "    def numIslands(self, grid):\n",
    "        \n",
    "        if grid is None or len(grid) == 0:\n",
    "            return 0\n",
    "        g = UnionFind(grid)\n",
    "        row = len(grid)\n",
    "        col = len(grid[0])\n",
    "        q = deque()\n",
    "        for i in range(0,row):\n",
    "            for j in range(0,col):\n",
    "                if grid[i][j] == \"1\":\n",
    "                    gIndex = i*col + j\n",
    "                    g.root[gIndex] = gIndex\n",
    "                    q.append([i,j])\n",
    "                    grid[i][j] = \"0\"\n",
    "                    while  len(q)>0:\n",
    "                        cur =  q.pop()\n",
    "                        x = cur[0]\n",
    "                        y = cur[1]\n",
    "                        if x-1 >= 0 and grid[x-1][y] == \"1\":\n",
    "#                             grid[x-1][y] = \"0\"\n",
    "                            g.root[(x-1)*col+y] = gIndex\n",
    "                        if y-1 >= 0 and grid[x][y-1] == \"1\":\n",
    "#                             grid[x][y-1] = \"0\"\n",
    "                            g.root[(x)*col+y-1] = gIndex\n",
    "                        if x+1 < row and grid[x+1][y] == \"1\":\n",
    "#                             grid[x+1][y] = \"0\"\n",
    "                            g.root[(x+1)*col+y] = gIndex\n",
    "                        if y+1 < col and grid[x][y+1] == \"1\":\n",
    "#                             grid[x][y+1] = \"0\"\n",
    "                            g.root[(x)*col+y+1] = gIndex\n",
    "        for m in range(row*col):\n",
    "            for n in range(row*col):\n",
    "                g.union(m,n)\n",
    "        return g.count"
   ]
  },
  {
   "cell_type": "code",
   "execution_count": null,
   "metadata": {
    "pycharm": {
     "name": "#%%\n"
    }
   },
   "outputs": [],
   "source": []
  }
 ],
 "metadata": {
  "kernelspec": {
   "display_name": "Python 3 (ipykernel)",
   "language": "python",
   "name": "python3"
  },
  "language_info": {
   "codemirror_mode": {
    "name": "ipython",
    "version": 3
   },
   "file_extension": ".py",
   "mimetype": "text/x-python",
   "name": "python",
   "nbconvert_exporter": "python",
   "pygments_lexer": "ipython3",
   "version": "3.9.10+"
  }
 },
 "nbformat": 4,
 "nbformat_minor": 2
}
