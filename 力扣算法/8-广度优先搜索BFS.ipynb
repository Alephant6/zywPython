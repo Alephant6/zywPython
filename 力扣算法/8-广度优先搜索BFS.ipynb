{
 "cells": [
  {
   "cell_type": "markdown",
   "metadata": {},
   "source": [
    "1. 102\n",
    "2. 107\n",
    "3. 200"
   ]
  },
  {
   "cell_type": "markdown",
   "metadata": {},
   "source": [
    "# 问题一：102"
   ]
  },
  {
   "cell_type": "code",
   "execution_count": 1,
   "metadata": {},
   "outputs": [],
   "source": [
    "from collections import deque"
   ]
  },
  {
   "cell_type": "code",
   "execution_count": 2,
   "metadata": {},
   "outputs": [],
   "source": [
    "# Definition for a binary tree node.\n",
    "# class TreeNode(object):\n",
    "#     def __init__(self, val=0, left=None, right=None):\n",
    "#         self.val = val\n",
    "#         self.left = left\n",
    "#         self.right = right\n",
    "class Solution(object):\n",
    "    def levelOrder(self, root):\n",
    "        \"\"\"\n",
    "        :type root: TreeNode\n",
    "        :rtype: List[List[int]]\n",
    "        \"\"\"\n",
    "        def BFS(root):\n",
    "            if root is None:\n",
    "                return []\n",
    "            result = []\n",
    "            q = deque()\n",
    "            q.append(root)\n",
    "            while len(q) > 0:\n",
    "                temp = []\n",
    "                size = len(q)\n",
    "                while size:\n",
    "                    cur = q.pop()\n",
    "                    temp.append(cur.val)\n",
    "                    if cur.left:\n",
    "                        q.appendleft(cur.left)\n",
    "                    if cur.right:\n",
    "                        q.appendleft(cur.right)\n",
    "                    size = size - 1\n",
    "                result.append(temp)\n",
    "            return result\n",
    "        return BFS(root)\n",
    "        "
   ]
  },
  {
   "cell_type": "markdown",
   "metadata": {},
   "source": [
    "## 结果\n",
    "![IMG_0443](https://raw.githubusercontent.com/Alephant6/PicBed/main/IMG_0443.PNG)\n",
    "\n",
    "## 总结一开始失败的原因\n",
    "`deque.append()`是从右开始加的，这会导致'先进后出'与队列'先进先出'相反，故改用`deque.appendleft()`即可解决"
   ]
  },
  {
   "cell_type": "code",
   "execution_count": null,
   "metadata": {},
   "outputs": [],
   "source": []
  }
 ],
 "metadata": {
  "kernelspec": {
   "display_name": "Python 3 (ipykernel)",
   "language": "python",
   "name": "python3"
  },
  "language_info": {
   "codemirror_mode": {
    "name": "ipython",
    "version": 3
   },
   "file_extension": ".py",
   "mimetype": "text/x-python",
   "name": "python",
   "nbconvert_exporter": "python",
   "pygments_lexer": "ipython3",
   "version": "3.9.10+"
  }
 },
 "nbformat": 4,
 "nbformat_minor": 2
}
