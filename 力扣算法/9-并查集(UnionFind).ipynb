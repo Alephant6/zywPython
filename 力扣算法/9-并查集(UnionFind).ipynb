{
 "cells": [
  {
   "cell_type": "markdown",
   "metadata": {
    "pycharm": {
     "name": "#%% md\n"
    }
   },
   "source": [
    "1. 200\n",
    "2. 547"
   ]
  },
  {
   "cell_type": "markdown",
   "metadata": {
    "pycharm": {
     "name": "#%% md\n"
    }
   },
   "source": [
    "# 问题一：200\n",
    "## 自己尝试"
   ]
  },
  {
   "cell_type": "code",
   "execution_count": null,
   "outputs": [],
   "source": [
    "from collections import deque"
   ],
   "metadata": {
    "collapsed": false,
    "pycharm": {
     "name": "#%%\n"
    }
   }
  },
  {
   "cell_type": "code",
   "execution_count": null,
   "metadata": {
    "pycharm": {
     "name": "#%%\n"
    }
   },
   "outputs": [],
   "source": [
    "class UnionFind:\n",
    "    def __init__(self, grid):\n",
    "        row = len(grid)\n",
    "        col = len(grid[0])\n",
    "        self.root = [-1] * (row*col)\n",
    "        self.count = row*col\n",
    "        for i in range(row*col):\n",
    "            self.root[i] = i\n",
    "            \n",
    "    def find(self, x):\n",
    "        # find the root of x\n",
    "        if x == self.root[x]:\n",
    "            return x\n",
    "        else: \n",
    "            self.root[x] = self.find(self.root[x])\n",
    "            return self.root[x]\n",
    "    \n",
    "    def union(self, x, y):\n",
    "        rootX = self.find(x)\n",
    "        rootY = self.find(y)\n",
    "        if rootX != rootY:\n",
    "            self.root[rootX] = rootY\n",
    "            self.count -= 1\n",
    "            \n",
    "            \n",
    "class Solution:\n",
    "    def numIslands(self, grid):\n",
    "        \n",
    "        if grid is None or len(grid) == 0:\n",
    "            return 0\n",
    "        g = UnionFind(grid)\n",
    "        row = len(grid)\n",
    "        col = len(grid[0])\n",
    "        q = deque()\n",
    "        for i in range(0,g.row):\n",
    "            for j in range(0,g.col):\n",
    "                if grid[i][j] == \"1\":\n",
    "                    gIndex = i*g.col + j\n",
    "                    g.root[gIndex] = gIndex\n",
    "                    q.append([i,j])\n",
    "                    grid[i][j] = \"0\"\n",
    "                    while  len(q)>0:\n",
    "                        cur =  q.pop()\n",
    "                        x = cur[0]\n",
    "                        y = cur[1]\n",
    "                        if x-1 >= 0 and grid[x-1][y] == \"1\":\n",
    "                            g.root[(x-1)*g.col+y] = gIndex\n",
    "                        if y-1 >= 0 and grid[x][y-1] == \"1\":\n",
    "                            g.root[(x)*g.col+y-1] = gIndex\n",
    "                        if x+1 < row and grid[x+1][y] == \"1\":\n",
    "                            g.root[(x+1)*g.col+y] = gIndex\n",
    "                        if y+1 < col and grid[x][y+1] == \"1\":\n",
    "                            g.root[(x)*g.col+y+1] = gIndex\n",
    "        for m in range(g.row*g.col):\n",
    "            for n in range(g.row*g.col):\n",
    "                g.union(m,n)\n",
    "        return g.count"
   ]
  },
  {
   "cell_type": "markdown",
   "source": [
    "## 视频讲解"
   ],
   "metadata": {
    "collapsed": false,
    "pycharm": {
     "name": "#%% md\n"
    }
   }
  },
  {
   "cell_type": "code",
   "execution_count": 1,
   "outputs": [],
   "source": [
    "class UnionFind:\n",
    "    def __init__(self, grid):\n",
    "        row = len(grid)\n",
    "        col = len(grid[0])\n",
    "        self.root = [-1] * (row*col)\n",
    "        self.count = row*col\n",
    "        for i in range(row*col):\n",
    "            self.root[i] = i\n",
    "\n",
    "    def find(self, x):\n",
    "        # find the root of x\n",
    "        if x == self.root[x]:\n",
    "            return x\n",
    "        else:\n",
    "            self.root[x] = self.find(self.root[x])\n",
    "            return self.root[x]\n",
    "\n",
    "    def union(self, x, y):\n",
    "        rootX = self.find(x)\n",
    "        rootY = self.find(y)\n",
    "        if rootX != rootY:\n",
    "            self.root[rootX] = rootY\n",
    "            self.count -= 1\n",
    "\n",
    "\n",
    "class Solution:\n",
    "    def numIslands(self, grid):\n",
    "\n",
    "        if grid is None or len(grid) == 0:\n",
    "            return 0\n",
    "        uf = UnionFind(grid)\n",
    "        row = len(grid)\n",
    "        col = len(grid[0])\n",
    "        waters = 0\n",
    "        directions = [[0,1], [0,-1], [1,0], [-1,0]]\n",
    "        for i in range(row):\n",
    "            for j in range(col):\n",
    "                if grid[i][j] == '0':\n",
    "                    waters += 1\n",
    "                else:\n",
    "                    for d in directions:\n",
    "                        x = i + d[0]\n",
    "                        y = i + d[1]\n",
    "                        if x >= 0 and x < row and y >= 0 and y < col and grid[x][y] == '1':\n",
    "                            uf.union(x*col+y, i*col+j)\n",
    "        return uf.count - waters"
   ],
   "metadata": {
    "collapsed": false,
    "pycharm": {
     "name": "#%%\n"
    }
   }
  },
  {
   "cell_type": "markdown",
   "source": [
    "# 问题二：547"
   ],
   "metadata": {
    "collapsed": false,
    "pycharm": {
     "name": "#%% md\n"
    }
   }
  },
  {
   "cell_type": "code",
   "execution_count": null,
   "outputs": [],
   "source": [
    "class UnionFind:\n",
    "    def __init__(self, grid):\n",
    "        n = len(grid)\n",
    "        self.root = [-1] * n\n",
    "        self.count = n\n",
    "        for i in range(n):\n",
    "            self.root[i] = i\n",
    "\n",
    "    def find(self, x):\n",
    "        # find the root of x\n",
    "        if x == self.root[x]:\n",
    "            return x\n",
    "        else:\n",
    "            self.root[x] = self.find(self.root[x])\n",
    "            return self.root[x]\n",
    "\n",
    "    def union(self, x, y):\n",
    "        rootX = self.find(x)\n",
    "        rootY = self.find(y)\n",
    "        if rootX != rootY:\n",
    "            self.root[rootX] = rootY\n",
    "            self.count -= 1\n",
    "\n",
    "class Solution(object):\n",
    "    def findCircleNum(self, isConnected):\n",
    "        \"\"\"\n",
    "        :type isConnected: List[List[int]]\n",
    "        :rtype: int\n",
    "        \"\"\"\n",
    "        if isConnected is None or len(isConnected) == 0:\n",
    "            return 0\n",
    "        uf = UnionFind(isConnected)\n",
    "        row = len(isConnected)\n",
    "        col = len(isConnected[0])\n",
    "        waters = 0\n",
    "        for i in range(row):\n",
    "            for j in range(i+1,col):\n",
    "                if isConnected[i][j] == 1:\n",
    "                    uf.union(i,j)\n",
    "        return uf.count\n",
    "\n"
   ],
   "metadata": {
    "collapsed": false,
    "pycharm": {
     "name": "#%%\n"
    }
   }
  }
 ],
 "metadata": {
  "kernelspec": {
   "display_name": "Python 3 (ipykernel)",
   "language": "python",
   "name": "python3"
  },
  "language_info": {
   "codemirror_mode": {
    "name": "ipython",
    "version": 3
   },
   "file_extension": ".py",
   "mimetype": "text/x-python",
   "name": "python",
   "nbconvert_exporter": "python",
   "pygments_lexer": "ipython3",
   "version": "3.9.10+"
  }
 },
 "nbformat": 4,
 "nbformat_minor": 2
}