{
 "cells": [
  {
   "cell_type": "markdown",
   "metadata": {},
   "source": [
    "1. 200\n",
    "2. 547"
   ]
  },
  {
   "cell_type": "markdown",
   "metadata": {},
   "source": [
    "# 问题一：200\n",
    "## 自己尝试"
   ]
  },
  {
   "cell_type": "code",
   "execution_count": null,
   "metadata": {},
   "outputs": [],
   "source": [
    "class UnionFind:\n",
    "    def __ init__(self, grid):\n",
    "        row = len(grid)\n",
    "        col = len(grid[0])\n",
    "        self.root = [-1] * (row*col)\n",
    "        self.count = row*col\n",
    "        for i in range(row*col):\n",
    "            self.root[i] = i\n",
    "            \n",
    "    def find(self, x):\n",
    "        # find the root of x\n",
    "        if x == self.root[x]:\n",
    "            return self.root[x]\n",
    "        else: \n",
    "            self.root[x] = self.find(self.root[x])\n",
    "            return self.root[x]\n",
    "    \n",
    "    def union(self, x, y):\n",
    "        rootX = self.find(x)\n",
    "        rootY = self.find(y)\n",
    "        if rootX != rootY:\n",
    "            self.root[rootX] = rootY\n",
    "            self.count -= 1\n",
    "            \n",
    "            \n",
    "class Solution:\n",
    "    def numIslands(self, grid):\n",
    "        \n",
    "        if grid is None or len(grid) == 0:\n",
    "            return 0\n",
    "        g = UnionFind(grid)\n",
    "\n",
    "        q = deque()\n",
    "        for i in range(0,g.row):\n",
    "            for j in range(0,g.col):\n",
    "                if grid[i][j] == \"1\":\n",
    "                    gIndex = i*g.col + j\n",
    "                    g.root[gIndex] = gIndex\n",
    "                    q.append([i,j])\n",
    "                    grid[i][j] = \"0\"\n",
    "                    while  len(q)>0:\n",
    "                        cur =  q.pop()\n",
    "                        x = cur[0]\n",
    "                        y = cur[1]\n",
    "                        if x-1 >= 0 and grid[x-1][y] == \"1\":\n",
    "                            g.root[(x-1)*g.col+y] = gIndex\n",
    "                        if y-1 >= 0 and grid[x][y-1] == \"1\":\n",
    "                            g.root[(x)*g.col+y-1] = gIndex\n",
    "                        if x+1 < row and grid[x+1][y] == \"1\":\n",
    "                            g.root[(x+1)*g.col+y] = gIndex\n",
    "                        if y+1 < col and grid[x][y+1] == \"1\":\n",
    "                            g.root[(x)*g.col+y+1] = gIndex\n",
    "        for m in range(g.row*g.col):\n",
    "            for n in range(g.row*g.col):\n",
    "                g.union(m,n)\n",
    "        return g.count"
   ]
  }
 ],
 "metadata": {
  "kernelspec": {
   "display_name": "Python 3 (ipykernel)",
   "language": "python",
   "name": "python3"
  },
  "language_info": {
   "codemirror_mode": {
    "name": "ipython",
    "version": 3
   },
   "file_extension": ".py",
   "mimetype": "text/x-python",
   "name": "python",
   "nbconvert_exporter": "python",
   "pygments_lexer": "ipython3",
   "version": "3.9.10+"
  }
 },
 "nbformat": 4,
 "nbformat_minor": 2
}
