{
 "cells": [
  {
   "cell_type": "markdown",
   "source": [
    "@date: 30 May, 2022\n",
    "@author: Alephant"
   ],
   "metadata": {
    "collapsed": false,
    "pycharm": {
     "name": "#%% md\n"
    }
   }
  },
  {
   "cell_type": "markdown",
   "source": [
    "# 分治法\n",
    "大问题分解成小问题，求解小问题，然后将结果合并\n",
    "\n",
    "## 举例-归并排序\n",
    "![](https://cdn.jsdelivr.net/gh/Alephant6/PicBed/202205301606053.png)\n",
    "\n",
    "## 力扣题目\n",
    "1. 169\n",
    "2. 53"
   ],
   "metadata": {
    "collapsed": false,
    "pycharm": {
     "name": "#%% md\n"
    }
   }
  },
  {
   "cell_type": "markdown",
   "source": [
    "# 问题一: 169\n",
    "https://leetcode.cn/problems/majority-element/\n",
    "## 自己思路\n",
    "哈希表记录"
   ],
   "metadata": {
    "collapsed": false,
    "pycharm": {
     "name": "#%% md\n"
    }
   }
  },
  {
   "cell_type": "code",
   "execution_count": 1,
   "outputs": [],
   "source": [
    "class Solution(object):\n",
    "    def majorityElement(self, nums):\n",
    "        \"\"\"\n",
    "        :type nums: List[int]\n",
    "        :rtype: int\n",
    "        \"\"\"\n",
    "        n = len(nums)\n",
    "        if n == 1:\n",
    "            return nums[0]\n",
    "        hashTable = {}\n",
    "        for i in range(n):\n",
    "            if nums[i] in hashTable:\n",
    "                hashTable[nums[i]] += 1\n",
    "            else:\n",
    "                hashTable[nums[i]] = 1\n",
    "        for key in hashTable:\n",
    "            if hashTable[key] > n/2:\n",
    "                return key\n",
    "        return -1\n"
   ],
   "metadata": {
    "collapsed": false,
    "pycharm": {
     "name": "#%%\n"
    }
   }
  },
  {
   "cell_type": "markdown",
   "source": [
    "## zyw\n",
    "```python\n",
    "class Solution(object):\n",
    "    def majorityElement(self, nums):\n",
    "        \"\"\"\n",
    "        :type nums: List[int]\n",
    "        :rtype: int\n",
    "        \"\"\"\n",
    "        if len(nums) == 0:\n",
    "            return 0\n",
    "        n = len(nums)\n",
    "        nums.sort()\n",
    "        for i in range(0,n/2+1):\n",
    "            if nums[i] == nums[i+n/2]:\n",
    "                return nums[i]\n",
    "        return 0\n",
    "```"
   ],
   "metadata": {
    "collapsed": false,
    "pycharm": {
     "name": "#%% md\n"
    }
   }
  },
  {
   "cell_type": "markdown",
   "source": [
    "## 视频讲解"
   ],
   "metadata": {
    "collapsed": false,
    "pycharm": {
     "name": "#%% md\n"
    }
   }
  },
  {
   "cell_type": "code",
   "execution_count": 6,
   "outputs": [],
   "source": [
    "class Solution(object):\n",
    "    def majorityElement(self, nums):\n",
    "        \"\"\"\n",
    "        :type nums: List[int]\n",
    "        :rtype: int\n",
    "        \"\"\"\n",
    "        def getMajority(nums, left, right):\n",
    "            if left == right:\n",
    "                return nums[left]\n",
    "            mid = left + (right - left) / 2\n",
    "            leftMajority = getMajority(nums, left, mid)\n",
    "            rightMajority = getMajority(nums, mid + 1, right)\n",
    "            if leftMajority == rightMajority:\n",
    "                return leftMajority\n",
    "            leftCount = 0\n",
    "            rightCount = 0\n",
    "            for i in range(left, right + 1):\n",
    "                if nums[i] == leftMajority:\n",
    "                    leftCount += 1\n",
    "                elif nums[i] == rightMajority:\n",
    "                    rightCount += 1\n",
    "            if leftCount > rightCount:\n",
    "                return leftMajority\n",
    "            else:\n",
    "                return rightMajority\n",
    "        return getMajority(nums, 0, len(nums) - 1)"
   ],
   "metadata": {
    "collapsed": false,
    "pycharm": {
     "name": "#%%\n"
    }
   }
  },
  {
   "cell_type": "markdown",
   "source": [
    "# 问题二: 53\n",
    "## 自己思路\n",
    "**失败**"
   ],
   "metadata": {
    "collapsed": false,
    "pycharm": {
     "name": "#%% md\n"
    }
   }
  },
  {
   "cell_type": "code",
   "execution_count": 13,
   "outputs": [],
   "source": [
    "class Solution(object):\n",
    "    def maxSubArray(self, nums):\n",
    "        \"\"\"\n",
    "        :type nums: List[int]\n",
    "        :rtype: int\n",
    "        \"\"\"\n",
    "        def getMaxSubArray(nums, left, right):\n",
    "            n = len(nums)\n",
    "            if left == right:\n",
    "                return nums[left]\n",
    "            mid = left + (right - left) / 2\n",
    "            leftSum = getMaxSubArray(nums, left, mid)\n",
    "            rightSum = getMaxSubArray(nums, mid + 1, right)\n",
    "            if leftSum + rightSum > 0:\n",
    "                return leftSum+rightSum\n",
    "            elif leftSum > 0:\n",
    "                return leftSum\n",
    "            elif rightSum > 0:\n",
    "                return rightSum\n",
    "            else:\n",
    "                return 0\n"
   ],
   "metadata": {
    "collapsed": false,
    "pycharm": {
     "name": "#%%\n"
    }
   }
  },
  {
   "cell_type": "markdown",
   "source": [
    "## 视频思路"
   ],
   "metadata": {
    "collapsed": false,
    "pycharm": {
     "name": "#%% md\n"
    }
   }
  },
  {
   "cell_type": "code",
   "execution_count": null,
   "outputs": [],
   "source": [
    "class Solution(object):\n",
    "    def maxSubArray(self, nums):\n",
    "        \"\"\"\n",
    "        :type nums: List[int]\n",
    "        :rtype: int\n",
    "        \"\"\"\n",
    "        def getMax(nums, left, right):\n",
    "            if left == right:\n",
    "                return nums[left]\n",
    "            mid = left + (right - left) / 2\n",
    "            leftMax = getMax(nums, left, mid)\n",
    "            rightMax = getMax(nums, mid + 1, right)\n",
    "            crossMax = getCrossMax(nums, left, right)\n",
    "            return max(leftMax, rightMax, crossMax)\n",
    "\n",
    "        def getCrossMax(nums, left, right):\n",
    "            mid = left + (right - left) / 2\n",
    "            leftSum = nums[mid]\n",
    "            leftMax = leftSum\n",
    "            for i in range(mid-1,left-1,-1):\n",
    "                leftSum = leftSum + nums[i]\n",
    "                leftMax = max(leftMax, leftSum)\n",
    "            rightSum = nums[mid+1]\n",
    "            rightMax = rightSum\n",
    "            for i in range(mid+2, right+1):\n",
    "                rightSum = rightSum + nums[i]\n",
    "                rightMax = max(rightMax, rightSum)\n",
    "            return leftMax+rightMax\n",
    "\n",
    "        return getMax(nums,0,len(nums)-1)"
   ],
   "metadata": {
    "collapsed": false,
    "pycharm": {
     "name": "#%%\n"
    }
   }
  },
  {
   "cell_type": "markdown",
   "source": [
    "### 结果\n",
    "![](https://cdn.jsdelivr.net/gh/Alephant6/PicBed/202205301744463.png)"
   ],
   "metadata": {
    "collapsed": false,
    "pycharm": {
     "name": "#%% md\n"
    }
   }
  },
  {
   "cell_type": "code",
   "execution_count": null,
   "outputs": [],
   "source": [],
   "metadata": {
    "collapsed": false,
    "pycharm": {
     "name": "#%%\n"
    }
   }
  }
 ],
 "metadata": {
  "kernelspec": {
   "display_name": "Python 3",
   "language": "python",
   "name": "python3"
  },
  "language_info": {
   "codemirror_mode": {
    "name": "ipython",
    "version": 2
   },
   "file_extension": ".py",
   "mimetype": "text/x-python",
   "name": "python",
   "nbconvert_exporter": "python",
   "pygments_lexer": "ipython2",
   "version": "2.7.6"
  }
 },
 "nbformat": 4,
 "nbformat_minor": 0
}