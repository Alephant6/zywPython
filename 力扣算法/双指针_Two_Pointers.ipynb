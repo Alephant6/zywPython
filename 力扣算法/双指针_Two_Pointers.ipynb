{
 "cells": [
  {
   "cell_type": "markdown",
   "source": [
    "@date: 25 May, 2022\n",
    "\n",
    "@author: Alephant"
   ],
   "metadata": {
    "collapsed": false,
    "pycharm": {
     "name": "#%% md\n"
    }
   }
  },
  {
   "cell_type": "markdown",
   "source": [
    "## 指针分类\n",
    "1. 普通双指针\n",
    "2. 对撞双指针\n",
    "3. 快慢双指针\n",
    "## 力扣\n",
    "1. 1\n",
    "2. 141\n",
    "3. 881"
   ],
   "metadata": {
    "collapsed": false,
    "pycharm": {
     "name": "#%% md\n"
    }
   }
  },
  {
   "cell_type": "markdown",
   "source": [
    "# 问题一：1. 两数之和\n",
    "给定一个整数数组 nums 和一个整数目标值 target，请你在该数组中找出 和为目标值 target  的那 两个 整数，并返回它们的数组下标。\n",
    "\n",
    "你可以假设每种输入只会对应一个答案。但是，数组中同一个元素在答案里不能重复出现。\n",
    "\n",
    "你可以按任意顺序返回答案。"
   ],
   "metadata": {
    "collapsed": false,
    "pycharm": {
     "name": "#%% md\n"
    }
   }
  },
  {
   "cell_type": "markdown",
   "source": [
    "## 思考一"
   ],
   "metadata": {
    "collapsed": false,
    "pycharm": {
     "name": "#%% md\n"
    }
   }
  },
  {
   "cell_type": "code",
   "execution_count": 1,
   "outputs": [],
   "source": [
    "class Solution(object):\n",
    "    def twoSum(self, nums, target):\n",
    "        \"\"\"\n",
    "        :type nums: List[int]\n",
    "        :type target: int\n",
    "        :rtype: List[int]\n",
    "        \"\"\"\n",
    "        n = len(nums)\n",
    "        for i in range(0, n-1):\n",
    "            for j in range(i+1, n):\n",
    "                if nums[i] + nums[j] == target:\n",
    "                    return [i, j]\n",
    "        return None\n"
   ],
   "metadata": {
    "collapsed": false,
    "pycharm": {
     "name": "#%%\n"
    }
   }
  },
  {
   "cell_type": "markdown",
   "source": [
    "### 结果\n",
    "![](https://cdn.jsdelivr.net/gh/Alephant6/PicBed/202205251036230.png)"
   ],
   "metadata": {
    "collapsed": false,
    "pycharm": {
     "name": "#%% md\n"
    }
   }
  },
  {
   "cell_type": "markdown",
   "source": [
    "# 问题二：141. 环形链表\n",
    "给你一个链表的头节点 head ，判断链表中是否有环。\n",
    "\n",
    "如果链表中有某个节点，可以通过连续跟踪 next 指针再次到达，则链表中存在环。 为了表示给定链表中的环，评测系统内部使用整数 pos 来表示链表尾连接到链表中的位置（索引从 0 开始）。注意：pos 不作为参数进行传递 。仅仅是为了标识链表的实际情况。\n",
    "\n",
    "如果链表中存在环 ，则返回 true 。 否则，返回 false 。"
   ],
   "metadata": {
    "collapsed": false,
    "pycharm": {
     "name": "#%% md\n"
    }
   }
  },
  {
   "cell_type": "code",
   "execution_count": 2,
   "outputs": [],
   "source": [
    "# Definition for singly-linked list.\n",
    "# class ListNode(object):\n",
    "#     def __init__(self, x):\n",
    "#         self.val = x\n",
    "#         self.next = None\n",
    "\n",
    "class Solution(object):\n",
    "    def hasCycle(self, head):\n",
    "        \"\"\"\n",
    "        :type head: ListNode\n",
    "        :rtype: bool\n",
    "        \"\"\"\n",
    "        if head == None or head.next == None or head.next.next == None:\n",
    "            return False\n",
    "\n",
    "        slow = head\n",
    "        fast = slow\n",
    "\n",
    "        while fast.next and slow.next and fast.next.next:\n",
    "            slow = slow.next\n",
    "            fast = fast.next.next\n",
    "            if slow == fast:\n",
    "                return True\n",
    "        return False"
   ],
   "metadata": {
    "collapsed": false,
    "pycharm": {
     "name": "#%%\n"
    }
   }
  },
  {
   "cell_type": "markdown",
   "source": [
    "### 结果\n",
    "![](https://cdn.jsdelivr.net/gh/Alephant6/PicBed/202205251103852.png)"
   ],
   "metadata": {
    "collapsed": false,
    "pycharm": {
     "name": "#%% md\n"
    }
   }
  },
  {
   "cell_type": "markdown",
   "source": [
    "# 问题三：881. 救生艇\n",
    "给定数组 people 。people[i]表示第 i 个人的体重 ，船的数量不限，每艘船可以承载的最大重量为 limit。\n",
    "\n",
    "每艘船最多可同时载两人，但条件是这些人的重量之和最多为 limit。\n",
    "\n",
    "返回 承载所有人所需的最小船数 。"
   ],
   "metadata": {
    "collapsed": false,
    "pycharm": {
     "name": "#%% md\n"
    }
   }
  },
  {
   "cell_type": "markdown",
   "source": [
    " ## 思路一："
   ],
   "metadata": {
    "collapsed": false,
    "pycharm": {
     "name": "#%% md\n"
    }
   }
  },
  {
   "cell_type": "code",
   "execution_count": 3,
   "outputs": [],
   "source": [
    "class Solution(object):\n",
    "    def numRescueBoats(self, people, limit):\n",
    "        \"\"\"\n",
    "        :type people: List[int]\n",
    "        :type limit: int\n",
    "        :rtype: int\n",
    "        \"\"\"\n",
    "        people.sort(reverse=True) #\n",
    "        counts = 0\n",
    "        if people[0] == limit:\n",
    "            counts = people.count(limit)\n",
    "        p = counts\n",
    "        q = len(people)-1\n",
    "        while p <= q:\n",
    "            weight = people[p] + people[q]\n",
    "            if weight <= limit:\n",
    "                counts += 1\n",
    "                p += 1\n",
    "                q -= 1\n",
    "            elif weight > limit:\n",
    "                counts += 1\n",
    "                p += 1\n",
    "        return counts"
   ],
   "metadata": {
    "collapsed": false,
    "pycharm": {
     "name": "#%%\n"
    }
   }
  },
  {
   "cell_type": "code",
   "execution_count": 4,
   "outputs": [
    {
     "data": {
      "text/plain": "3"
     },
     "execution_count": 4,
     "metadata": {},
     "output_type": "execute_result"
    }
   ],
   "source": [
    "test = Solution()\n",
    "people = [3,2,2,1]\n",
    "limit = 3\n",
    "test.numRescueBoats(people,limit)"
   ],
   "metadata": {
    "collapsed": false,
    "pycharm": {
     "name": "#%%\n"
    }
   }
  },
  {
   "cell_type": "markdown",
   "source": [
    "### 结果\n",
    "![](https://cdn.jsdelivr.net/gh/Alephant6/PicBed/202205251256204.png)\n",
    "\n",
    "![](https://cdn.jsdelivr.net/gh/Alephant6/PicBed/202205251258611.png)"
   ],
   "metadata": {
    "collapsed": false,
    "pycharm": {
     "name": "#%% md\n"
    }
   }
  },
  {
   "cell_type": "markdown",
   "source": [
    "## 思路二\n",
    "太复杂了，失败了，用的最基础想法"
   ],
   "metadata": {
    "collapsed": false,
    "pycharm": {
     "name": "#%% md\n"
    }
   }
  },
  {
   "cell_type": "code",
   "execution_count": 5,
   "outputs": [],
   "source": [
    "class Solution(object):\n",
    "    def numRescueBoats(self, people, limit):\n",
    "        \"\"\"\n",
    "        :type people: List[int]\n",
    "        :type limit: int\n",
    "        :rtype: int\n",
    "        \"\"\"\n",
    "        n = len(people)\n",
    "        counts = 0\n",
    "        for i in range(0, n-1):\n",
    "            maxWeight = 0\n",
    "            maxJ = 0\n",
    "            for j in range(i+1, n):\n",
    "                temp = people[i] + people[j]\n",
    "                if temp == limit:\n",
    "                    people.remove(people[i])\n",
    "                    people.remove(people[j])\n",
    "                    counts += 1\n",
    "                else:\n",
    "                    if temp < limit and temp > maxWeight:\n",
    "                        maxWeight = temp\n",
    "                        maxJ = j\n",
    "            people.remove(people[i])\n",
    "            counts += 1\n",
    "            if maxJ:\n",
    "                people.remove(people[maxJ])\n",
    "        return counts\n"
   ],
   "metadata": {
    "collapsed": false,
    "pycharm": {
     "name": "#%%\n"
    }
   }
  },
  {
   "cell_type": "code",
   "execution_count": 6,
   "outputs": [],
   "source": [
    "class Solution(object):\n",
    "    def numRescueBoats(self, people, limit):\n",
    "        \"\"\"\n",
    "        :type people: List[int]\n",
    "        :type limit: int\n",
    "        :rtype: int\n",
    "        \"\"\"\n",
    "        n = len(people)\n",
    "        counts = 0\n",
    "        for i in range(0, n - 1):\n",
    "            if people[i] == 0: continue\n",
    "            if people[i] == limit:\n",
    "                counts += 1\n",
    "                continue\n",
    "            maxWeight = 0\n",
    "            maxJ = 0\n",
    "            for j in range(i + 1, n):\n",
    "                if people[j] == 0: continue\n",
    "                temp = people[i] + people[j]\n",
    "                if temp == limit:\n",
    "                    people[i] = 0\n",
    "                    people[j] = 0\n",
    "                    counts += 1\n",
    "                else:\n",
    "                    if temp < limit and temp > maxWeight:\n",
    "                        maxWeight = temp\n",
    "                        maxJ = j\n",
    "            if temp != limit:\n",
    "                people[i] = 0\n",
    "                counts += 1\n",
    "                people[maxJ] = 0\n",
    "        return counts"
   ],
   "metadata": {
    "collapsed": false,
    "pycharm": {
     "name": "#%%\n"
    }
   }
  },
  {
   "cell_type": "code",
   "execution_count": 7,
   "outputs": [
    {
     "data": {
      "text/plain": "1"
     },
     "execution_count": 7,
     "metadata": {},
     "output_type": "execute_result"
    }
   ],
   "source": [
    "test = Solution()\n",
    "people = [1,2]\n",
    "limit = 3\n",
    "test.numRescueBoats(people,limit)"
   ],
   "metadata": {
    "collapsed": false,
    "pycharm": {
     "name": "#%%\n"
    }
   }
  },
  {
   "cell_type": "code",
   "execution_count": 7,
   "outputs": [],
   "source": [],
   "metadata": {
    "collapsed": false,
    "pycharm": {
     "name": "#%%\n"
    }
   }
  }
 ],
 "metadata": {
  "kernelspec": {
   "display_name": "Python 3",
   "language": "python",
   "name": "python3"
  },
  "language_info": {
   "codemirror_mode": {
    "name": "ipython",
    "version": 2
   },
   "file_extension": ".py",
   "mimetype": "text/x-python",
   "name": "python",
   "nbconvert_exporter": "python",
   "pygments_lexer": "ipython2",
   "version": "2.7.6"
  }
 },
 "nbformat": 4,
 "nbformat_minor": 0
}