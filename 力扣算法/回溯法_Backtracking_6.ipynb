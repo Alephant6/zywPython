{
 "cells": [
  {
   "cell_type": "markdown",
   "metadata": {},
   "source": [
    "@date: 1 June, 2022\n",
    "\n",
    "@author: Alephant"
   ]
  },
  {
   "cell_type": "markdown",
   "metadata": {},
   "source": [
    "# 回溯法\n",
    "类似枚举，一层一层向下递归，尝试搜索答案\n",
    "\n",
    "1. 找到答案\n",
    "    1. 尝试别的可能\n",
    "    2. 返回答案\n",
    "2. 找不到答案\n",
    "    1. 返回上一层递归，尝试别的路径\n",
    "\n",
    "## 力扣\n",
    "1. 22\n",
    "2. 78\n",
    "3. 77\n",
    "4. 46\n",
    "\n",
    "八皇后，数独是难题\n",
    "\n"
   ]
  },
  {
   "cell_type": "markdown",
   "metadata": {},
   "source": [
    "# 问题一：22\n",
    "\n",
    "## 自己思路"
   ]
  },
  {
   "cell_type": "code",
   "execution_count": null,
   "metadata": {},
   "outputs": [],
   "source": [
    "class Solution(object):\n",
    "    def generateParenthesis(self, n):\n",
    "        \"\"\"\n",
    "        :type n: int\n",
    "        :rtype: List[str]\n",
    "        \"\"\"\n",
    "        l = ['(']*n + [')']*n\n",
    "        res = []\n",
    "        def gP(l, n):\n",
    "            s = \"\"\n",
    "            if n == 0:\n",
    "                res.append(s)\n",
    "                return\n",
    "\n",
    "        for i in range(1, n+1):\n",
    "            tempN = i\n",
    "            while tempN:\n",
    "                tempN -= 1"
   ]
  },
  {
   "cell_type": "code",
   "execution_count": 3,
   "metadata": {},
   "outputs": [
    {
     "data": {
      "text/plain": [
       "['(', '(', ')', ')']"
      ]
     },
     "execution_count": 3,
     "metadata": {},
     "output_type": "execute_result"
    }
   ],
   "source": [
    "n=2\n",
    "l = ['(']*n + [')']*n\n",
    "l"
   ]
  },
  {
   "cell_type": "markdown",
   "metadata": {},
   "source": [
    "## 视频思路\n"
   ]
  },
  {
   "cell_type": "code",
   "execution_count": 1,
   "metadata": {},
   "outputs": [],
   "source": [
    "class Solution(object):\n",
    "    def generateParenthesis(self, n):\n",
    "        \"\"\"\n",
    "        :type n: int\n",
    "        :rtype: List[str]\n",
    "        \"\"\"\n",
    "        def backtracking(n, res, left,right, s):\n",
    "            print(s)\n",
    "            if right > left:\n",
    "                return\n",
    "            if left == right == n:\n",
    "                res.append(s)\n",
    "                return\n",
    "            if left < n:\n",
    "                backtracking(n, res, left+1, right, s + \"(\")\n",
    "            if right < left:\n",
    "                backtracking(n, res, left, right+1, s + \")\")\n",
    "        \n",
    "        res = []\n",
    "        backtracking(n, res, 0, 0, \"\")\n",
    "        return res\n",
    "        "
   ]
  },
  {
   "cell_type": "code",
   "execution_count": 5,
   "metadata": {},
   "outputs": [
    {
     "data": {
      "text/plain": [
       "True"
      ]
     },
     "execution_count": 5,
     "metadata": {},
     "output_type": "execute_result"
    }
   ],
   "source": [
    "left = 1\n",
    "right = 1\n",
    "n = 1\n",
    "left == right == n"
   ]
  },
  {
   "cell_type": "code",
   "execution_count": 6,
   "metadata": {},
   "outputs": [
    {
     "data": {
      "text/plain": [
       "'abcd'"
      ]
     },
     "execution_count": 6,
     "metadata": {},
     "output_type": "execute_result"
    }
   ],
   "source": [
    "\"abc\"+\"d\""
   ]
  },
  {
   "cell_type": "code",
   "execution_count": 2,
   "metadata": {},
   "outputs": [
    {
     "name": "stdout",
     "output_type": "stream",
     "text": [
      "\n",
      "(\n",
      "((\n",
      "(()\n",
      "(())\n",
      "()\n",
      "()(\n",
      "()()\n",
      "['(())', '()()']\n"
     ]
    }
   ],
   "source": [
    "test = Solution()\n",
    "res = test.generateParenthesis(2)\n",
    "print(res)"
   ]
  },
  {
   "cell_type": "markdown",
   "metadata": {},
   "source": [
    "# 问题二：78\n",
    "给你一个整数数组 nums ，数组中的元素 互不相同 。返回该数组所有可能的子集（幂集）。\n",
    "\n",
    "解集 不能 包含重复的子集。你可以按 任意顺序 返回解集\n",
    "\n",
    "## 自己思路"
   ]
  },
  {
   "cell_type": "code",
   "execution_count": null,
   "metadata": {},
   "outputs": [],
   "source": [
    "class Solution(object):\n",
    "    def subsets(self, nums):\n",
    "        \"\"\"\n",
    "        :type nums: List[int]\n",
    "        :rtype: List[List[int]]\n",
    "        \"\"\"\n",
    "        res = []\n",
    "        "
   ]
  }
 ],
 "metadata": {
  "kernelspec": {
   "display_name": "Python 3 (ipykernel)",
   "language": "python",
   "name": "python3"
  },
  "language_info": {
   "codemirror_mode": {
    "name": "ipython",
    "version": 3
   },
   "file_extension": ".py",
   "mimetype": "text/x-python",
   "name": "python",
   "nbconvert_exporter": "python",
   "pygments_lexer": "ipython3",
   "version": "3.9.10+"
  }
 },
 "nbformat": 4,
 "nbformat_minor": 2
}
