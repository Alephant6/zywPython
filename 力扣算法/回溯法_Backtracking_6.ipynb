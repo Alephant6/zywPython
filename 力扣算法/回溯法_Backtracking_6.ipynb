{
 "cells": [
  {
   "cell_type": "markdown",
   "metadata": {
    "pycharm": {
     "name": "#%% md\n"
    }
   },
   "source": [
    "@date: 1 June, 2022\n",
    "\n",
    "@author: Alephant"
   ]
  },
  {
   "cell_type": "markdown",
   "metadata": {
    "pycharm": {
     "name": "#%% md\n"
    }
   },
   "source": [
    "# 回溯法\n",
    "类似枚举，一层一层向下递归，尝试搜索答案\n",
    "\n",
    "1. 找到答案\n",
    "    1. 尝试别的可能\n",
    "    2. 返回答案\n",
    "2. 找不到答案\n",
    "    1. 返回上一层递归，尝试别的路径\n",
    "\n",
    "## 力扣\n",
    "1. 22\n",
    "2. 78\n",
    "3. 77\n",
    "4. 46\n",
    "\n",
    "八皇后，数独是难题\n",
    "\n"
   ]
  },
  {
   "cell_type": "markdown",
   "metadata": {
    "pycharm": {
     "name": "#%% md\n"
    }
   },
   "source": [
    "# 问题一：22\n",
    "\n",
    "## 自己思路"
   ]
  },
  {
   "cell_type": "code",
   "execution_count": 1,
   "metadata": {
    "pycharm": {
     "name": "#%%\n"
    }
   },
   "outputs": [],
   "source": [
    "class Solution(object):\n",
    "    def generateParenthesis(self, n):\n",
    "        \"\"\"\n",
    "        :type n: int\n",
    "        :rtype: List[str]\n",
    "        \"\"\"\n",
    "        l = ['(']*n + [')']*n\n",
    "        res = []\n",
    "        def gP(l, n):\n",
    "            s = \"\"\n",
    "            if n == 0:\n",
    "                res.append(s)\n",
    "                return\n",
    "\n",
    "        for i in range(1, n+1):\n",
    "            tempN = i\n",
    "            while tempN:\n",
    "                tempN -= 1"
   ]
  },
  {
   "cell_type": "code",
   "execution_count": 2,
   "metadata": {
    "pycharm": {
     "name": "#%%\n"
    }
   },
   "outputs": [
    {
     "data": {
      "text/plain": "['(', '(', ')', ')']"
     },
     "execution_count": 2,
     "metadata": {},
     "output_type": "execute_result"
    }
   ],
   "source": [
    "n=2\n",
    "l = ['(']*n + [')']*n\n",
    "l"
   ]
  },
  {
   "cell_type": "markdown",
   "metadata": {
    "pycharm": {
     "name": "#%% md\n"
    }
   },
   "source": [
    "## 视频思路\n"
   ]
  },
  {
   "cell_type": "code",
   "execution_count": 3,
   "metadata": {
    "pycharm": {
     "name": "#%%\n"
    }
   },
   "outputs": [],
   "source": [
    "class Solution(object):\n",
    "    def generateParenthesis(self, n):\n",
    "        \"\"\"\n",
    "        :type n: int\n",
    "        :rtype: List[str]\n",
    "        \"\"\"\n",
    "        def backtracking(n, res, left, right, s):\n",
    "            print(s)\n",
    "            if right > left:\n",
    "                return\n",
    "            if left == right == n:\n",
    "                res.append(s)\n",
    "                return\n",
    "            if left < n:\n",
    "                backtracking(n, res, left+1, right, s + \"(\")\n",
    "            if right < left:\n",
    "                backtracking(n, res, left, right+1, s + \")\")\n",
    "        \n",
    "        res = []\n",
    "        backtracking(n, res, 0, 0, \"\")\n",
    "        return res\n",
    "        "
   ]
  },
  {
   "cell_type": "code",
   "execution_count": 4,
   "metadata": {
    "pycharm": {
     "name": "#%%\n"
    }
   },
   "outputs": [
    {
     "data": {
      "text/plain": "True"
     },
     "execution_count": 4,
     "metadata": {},
     "output_type": "execute_result"
    }
   ],
   "source": [
    "left = 1\n",
    "right = 1\n",
    "n = 1\n",
    "left == right == n"
   ]
  },
  {
   "cell_type": "code",
   "execution_count": 5,
   "metadata": {
    "pycharm": {
     "name": "#%%\n"
    }
   },
   "outputs": [
    {
     "data": {
      "text/plain": "'abcd'"
     },
     "execution_count": 5,
     "metadata": {},
     "output_type": "execute_result"
    }
   ],
   "source": [
    "\"abc\"+\"d\""
   ]
  },
  {
   "cell_type": "code",
   "execution_count": 6,
   "metadata": {
    "pycharm": {
     "name": "#%%\n"
    }
   },
   "outputs": [
    {
     "name": "stdout",
     "output_type": "stream",
     "text": [
      "\n",
      "(\n",
      "((\n",
      "(()\n",
      "(())\n",
      "()\n",
      "()(\n",
      "()()\n",
      "['(())', '()()']\n"
     ]
    }
   ],
   "source": [
    "test = Solution()\n",
    "res = test.generateParenthesis(2)\n",
    "print(res)"
   ]
  },
  {
   "cell_type": "markdown",
   "metadata": {
    "pycharm": {
     "name": "#%% md\n"
    }
   },
   "source": [
    "# 问题二：78\n",
    "给你一个整数数组 nums ，数组中的元素 互不相同 。返回该数组所有可能的子集（幂集）。\n",
    "\n",
    "解集 不能 包含重复的子集。你可以按 任意顺序 返回解集\n",
    "\n",
    "## 思路一\n",
    "循环里套循环\n",
    "\n",
    "失败\n"
   ]
  },
  {
   "cell_type": "code",
   "execution_count": 7,
   "metadata": {
    "pycharm": {
     "name": "#%%\n"
    }
   },
   "outputs": [],
   "source": [
    "class Solution(object):\n",
    "    def subsets(self, nums):\n",
    "        \"\"\"\n",
    "        :type nums: List[int]\n",
    "        :rtype: List[List[int]]\n",
    "        \"\"\"\n",
    "        def backtracking(nums, length ,index, lis):\n",
    "            print(f\"1-res={res}, length={length}, index={index}, lis={lis}, len(lis)={len(lis)}\")\n",
    "            if len(lis) > length or index > len(nums)-1 or length > len(nums):\n",
    "                return\n",
    "            if len(lis) == length:\n",
    "                res.append(lis)\n",
    "                print(f\"r-res={res}, length={length}, index={index}, lis={lis}, len(lis)={len(lis)}\")\n",
    "                return\n",
    "            if len(lis) < length:\n",
    "                lis.append(nums[index])\n",
    "                print(f\"2-res={res}, length={length}, index={index}, lis={lis}, len(lis)={len(lis)}\")\n",
    "                backtracking(nums, length, index+1, lis)\n",
    "                while index < len(nums)-1:\n",
    "                    lis.pop()\n",
    "                    index += 1\n",
    "                    lis.append(nums[index])\n",
    "                    print(f\"3-res={res}, length={length}, index={index}, lis={lis}, len(lis)={len(lis)}\")\n",
    "                    backtracking(nums, length, index+1, lis)\n",
    "            if length < len(nums):\n",
    "                backtracking(nums, length+1, index, lis)\n",
    "\n",
    "        res = [[]]\n",
    "        backtracking(nums, 1, 0, [])\n",
    "        return res\n"
   ]
  },
  {
   "cell_type": "code",
   "execution_count": 8,
   "outputs": [
    {
     "name": "stdout",
     "output_type": "stream",
     "text": [
      "1-res=[[]], length=1, index=0, lis=[], len(lis)=0\n",
      "2-res=[[]], length=1, index=0, lis=[1], len(lis)=1\n",
      "1-res=[[]], length=1, index=1, lis=[1], len(lis)=1\n",
      "r-res=[[], [1]], length=1, index=1, lis=[1], len(lis)=1\n",
      "3-res=[[], [2]], length=1, index=1, lis=[2], len(lis)=1\n",
      "1-res=[[], [2]], length=1, index=2, lis=[2], len(lis)=1\n",
      "1-res=[[], [2]], length=2, index=1, lis=[2], len(lis)=1\n",
      "2-res=[[], [2, 2]], length=2, index=1, lis=[2, 2], len(lis)=2\n",
      "1-res=[[], [2, 2]], length=2, index=2, lis=[2, 2], len(lis)=2\n",
      "[[], [2, 2]]\n"
     ]
    }
   ],
   "source": [
    "test = Solution()\n",
    "res = test.subsets([1,2])\n",
    "print(res)"
   ],
   "metadata": {
    "collapsed": false,
    "pycharm": {
     "name": "#%%\n"
    }
   }
  },
  {
   "cell_type": "markdown",
   "source": [
    "## 思路二\n",
    "拆解问题:\n",
    "1. 在数组里长度为length的子集\n",
    "2. 从1到len(nums)遍历"
   ],
   "metadata": {
    "collapsed": false,
    "pycharm": {
     "name": "#%% md\n"
    }
   }
  },
  {
   "cell_type": "markdown",
   "source": [
    "### 先实现第一点找出长为length的子集"
   ],
   "metadata": {
    "collapsed": false,
    "pycharm": {
     "name": "#%% md\n"
    }
   }
  },
  {
   "cell_type": "code",
   "execution_count": 9,
   "outputs": [],
   "source": [
    "def generateSet(nums, index, length, lis):\n",
    "    print(f\"index={index},length={length},lis={lis},len(lis)={len(lis)}\")\n",
    "    if length == len(lis):\n",
    "        res.append(lis)\n",
    "        print(f\"res={res}\")\n",
    "        return\n",
    "    if index > len(nums)-1:\n",
    "        return\n",
    "    if len(lis) < length:\n",
    "        lis2 = lis.copy()\n",
    "        lis2.append(nums[index])\n",
    "        print(lis)\n",
    "        generateSet(nums, index+1, length, lis2)\n",
    "    if index < len(nums) :\n",
    "        generateSet(nums, index+1, length, lis)"
   ],
   "metadata": {
    "collapsed": false,
    "pycharm": {
     "name": "#%%\n"
    }
   }
  },
  {
   "cell_type": "code",
   "execution_count": 10,
   "outputs": [
    {
     "name": "stdout",
     "output_type": "stream",
     "text": [
      "index=0,length=2,lis=[],len(lis)=0\n",
      "[]\n",
      "index=1,length=2,lis=[1],len(lis)=1\n",
      "[1]\n",
      "index=2,length=2,lis=[1, 2],len(lis)=2\n",
      "res=[[1, 2]]\n",
      "index=2,length=2,lis=[1],len(lis)=1\n",
      "[1]\n",
      "index=3,length=2,lis=[1, 3],len(lis)=2\n",
      "res=[[1, 2], [1, 3]]\n",
      "index=3,length=2,lis=[1],len(lis)=1\n",
      "index=1,length=2,lis=[],len(lis)=0\n",
      "[]\n",
      "index=2,length=2,lis=[2],len(lis)=1\n",
      "[2]\n",
      "index=3,length=2,lis=[2, 3],len(lis)=2\n",
      "res=[[1, 2], [1, 3], [2, 3]]\n",
      "index=3,length=2,lis=[2],len(lis)=1\n",
      "index=2,length=2,lis=[],len(lis)=0\n",
      "[]\n",
      "index=3,length=2,lis=[3],len(lis)=1\n",
      "index=3,length=2,lis=[],len(lis)=0\n",
      "[[1, 2], [1, 3], [2, 3]]\n"
     ]
    }
   ],
   "source": [
    "res=[]\n",
    "generateSet(nums=[1,2,3], index=0, length=2, lis=[])\n",
    "print(res)"
   ],
   "metadata": {
    "collapsed": false,
    "pycharm": {
     "name": "#%%\n"
    }
   }
  },
  {
   "cell_type": "markdown",
   "source": [
    "### 去掉用来调试的print()语句, 再加上遍历"
   ],
   "metadata": {
    "collapsed": false,
    "pycharm": {
     "name": "#%% md\n"
    }
   }
  },
  {
   "cell_type": "code",
   "execution_count": 11,
   "outputs": [],
   "source": [
    "# 要放在python3里跑, python2里list无copy()\n",
    "class Solution(object):\n",
    "    def subsets(self, nums):\n",
    "        \"\"\"\n",
    "        :type nums: List[int]\n",
    "        :rtype: List[List[int]]\n",
    "        \"\"\"\n",
    "        def generateSet(nums, index, length, lis):\n",
    "            if length == len(lis):\n",
    "                res.append(lis)\n",
    "                return\n",
    "            if index > len(nums)-1:\n",
    "                return\n",
    "            if len(lis) < length:\n",
    "                lis2 = lis.copy() # 防止引用索引\n",
    "                lis2.append(nums[index])\n",
    "                generateSet(nums, index+1, length, lis2)\n",
    "            if index < len(nums) :\n",
    "                generateSet(nums, index+1, length, lis)\n",
    "        res = [[]]\n",
    "        for i in range(1, len(nums)+1):\n",
    "            generateSet(nums, index=0, length=i, lis=[])\n",
    "        return res\n"
   ],
   "metadata": {
    "collapsed": false,
    "pycharm": {
     "name": "#%%\n"
    }
   }
  },
  {
   "cell_type": "code",
   "execution_count": 12,
   "outputs": [
    {
     "name": "stdout",
     "output_type": "stream",
     "text": [
      "[[], [1], [2], [1, 2]]\n"
     ]
    }
   ],
   "source": [
    "test = Solution()\n",
    "res = test.subsets([1,2])\n",
    "print(res)"
   ],
   "metadata": {
    "collapsed": false,
    "pycharm": {
     "name": "#%%\n"
    }
   }
  },
  {
   "cell_type": "markdown",
   "source": [
    "### 结果\n",
    "![](https://cdn.jsdelivr.net/gh/Alephant6/PicBed/202206012107906.png)"
   ],
   "metadata": {
    "collapsed": false,
    "pycharm": {
     "name": "#%% md\n"
    }
   }
  },
  {
   "cell_type": "markdown",
   "source": [
    "## [视频](https://www.bilibili.com/video/BV1sy4y1q79M?p=66)\n",
    "1. 扩展法\n",
    "2. 回溯法\n",
    "3. DFS"
   ],
   "metadata": {
    "collapsed": false,
    "pycharm": {
     "name": "#%% md\n"
    }
   }
  },
  {
   "cell_type": "markdown",
   "source": [
    "### 扩展法"
   ],
   "metadata": {
    "collapsed": false,
    "pycharm": {
     "name": "#%% md\n"
    }
   }
  },
  {
   "cell_type": "code",
   "execution_count": 17,
   "outputs": [],
   "source": [
    "class Solution(object):\n",
    "    def subsets(self, nums):\n",
    "        \"\"\"\n",
    "        :type nums: List[int]\n",
    "        :rtype: List[List[int]]\n",
    "        \"\"\"\n",
    "        result = [[]]\n",
    "        for num in nums:\n",
    "            temp = []\n",
    "            for res in result:\n",
    "                r = res.copy()\n",
    "                r.append(num)\n",
    "                temp.append(r)\n",
    "            for t in temp:\n",
    "                result.append(t)\n",
    "        return result\n"
   ],
   "metadata": {
    "collapsed": false,
    "pycharm": {
     "name": "#%%\n"
    }
   }
  },
  {
   "cell_type": "code",
   "execution_count": 18,
   "outputs": [
    {
     "name": "stdout",
     "output_type": "stream",
     "text": [
      "[[], [1], [2], [1, 2]]\n"
     ]
    }
   ],
   "source": [
    "test = Solution()\n",
    "res = test.subsets([1,2])\n",
    "print(res)"
   ],
   "metadata": {
    "collapsed": false,
    "pycharm": {
     "name": "#%%\n"
    }
   }
  },
  {
   "cell_type": "markdown",
   "source": [
    "#### 结果\n",
    "![](https://cdn.jsdelivr.net/gh/Alephant6/PicBed/202206012127847.png)"
   ],
   "metadata": {
    "collapsed": false,
    "pycharm": {
     "name": "#%% md\n"
    }
   }
  },
  {
   "cell_type": "markdown",
   "source": [
    "### 回溯法"
   ],
   "metadata": {
    "collapsed": false,
    "pycharm": {
     "name": "#%% md\n"
    }
   }
  },
  {
   "cell_type": "code",
   "execution_count": 19,
   "outputs": [],
   "source": [
    "# 要放在python3里跑, python2里list无copy()\n",
    "class Solution(object):\n",
    "    def subsets(self, nums):\n",
    "        \"\"\"\n",
    "        :type nums: List[int]\n",
    "        :rtype: List[List[int]]\n",
    "        \"\"\"\n",
    "        def backtracking(nums, result, length, index, subset):\n",
    "            if len(subset) == length:\n",
    "                temp = subset.copy()\n",
    "                result.append(temp)\n",
    "                return\n",
    "            for i in range(index, len(nums)):\n",
    "                subset.append(nums[i])\n",
    "                backtracking(nums, result, length, i+1, subset)\n",
    "                subset.pop()\n",
    "\n",
    "        result = [[]]\n",
    "        for i in range(1, len(nums)+1):\n",
    "            backtracking(nums=nums, result=result, length=i, index=0, subset=[])\n",
    "        return result"
   ],
   "metadata": {
    "collapsed": false,
    "pycharm": {
     "name": "#%%\n"
    }
   }
  },
  {
   "cell_type": "markdown",
   "source": [
    "#### 结果\n",
    "![](https://cdn.jsdelivr.net/gh/Alephant6/PicBed/202206012133450.png)"
   ],
   "metadata": {
    "collapsed": false,
    "pycharm": {
     "name": "#%% md\n"
    }
   }
  },
  {
   "cell_type": "markdown",
   "source": [
    "### DFS\n",
    "深度有效算法\n",
    "\n",
    "![](https://cdn.jsdelivr.net/gh/Alephant6/PicBed/202206012134517.png)"
   ],
   "metadata": {
    "collapsed": false,
    "pycharm": {
     "name": "#%% md\n"
    }
   }
  },
  {
   "cell_type": "code",
   "execution_count": 22,
   "outputs": [],
   "source": [
    "class Solution(object):\n",
    "    def subsets(self, nums):\n",
    "        \"\"\"\n",
    "        :type nums: List[int]\n",
    "        :rtype: List[List[int]]\n",
    "        \"\"\"\n",
    "        def dfs(nums, result, index, subset):\n",
    "            result.append(subset.copy())\n",
    "            if index == len(nums):\n",
    "                return\n",
    "            for i in range(index, len(nums)):\n",
    "                subset.append(nums[i])\n",
    "                dfs(nums, result, i+1, subset)\n",
    "                subset.pop()\n",
    "\n",
    "        result = []\n",
    "        dfs(nums, result, 0, [])\n",
    "        return result"
   ],
   "metadata": {
    "collapsed": false,
    "pycharm": {
     "name": "#%%\n"
    }
   }
  },
  {
   "cell_type": "markdown",
   "source": [
    "#### 结果\n",
    "![](https://cdn.jsdelivr.net/gh/Alephant6/PicBed/202206012138772.png)"
   ],
   "metadata": {
    "collapsed": false,
    "pycharm": {
     "name": "#%% md\n"
    }
   }
  }
 ],
 "metadata": {
  "kernelspec": {
   "display_name": "Python 3 (ipykernel)",
   "language": "python",
   "name": "python3"
  },
  "language_info": {
   "codemirror_mode": {
    "name": "ipython",
    "version": 3
   },
   "file_extension": ".py",
   "mimetype": "text/x-python",
   "name": "python",
   "nbconvert_exporter": "python",
   "pygments_lexer": "ipython3",
   "version": "3.9.10+"
  }
 },
 "nbformat": 4,
 "nbformat_minor": 2
}