{
 "cells": [
  {
   "cell_type": "markdown",
   "metadata": {},
   "source": [
    "# 问题一：938\n",
    "## 视频DFS\n"
   ]
  },
  {
   "cell_type": "code",
   "execution_count": null,
   "metadata": {},
   "outputs": [],
   "source": [
    "# Definition for a binary tree node.\n",
    "# class TreeNode(object):\n",
    "#     def __init__(self, val=0, left=None, right=None):\n",
    "#         self.val = val\n",
    "#         self.left = left\n",
    "#         self.right = right\n",
    "class Solution(object):\n",
    "    def rangeSumBST(self, root, low, high):\n",
    "        \"\"\"\n",
    "        :type root: TreeNode\n",
    "        :type low: int\n",
    "        :type high: int\n",
    "        :rtype: int\n",
    "        \"\"\"\n",
    "        def rSBST(root, low, high):\n",
    "            if root is None:\n",
    "                return 0\n",
    "            leftSum = rSBST(root.left, low, high)\n",
    "            rightSum = rSBST(root.right, low, high)\n",
    "            result = leftSum + rightSum\n",
    "            if low <= root.val <= high:\n",
    "                result += root.val\n",
    "            return result\n",
    "        return rSBST(root, low, high)"
   ]
  },
  {
   "cell_type": "code",
   "execution_count": 4,
   "metadata": {},
   "outputs": [
    {
     "data": {
      "text/plain": [
       "True"
      ]
     },
     "execution_count": 4,
     "metadata": {},
     "output_type": "execute_result"
    }
   ],
   "source": [
    "1 <= 2<=3"
   ]
  },
  {
   "cell_type": "markdown",
   "metadata": {},
   "source": [
    "## 视频BFS\n"
   ]
  },
  {
   "cell_type": "code",
   "execution_count": null,
   "metadata": {},
   "outputs": [],
   "source": [
    "from collections import deque\n",
    "# Definition for a binary tree node.\n",
    "# class TreeNode(object):\n",
    "#     def __init__(self, val=0, left=None, right=None):\n",
    "#         self.val = val\n",
    "#         self.left = left\n",
    "#         self.right = right\n",
    "class Solution(object):\n",
    "    def rangeSumBST(self, root, low, high):\n",
    "        \"\"\"\n",
    "        :type root: TreeNode\n",
    "        :type low: int\n",
    "        :type high: int\n",
    "        :rtype: int\n",
    "        \"\"\"\n",
    "        \n",
    "        def BFS(root, low, high):\n",
    "            result = 0\n",
    "            q = deque()\n",
    "            q.append(root)\n",
    "            while len(q) > 0:\n",
    "                size = len(q)\n",
    "                while size:\n",
    "                    cur = q.pop()\n",
    "                    if low <= cur.val <= high:\n",
    "                        result = result + cur.val\n",
    "                    if cur.left:\n",
    "                        q.append(cur.left)\n",
    "                    if cur.right:\n",
    "                        q.append(cur.right)\n",
    "                    size = size - 1\n",
    "            return result\n",
    "        return BFS(root, low, high)"
   ]
  },
  {
   "cell_type": "code",
   "execution_count": null,
   "metadata": {},
   "outputs": [],
   "source": []
  }
 ],
 "metadata": {
  "kernelspec": {
   "display_name": "Python 3 (ipykernel)",
   "language": "python",
   "name": "python3"
  },
  "language_info": {
   "codemirror_mode": {
    "name": "ipython",
    "version": 3
   },
   "file_extension": ".py",
   "mimetype": "text/x-python",
   "name": "python",
   "nbconvert_exporter": "python",
   "pygments_lexer": "ipython3",
   "version": "3.9.10+"
  }
 },
 "nbformat": 4,
 "nbformat_minor": 2
}
