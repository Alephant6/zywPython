{
 "cells": [
  {
   "cell_type": "markdown",
   "metadata": {},
   "source": [
    "@date: 27 May, 2022\n",
    "\n",
    "@author: Alephant"
   ]
  },
  {
   "cell_type": "markdown",
   "metadata": {},
   "source": [
    "# 滑动窗口 Sliding Window\n",
    "目的：减少while循环\n",
    "\n",
    "比如：数组中定长问题\n",
    "\n",
    "## 力扣题\n",
    "\n",
    "1. 209\n",
    "2. 1456\n"
   ]
  },
  {
   "cell_type": "markdown",
   "metadata": {},
   "source": [
    "# 问题一：209\n",
    "## 自己想法"
   ]
  },
  {
   "cell_type": "code",
   "execution_count": 1,
   "metadata": {},
   "outputs": [],
   "source": [
    "class Solution(object):\n",
    "    def minSubArrayLen(self, target, nums):\n",
    "        \"\"\"\n",
    "        :type target: int\n",
    "        :type nums: List[int]\n",
    "        :rtype: int\n",
    "        \"\"\"\n",
    "        n = len(nums)\n",
    "        for l in range(1, n+1):\n",
    "            # temp = sum(nums[0:l])\n",
    "            for i in range(0, n-l+1): \n",
    "                temp = sum(nums[i:i+l])\n",
    "                if temp >= target:\n",
    "                    return l\n",
    "        return 0"
   ]
  },
  {
   "cell_type": "markdown",
   "metadata": {},
   "source": [
    "## 视屏思路"
   ]
  },
  {
   "cell_type": "code",
   "execution_count": 2,
   "metadata": {},
   "outputs": [],
   "source": [
    "class Solution(object):\n",
    "    def minSubArrayLen(self, target, nums):\n",
    "        \"\"\"\n",
    "        :type target: int\n",
    "        :type nums: List[int]\n",
    "        :rtype: int\n",
    "        \"\"\"\n",
    "        n = len(nums)\n",
    "        if nums is None:\n",
    "            return 0\n",
    "        res = n+1\n",
    "        total = 0\n",
    "        i = 0\n",
    "        j = 0\n",
    "        while j < n:\n",
    "            total = total + nums[j]\n",
    "            j += 1\n",
    "            while total >= target:\n",
    "                res = min(res, j-i)\n",
    "                total = total - nums[i]\n",
    "                i += 1\n",
    "        if res == n + 1: \n",
    "            return 0\n",
    "        else:\n",
    "            return res"
   ]
  },
  {
   "cell_type": "markdown",
   "metadata": {},
   "source": [
    "## 思路二\n",
    "看了视频的想法"
   ]
  },
  {
   "cell_type": "code",
   "execution_count": null,
   "metadata": {},
   "outputs": [],
   "source": [
    "class Solution(object):\n",
    "    def minSubArrayLen(self, target, nums):\n",
    "        \"\"\"\n",
    "        :type target: int\n",
    "        :type nums: List[int]\n",
    "        :rtype: int\n",
    "        \"\"\"\n",
    "        n = len(nums)\n",
    "        for l in range(1, n+1):\n",
    "            temp = sum(nums[0:l])\n",
    "            if temp >= target:\n",
    "                return l\n",
    "            for i in range(0, n-l): \n",
    "                temp = temp - nums[i] + nums[i+l]\n",
    "                if temp >= target:\n",
    "                    return l\n",
    "        return 0"
   ]
  },
  {
   "cell_type": "markdown",
   "metadata": {},
   "source": [
    "### 结果\n",
    "效果很差\n",
    "![IMG_0413](https://raw.githubusercontent.com/Alephant6/PicBed/main/IMG_0413.PNG)"
   ]
  },
  {
   "cell_type": "markdown",
   "metadata": {},
   "source": [
    "# 问题二：1456\n",
    "## 自己思路"
   ]
  },
  {
   "cell_type": "code",
   "execution_count": 3,
   "metadata": {},
   "outputs": [],
   "source": [
    "class Solution(object):\n",
    "    def maxVowels(self, s, k):\n",
    "        \"\"\"\n",
    "        :type s: str\n",
    "        :type k: int\n",
    "        :rtype: int\n",
    "        \"\"\"\n",
    "        n = len(s)\n",
    "        if n == 0:\n",
    "            return 0\n",
    "        def isVowel(c):\n",
    "            if c in ['a','e','i','o','u']:\n",
    "                return 1\n",
    "            else:\n",
    "                return 0\n",
    "            \n",
    "        def numVowel(s):\n",
    "            counts = 0\n",
    "            for c in s:\n",
    "                if isVowel(c):\n",
    "                    counts += 1\n",
    "            return counts\n",
    "        \n",
    "        res = numVowel(s[0:k])\n",
    "        sTemp = res\n",
    "        for i in range(1, n-k+1):\n",
    "            sTemp = isVowel(s[i+k-1]) + sTemp - isVowel(s[i-1])\n",
    "            res = max(res, sTemp)\n",
    "        return res\n",
    "        "
   ]
  },
  {
   "cell_type": "code",
   "execution_count": null,
   "metadata": {},
   "outputs": [],
   "source": []
  }
 ],
 "metadata": {
  "kernelspec": {
   "display_name": "Python 3 (ipykernel)",
   "language": "python",
   "name": "python3"
  },
  "language_info": {
   "codemirror_mode": {
    "name": "ipython",
    "version": 3
   },
   "file_extension": ".py",
   "mimetype": "text/x-python",
   "name": "python",
   "nbconvert_exporter": "python",
   "pygments_lexer": "ipython3",
   "version": "3.9.10+"
  }
 },
 "nbformat": 4,
 "nbformat_minor": 2
}
