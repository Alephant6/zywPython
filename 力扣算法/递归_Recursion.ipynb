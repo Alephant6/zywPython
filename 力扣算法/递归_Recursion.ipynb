{
 "cells": [
  {
   "cell_type": "markdown",
   "id": "a1c8e85e",
   "metadata": {},
   "source": [
    "@date: 28 May, 2022\n",
    "\n",
    "@author: Alephant"
   ]
  },
  {
   "cell_type": "markdown",
   "id": "890f0304",
   "metadata": {},
   "source": [
    "# 递归\n",
    "定义：函数直接或者间接调用自己\n",
    "\n",
    "```python\n",
    "func():\n",
    "\tfunc()\n",
    "```\n",
    "\n",
    "## 结合产生更复杂的算法\n",
    "\n",
    "1. 回溯\n",
    "2. 深度优先算法等等\n",
    "\n",
    "## 4个要素\n",
    "\n",
    "1. 接受五\n",
    "2. 返回值\n",
    "3. 终止的条件\n",
    "4. 递归拆解：如何递归到下一层\n",
    "\n",
    "## 例子：Fibonacci数列\n",
    "\n",
    "给你一个正整数n， 找到F数列中对应的值\n",
    "\n",
    "## 复杂度\n",
    "\n",
    "- 时间复杂度：O(N)\n",
    "- 空间复杂度：O(N)\n",
    "    - 因为他用了空间栈记录信息\n",
    "    \n",
    "## 力扣练习题\n",
    "\n",
    "1. 509\n",
    "2. 206\n",
    "3. 344"
   ]
  },
  {
   "cell_type": "markdown",
   "id": "2e21777b",
   "metadata": {},
   "source": [
    "# 问题一：509\n",
    "## 自己思路"
   ]
  },
  {
   "cell_type": "code",
   "execution_count": 1,
   "id": "58c03f87",
   "metadata": {},
   "outputs": [],
   "source": [
    "class Solution(object):\n",
    "    def fib(self, n):\n",
    "        \"\"\"\n",
    "        :type n: int\n",
    "        :rtype: int\n",
    "        \"\"\"\n",
    "        def f(n):\n",
    "            if n == 1:\n",
    "                return 1\n",
    "            elif n == 0:\n",
    "                return 0\n",
    "            else:\n",
    "                return f(n-1) + f(n-2)\n",
    "\n",
    "        return f(n)"
   ]
  },
  {
   "cell_type": "markdown",
   "id": "ae0c6880",
   "metadata": {},
   "source": [
    "### 结果\n",
    "\n",
    "![IMG_0414](https://raw.githubusercontent.com/Alephant6/PicBed/main/IMG_0414.PNG)\n",
    "\n",
    "## 尝试\n",
    "\n",
    "一开始直接调用`fib()`方法不行会报错无全局名\n",
    "```python\n",
    "class Solution(object):\n",
    "    def fib(self, n):\n",
    "        \"\"\"\n",
    "        :type n: int\n",
    "        :rtype: int\n",
    "        \"\"\"\n",
    "        def f(n):\n",
    "            if n == 1:\n",
    "                return 1\n",
    "            elif n == 0:\n",
    "                return 0\n",
    "            else:\n",
    "                return f(n-1) + f(n-2)\n",
    "\n",
    "        return f(n)\n",
    "```\n",
    "\n"
   ]
  },
  {
   "cell_type": "markdown",
   "id": "38c5f8a0",
   "metadata": {},
   "source": [
    "# 问题二：206\n",
    "## 自己思路"
   ]
  },
  {
   "cell_type": "code",
   "execution_count": 2,
   "id": "98463e13",
   "metadata": {},
   "outputs": [],
   "source": [
    "# Definition for singly-linked list.\n",
    "# class ListNode(object):\n",
    "#     def __init__(self, val=0, next=None):\n",
    "#         self.val = val\n",
    "#         self.next = next\n",
    "class Solution(object):\n",
    "    def reverseList(self, head):\n",
    "        \"\"\"\n",
    "        :type head: ListNode\n",
    "        :rtype: ListNode\n",
    "        \"\"\"\n",
    "        def rL(node):\n",
    "            if node != None and node.next != None:\n",
    "                dummy = node.next\n",
    "                res = rL(dummy)\n",
    "                dummy.next = node\n",
    "                return res\n",
    "            else:\n",
    "                return node\n",
    "            \n",
    "        if head == None:\n",
    "            return None\n",
    "        else:\n",
    "            res = rL(head)\n",
    "            head.next = None\n",
    "            return res\n",
    "        "
   ]
  },
  {
   "cell_type": "markdown",
   "id": "c41b8664",
   "metadata": {},
   "source": [
    "### 结果\n",
    "![IMG_0415](https://raw.githubusercontent.com/Alephant6/PicBed/main/IMG_0415.PNG)"
   ]
  },
  {
   "cell_type": "markdown",
   "id": "f6e159fb",
   "metadata": {},
   "source": [
    "# 问题三：344\n",
    "## 自己思路"
   ]
  },
  {
   "cell_type": "markdown",
   "id": "b2be582e",
   "metadata": {},
   "source": [
    "### 错误思路\n",
    "这样跑完倒数第二个就直接return了，应该每次都return一部分"
   ]
  },
  {
   "cell_type": "code",
   "execution_count": 3,
   "id": "185df94b",
   "metadata": {},
   "outputs": [],
   "source": [
    "class Solution(object):\n",
    "    def reverseString(self, s):\n",
    "        \"\"\"\n",
    "        :type s: List[str]\n",
    "        :rtype: None Do not return anything, modify s in-place instead.\n",
    "        \"\"\"\n",
    "        def rS(s):\n",
    "            if len(s) == 0:\n",
    "                return\n",
    "            res.insert(0, s.pop(0))\n",
    "            rS(s)\n",
    "            return res\n",
    "        res = []\n",
    "        return rS(s) \n",
    "    \n",
    "            "
   ]
  },
  {
   "cell_type": "markdown",
   "id": "21d3fc8b",
   "metadata": {},
   "source": [
    "### 正确\n",
    "先pop完字符串s，注意这里的pop是0索引位置的\n",
    "\n",
    "然后每次的pop都加在后面"
   ]
  },
  {
   "cell_type": "code",
   "execution_count": 5,
   "id": "3fbb8539",
   "metadata": {},
   "outputs": [],
   "source": [
    "class Solution(object):\n",
    "    def reverseString(self, s):\n",
    "        \"\"\"\n",
    "        :type s: List[str]\n",
    "        :rtype: None Do not return anything, modify s in-place instead.\n",
    "        \"\"\"\n",
    "        def rS(s):\n",
    "            if len(s) == 1:\n",
    "                return s\n",
    "            p = s.pop(0)\n",
    "            rS(s)\n",
    "            s.append(p)\n",
    "            return s\n",
    "        return rS(s) \n",
    "    \n",
    "            "
   ]
  },
  {
   "cell_type": "code",
   "execution_count": 6,
   "id": "96837655",
   "metadata": {},
   "outputs": [
    {
     "name": "stdout",
     "output_type": "stream",
     "text": [
      "['o', 'l', 'l', 'e', 'h']\n"
     ]
    }
   ],
   "source": [
    "s = [\"h\",\"e\",\"l\",\"l\",\"o\"]\n",
    "test = Solution()\n",
    "print(test.reverseString(s))\n"
   ]
  },
  {
   "cell_type": "markdown",
   "id": "45de8310",
   "metadata": {},
   "source": [
    "### 结果\n",
    "很差劲，因为迭代的空间和时间复杂度都很高\n",
    "![IMG_0418](https://raw.githubusercontent.com/Alephant6/PicBed/main/IMG_0418.PNG)"
   ]
  },
  {
   "cell_type": "code",
   "execution_count": null,
   "id": "6e50d1eb",
   "metadata": {},
   "outputs": [],
   "source": []
  }
 ],
 "metadata": {
  "kernelspec": {
   "display_name": "Python 3 (ipykernel)",
   "language": "python",
   "name": "python3"
  },
  "language_info": {
   "codemirror_mode": {
    "name": "ipython",
    "version": 3
   },
   "file_extension": ".py",
   "mimetype": "text/x-python",
   "name": "python",
   "nbconvert_exporter": "python",
   "pygments_lexer": "ipython3",
   "version": "3.9.10+"
  }
 },
 "nbformat": 4,
 "nbformat_minor": 5
}
