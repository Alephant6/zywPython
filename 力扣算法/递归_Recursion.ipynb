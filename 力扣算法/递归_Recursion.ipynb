{
 "cells": [
  {
   "cell_type": "markdown",
   "id": "5636c15a",
   "metadata": {},
   "source": [
    "@date: 28 May, 2022\n",
    "\n",
    "@author: Alephant"
   ]
  },
  {
   "cell_type": "markdown",
   "id": "d0adfe70",
   "metadata": {},
   "source": [
    "# 递归\n",
    "定义：函数直接或者间接调用自己\n",
    "\n",
    "```python\n",
    "func():\n",
    "\tfunc()\n",
    "```\n",
    "\n",
    "## 结合产生更复杂的算法\n",
    "\n",
    "1. 回溯\n",
    "2. 深度优先算法等等\n",
    "\n",
    "## 4个要素\n",
    "\n",
    "1. 接受五\n",
    "2. 返回值\n",
    "3. 终止的条件\n",
    "4. 递归拆解：如何递归到下一层\n",
    "\n",
    "## 例子：Fibonacci数列\n",
    "\n",
    "给你一个正整数n， 找到F数列中对应的值\n",
    "\n",
    "## 复杂度\n",
    "\n",
    "- 时间复杂度：O(N)\n",
    "- 空间复杂度：O(N)\n",
    "    - 因为他用了空间栈记录信息\n",
    "    \n",
    "## 力扣练习题\n",
    "\n",
    "1. 509\n",
    "2. 206\n",
    "3. 344"
   ]
  },
  {
   "cell_type": "markdown",
   "id": "2f9721cd",
   "metadata": {},
   "source": [
    "# 问题一：509\n",
    "## 自己思路"
   ]
  },
  {
   "cell_type": "code",
   "execution_count": 3,
   "id": "487adda5",
   "metadata": {},
   "outputs": [],
   "source": [
    "class Solution(object):\n",
    "    def fib(self, n):\n",
    "        \"\"\"\n",
    "        :type n: int\n",
    "        :rtype: int\n",
    "        \"\"\"\n",
    "        def f(n):\n",
    "            if n == 1:\n",
    "                return 1\n",
    "            elif n == 0:\n",
    "                return 0\n",
    "            else:\n",
    "                return f(n-1) + f(n-2)\n",
    "\n",
    "        return f(n)"
   ]
  },
  {
   "cell_type": "markdown",
   "id": "f85cc69d",
   "metadata": {},
   "source": [
    "### 结果\n",
    "\n",
    "![IMG_0414](https://raw.githubusercontent.com/Alephant6/PicBed/main/IMG_0414.PNG)\n",
    "\n",
    "## 尝试\n",
    "\n",
    "一开始直接调用`fib()`方法不行会报错无全局名\n",
    "```python\n",
    "class Solution(object):\n",
    "    def fib(self, n):\n",
    "        \"\"\"\n",
    "        :type n: int\n",
    "        :rtype: int\n",
    "        \"\"\"\n",
    "        def f(n):\n",
    "            if n == 1:\n",
    "                return 1\n",
    "            elif n == 0:\n",
    "                return 0\n",
    "            else:\n",
    "                return f(n-1) + f(n-2)\n",
    "\n",
    "        return f(n)\n",
    "```\n",
    "\n"
   ]
  },
  {
   "cell_type": "code",
   "execution_count": null,
   "id": "c74869b4",
   "metadata": {},
   "outputs": [],
   "source": []
  }
 ],
 "metadata": {
  "kernelspec": {
   "display_name": "Python 3 (ipykernel)",
   "language": "python",
   "name": "python3"
  },
  "language_info": {
   "codemirror_mode": {
    "name": "ipython",
    "version": 3
   },
   "file_extension": ".py",
   "mimetype": "text/x-python",
   "name": "python",
   "nbconvert_exporter": "python",
   "pygments_lexer": "ipython3",
   "version": "3.9.10+"
  }
 },
 "nbformat": 4,
 "nbformat_minor": 5
}
