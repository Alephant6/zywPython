{
 "cells": [
  {
   "cell_type": "markdown",
   "source": [
    "@date: 19 May, 2022\n",
    "@author: Alephant"
   ],
   "metadata": {
    "collapsed": false,
    "pycharm": {
     "name": "#%% md\n"
    }
   }
  },
  {
   "cell_type": "markdown",
   "source": [
    "# set 集合\n",
    "## 特点\n",
    "1. 无序\n",
    "2. 不重复\n",
    "\n",
    "## 作用\n",
    "1. 检查某一个元素是否存在\n",
    "2. 重复元素\n",
    "\n",
    "## 种类\n",
    "1. HashSet - 用的最多\n",
    "2. Linklist Set\n",
    "3. Tree Set\n",
    "\n",
    "## HashSet\n",
    "![](https://cdn.jsdelivr.net/gh/Alephant6/PicBed/202205191426287.png)\n",
    "\n",
    "## 时间复杂度\n",
    "![](https://cdn.jsdelivr.net/gh/Alephant6/PicBed/202205191428294.png)\n",
    "\n",
    "## 常用操作\n",
    "1. 创建\n",
    "2. 搜索\n",
    "3. 插入\n",
    "4. 删除\n",
    "5. 长度\n",
    "\n",
    "## 力扣练习题\n",
    "1. 217\n",
    "2. 705"
   ],
   "metadata": {
    "collapsed": false,
    "pycharm": {
     "name": "#%% md\n"
    }
   }
  },
  {
   "cell_type": "markdown",
   "source": [
    "# 集合在python中的用法"
   ],
   "metadata": {
    "collapsed": false,
    "pycharm": {
     "name": "#%% md\n"
    }
   }
  },
  {
   "cell_type": "code",
   "execution_count": 33,
   "outputs": [],
   "source": [
    "# Create Set\n",
    "s = set()"
   ],
   "metadata": {
    "collapsed": false,
    "pycharm": {
     "name": "#%%\n"
    }
   }
  },
  {
   "cell_type": "code",
   "execution_count": 34,
   "outputs": [
    {
     "name": "stdout",
     "output_type": "stream",
     "text": [
      "{2, 10, 3, 5}\n"
     ]
    }
   ],
   "source": [
    "s.add(10)\n",
    "s.add(3)\n",
    "s.add(5)\n",
    "s.add(2)\n",
    "s.add(2)\n",
    "# {2,3,5,10}\n",
    "print(s)"
   ],
   "metadata": {
    "collapsed": false,
    "pycharm": {
     "name": "#%%\n"
    }
   }
  },
  {
   "cell_type": "code",
   "execution_count": 35,
   "outputs": [
    {
     "data": {
      "text/plain": "True"
     },
     "execution_count": 35,
     "metadata": {},
     "output_type": "execute_result"
    }
   ],
   "source": [
    "# Search Element\n",
    "# Time Complexity: O(1)\n",
    "2 in s"
   ],
   "metadata": {
    "collapsed": false,
    "pycharm": {
     "name": "#%%\n"
    }
   }
  },
  {
   "cell_type": "code",
   "execution_count": 36,
   "outputs": [
    {
     "name": "stdout",
     "output_type": "stream",
     "text": [
      "{10, 3, 5}\n"
     ]
    }
   ],
   "source": [
    "# Remove\n",
    "# Time Complexity: O(1)\n",
    "s.remove(2)\n",
    "print(s)"
   ],
   "metadata": {
    "collapsed": false,
    "pycharm": {
     "name": "#%%\n"
    }
   }
  },
  {
   "cell_type": "code",
   "execution_count": 37,
   "outputs": [
    {
     "data": {
      "text/plain": "3"
     },
     "execution_count": 37,
     "metadata": {},
     "output_type": "execute_result"
    }
   ],
   "source": [
    "# Size\n",
    "# Time Complexity: O(1)\n",
    "len(s)"
   ],
   "metadata": {
    "collapsed": false,
    "pycharm": {
     "name": "#%%\n"
    }
   }
  },
  {
   "cell_type": "markdown",
   "source": [
    "# 问题一：217"
   ],
   "metadata": {
    "collapsed": false,
    "pycharm": {
     "name": "#%% md\n"
    }
   }
  },
  {
   "cell_type": "markdown",
   "source": [
    "## 自己想的"
   ],
   "metadata": {
    "collapsed": false,
    "pycharm": {
     "name": "#%% md\n"
    }
   }
  },
  {
   "cell_type": "code",
   "execution_count": 38,
   "outputs": [],
   "source": [
    "class Solution(object):\n",
    "    def containsDuplicate(self, nums):\n",
    "        \"\"\"\n",
    "        :type nums: List[int]\n",
    "        :rtype: bool\n",
    "        \"\"\"\n",
    "        if len(nums) == 0:\n",
    "            return False\n",
    "        setNums = set(nums)\n",
    "        return len(setNums) != len(nums)"
   ],
   "metadata": {
    "collapsed": false,
    "pycharm": {
     "name": "#%%\n"
    }
   }
  },
  {
   "cell_type": "markdown",
   "source": [
    "# 问题二：705 设计哈希集合\n",
    "https://leetcode.cn/problems/design-hashset/\n",
    "\n",
    "不使用任何内建的哈希表库设计一个哈希集合（HashSet）。\n",
    "\n",
    "实现 MyHashSet 类：\n",
    "\n",
    "void add(key) 向哈希集合中插入值 key 。\n",
    "bool contains(key) 返回哈希集合中是否存在这个值 key 。\n",
    "void remove(key) 将给定值 key 从哈希集合中删除。如果哈希集合中没有这个值，什么也不做。"
   ],
   "metadata": {
    "collapsed": false,
    "pycharm": {
     "name": "#%% md\n"
    }
   }
  },
  {
   "cell_type": "markdown",
   "source": [
    "## 自己想的"
   ],
   "metadata": {
    "collapsed": false,
    "pycharm": {
     "name": "#%% md\n"
    }
   }
  },
  {
   "cell_type": "code",
   "execution_count": 39,
   "outputs": [],
   "source": [
    "class MyHashSet(object):\n",
    "\n",
    "    def __init__(self, array=[]):\n",
    "        self.array = array\n",
    "\n",
    "    def add(self, key):\n",
    "        \"\"\"\n",
    "        :type key: int\n",
    "        :rtype: None\n",
    "        \"\"\"\n",
    "        if key not in self.array:\n",
    "            self.array.append(key)\n",
    "\n",
    "    def remove(self, key):\n",
    "        \"\"\"\n",
    "        :type key: int\n",
    "        :rtype: None\n",
    "        \"\"\"\n",
    "        if key in self.array:\n",
    "            self.array.remove(key)\n",
    "\n",
    "\n",
    "    def contains(self, key):\n",
    "        \"\"\"\n",
    "        :type key: int\n",
    "        :rtype: bool\n",
    "        \"\"\"\n",
    "        return key in self.array\n"
   ],
   "metadata": {
    "collapsed": false,
    "pycharm": {
     "name": "#%%\n"
    }
   }
  },
  {
   "cell_type": "markdown",
   "source": [
    "### 结果\n",
    "失败"
   ],
   "metadata": {
    "collapsed": false,
    "pycharm": {
     "name": "#%% md\n"
    }
   }
  },
  {
   "cell_type": "markdown",
   "source": [
    "## 视频讲解"
   ],
   "metadata": {
    "collapsed": false,
    "pycharm": {
     "name": "#%% md\n"
    }
   }
  },
  {
   "cell_type": "code",
   "execution_count": 40,
   "outputs": [],
   "source": [
    "class MyHashSet:\n",
    "\n",
    "    def __init__(self):\n",
    "        self.a = [False]*10000001\n",
    "\n",
    "\n",
    "    def add(self, key):\n",
    "        self.a[key] = True\n",
    "\n",
    "    def remove(self, key):\n",
    "        self.a[key] = False\n",
    "\n",
    "    def contains(self, key):\n",
    "        return self.a[key]\n"
   ],
   "metadata": {
    "collapsed": false,
    "pycharm": {
     "name": "#%%\n"
    }
   }
  },
  {
   "cell_type": "code",
   "execution_count": 40,
   "outputs": [],
   "source": [],
   "metadata": {
    "collapsed": false,
    "pycharm": {
     "name": "#%%\n"
    }
   }
  }
 ],
 "metadata": {
  "kernelspec": {
   "display_name": "Python 3",
   "language": "python",
   "name": "python3"
  },
  "language_info": {
   "codemirror_mode": {
    "name": "ipython",
    "version": 2
   },
   "file_extension": ".py",
   "mimetype": "text/x-python",
   "name": "python",
   "nbconvert_exporter": "python",
   "pygments_lexer": "ipython2",
   "version": "2.7.6"
  }
 },
 "nbformat": 4,
 "nbformat_minor": 0
}