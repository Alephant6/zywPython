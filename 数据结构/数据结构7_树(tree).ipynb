{
 "cells": [
  {
   "cell_type": "markdown",
   "source": [
    "@date: 20 May, 2022\n",
    "@author: Alephant"
   ],
   "metadata": {
    "collapsed": false,
    "pycharm": {
     "name": "#%% md\n"
    }
   }
  },
  {
   "cell_type": "markdown",
   "source": [
    "# 树tree\n",
    "## 节点\n",
    "1. 节点\n",
    "2. 根节点\n",
    "3. 叶子结点\n",
    "\n",
    "## 高度，深度，层数\n",
    "高度：从下往上计算（从0开始）\n",
    "深度：从上往下计算（从0开始）\n",
    "层数：从上往下计算（从1开始）\n",
    "\n",
    "## 二叉树\n",
    "1. 普通二叉树：每个节点最多两个孩子\n",
    "2. 满二叉树：除了叶子节点，每个节点都有左右两个子节点 - 所有叶子结点在同一层上\n",
    "3. 完全二叉树：从树的根节点，从上到下，从左到右依次填满\n",
    "\n",
    "满二叉树一定是完全二叉树\n",
    "\n",
    "\n",
    "## 二叉树的遍历\n",
    "根据根节点的位置\n",
    "![](https://cdn.jsdelivr.net/gh/Alephant6/PicBed/202205201628628.png)\n",
    "![](https://cdn.jsdelivr.net/gh/Alephant6/PicBed/202205201629118.png)\n",
    "![](https://cdn.jsdelivr.net/gh/Alephant6/PicBed/202205201630239.png)\n",
    "\n",
    "## 力扣\n",
    "1. 144\n",
    "2. 94\n",
    "3. 145"
   ],
   "metadata": {
    "collapsed": false,
    "pycharm": {
     "name": "#%% md\n"
    }
   }
  },
  {
   "cell_type": "markdown",
   "source": [
    "# 问题一：144. 二叉树的前序遍历\n",
    "https://leetcode.cn/problems/binary-tree-preorder-traversal/\n",
    "\n",
    "给你二叉树的根节点 root ，返回它节点值的 前序 遍历。"
   ],
   "metadata": {
    "collapsed": false,
    "pycharm": {
     "name": "#%% md\n"
    }
   }
  },
  {
   "cell_type": "markdown",
   "source": [
    "## 自己考虑——迭代"
   ],
   "metadata": {
    "collapsed": false,
    "pycharm": {
     "name": "#%% md\n"
    }
   }
  },
  {
   "cell_type": "code",
   "execution_count": null,
   "outputs": [],
   "source": [
    "# Definition for a binary tree node.\n",
    "# class TreeNode(object):\n",
    "#     def __init__(self, val=0, left=None, right=None):\n",
    "#         self.val = val\n",
    "#         self.left = left\n",
    "#         self.right = right\n",
    "class Solution(object):\n",
    "    def preorderTraversal(self, root):\n",
    "        \"\"\"\n",
    "        :type root: TreeNode\n",
    "        :rtype: List[int]\n",
    "        \"\"\"\n",
    "\n",
    "        def preorder(root):\n",
    "            if not root:\n",
    "                return\n",
    "            res.append(root.val)\n",
    "            preorder(root.left)\n",
    "            preorder(root.right)\n",
    "\n",
    "        res = list()\n",
    "        preorder(root)\n",
    "        return res\n"
   ],
   "metadata": {
    "collapsed": false,
    "pycharm": {
     "name": "#%%\n"
    }
   }
  }
 ],
 "metadata": {
  "kernelspec": {
   "display_name": "Python 3",
   "language": "python",
   "name": "python3"
  },
  "language_info": {
   "codemirror_mode": {
    "name": "ipython",
    "version": 2
   },
   "file_extension": ".py",
   "mimetype": "text/x-python",
   "name": "python",
   "nbconvert_exporter": "python",
   "pygments_lexer": "ipython2",
   "version": "2.7.6"
  }
 },
 "nbformat": 4,
 "nbformat_minor": 0
}