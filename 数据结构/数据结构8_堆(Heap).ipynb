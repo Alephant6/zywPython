{
 "cells": [
  {
   "cell_type": "markdown",
   "source": [
    "@date: 24 May, 2022\n",
    "@author: Alephant"
   ],
   "metadata": {
    "collapsed": false,
    "pycharm": {
     "name": "#%% md\n"
    }
   }
  },
  {
   "cell_type": "markdown",
   "source": [
    "# 堆\n",
    "## 定义\n",
    "1. 完全二叉树\n",
    "2. 每个节点 >= or <= 孩子节点\n",
    "\n",
    "## 操作\n",
    "![](https://cdn.jsdelivr.net/gh/Alephant6/PicBed/202205240936339.png)\n",
    "\n",
    "一般是删除堆顶元素\n",
    "\n",
    "## 常用操作\n",
    "![](https://cdn.jsdelivr.net/gh/Alephant6/PicBed/202205240938257.png)\n",
    "\n",
    "## 练习题\n",
    "1. 215\n",
    "2. 692"
   ],
   "metadata": {
    "collapsed": false,
    "pycharm": {
     "name": "#%% md\n"
    }
   }
  },
  {
   "cell_type": "markdown",
   "source": [
    "## python中的操作"
   ],
   "metadata": {
    "collapsed": false,
    "pycharm": {
     "name": "#%% md\n"
    }
   }
  },
  {
   "cell_type": "code",
   "execution_count": 1,
   "outputs": [],
   "source": [
    "import heapq"
   ],
   "metadata": {
    "collapsed": false,
    "pycharm": {
     "name": "#%%\n"
    }
   }
  },
  {
   "cell_type": "code",
   "execution_count": 2,
   "outputs": [
    {
     "name": "stdout",
     "output_type": "stream",
     "text": [
      "[1, 2, 9, 10, 8, 11]\n"
     ]
    }
   ],
   "source": [
    "# Create minheap\n",
    "minheap = []\n",
    "heapq.heapify(minheap)\n",
    "\n",
    "# Add element\n",
    "heapq.heappush(minheap, 10)\n",
    "heapq.heappush(minheap, 8)\n",
    "heapq.heappush(minheap, 9)\n",
    "heapq.heappush(minheap, 2)\n",
    "heapq.heappush(minheap, 1)\n",
    "heapq.heappush(minheap, 11)\n",
    "\n",
    "# [1,2,9,10,8,11]\n",
    "print(minheap)\n"
   ],
   "metadata": {
    "collapsed": false,
    "pycharm": {
     "name": "#%%\n"
    }
   }
  },
  {
   "cell_type": "code",
   "execution_count": 3,
   "outputs": [
    {
     "name": "stdout",
     "output_type": "stream",
     "text": [
      "[1, 2, 9, 10, 8, 11]\n"
     ]
    }
   ],
   "source": [
    "# peek\n",
    "# 1\n",
    "print(minheap)"
   ],
   "metadata": {
    "collapsed": false,
    "pycharm": {
     "name": "#%%\n"
    }
   }
  },
  {
   "cell_type": "code",
   "execution_count": 4,
   "outputs": [
    {
     "data": {
      "text/plain": "1"
     },
     "execution_count": 4,
     "metadata": {},
     "output_type": "execute_result"
    }
   ],
   "source": [
    "# Delete\n",
    "heapq.heappop(minheap)"
   ],
   "metadata": {
    "collapsed": false,
    "pycharm": {
     "name": "#%%\n"
    }
   }
  },
  {
   "cell_type": "code",
   "execution_count": 5,
   "outputs": [
    {
     "data": {
      "text/plain": "5"
     },
     "execution_count": 5,
     "metadata": {},
     "output_type": "execute_result"
    }
   ],
   "source": [
    "# Size\n",
    "len(minheap)"
   ],
   "metadata": {
    "collapsed": false,
    "pycharm": {
     "name": "#%%\n"
    }
   }
  },
  {
   "cell_type": "code",
   "execution_count": 6,
   "outputs": [
    {
     "name": "stdout",
     "output_type": "stream",
     "text": [
      "2\n",
      "8\n",
      "9\n",
      "10\n",
      "11\n"
     ]
    }
   ],
   "source": [
    "# Iteration\n",
    "while len(minheap) != 0:\n",
    "    print(heapq.heappop(minheap))"
   ],
   "metadata": {
    "collapsed": false,
    "pycharm": {
     "name": "#%%\n"
    }
   }
  },
  {
   "cell_type": "markdown",
   "source": [
    "python里没有创建最大堆的方法，可以每个值都取负值"
   ],
   "metadata": {
    "collapsed": false,
    "pycharm": {
     "name": "#%% md\n"
    }
   }
  },
  {
   "cell_type": "markdown",
   "source": [
    "# 问题一 215. 数组中的第K个最大元素\n",
    "https://leetcode.cn/problems/kth-largest-element-in-an-array/\n",
    "\n",
    "给定整数数组 nums 和整数 k，请返回数组中第 k 个最大的元素。\n",
    "\n",
    "请注意，你需要找的是数组排序后的第 k 个最大的元素，而不是第 k 个不同的元素。"
   ],
   "metadata": {
    "collapsed": false,
    "pycharm": {
     "name": "#%% md\n"
    }
   }
  },
  {
   "cell_type": "markdown",
   "source": [
    "## 自己思考"
   ],
   "metadata": {
    "collapsed": false,
    "pycharm": {
     "name": "#%% md\n"
    }
   }
  },
  {
   "cell_type": "code",
   "execution_count": 7,
   "outputs": [],
   "source": [
    "class Solution(object):\n",
    "    def findKthLargest(self, nums, k):\n",
    "        \"\"\"\n",
    "        :type nums: List[int]\n",
    "        :type k: int\n",
    "        :rtype: int\n",
    "        \"\"\"\n",
    "        import heapq\n",
    "        nums = [num * (-1) for num in nums]\n",
    "        heapq.heapify(nums)\n",
    "        for i in range(0, k-1):\n",
    "            heapq.heappop(nums)\n",
    "        return -1*heapq.heappop(nums)\n"
   ],
   "metadata": {
    "collapsed": false,
    "pycharm": {
     "name": "#%%\n"
    }
   }
  },
  {
   "cell_type": "markdown",
   "source": [
    "### 结果\n",
    "![](https://cdn.jsdelivr.net/gh/Alephant6/PicBed/202205241025596.png)"
   ],
   "metadata": {
    "collapsed": false,
    "pycharm": {
     "name": "#%% md\n"
    }
   }
  },
  {
   "cell_type": "markdown",
   "source": [
    "# 问题二 692. 前K个高频单词\n",
    "给定一个单词列表 words 和一个整数 k ，返回前 k 个出现次数最多的单词。\n",
    "\n",
    "返回的答案应该按单词出现频率由高到低排序。如果不同的单词有相同出现频率， 按字典顺序 排序。\n"
   ],
   "metadata": {
    "collapsed": false,
    "pycharm": {
     "name": "#%% md\n"
    }
   }
  },
  {
   "cell_type": "code",
   "execution_count": 8,
   "outputs": [],
   "source": [
    "import heapq\n",
    "class Solution(object):\n",
    "    def topKFrequent(self, words, k):\n",
    "        \"\"\"\n",
    "        :type words: List[str]\n",
    "        :type k: int\n",
    "        :rtype: List[str]\n",
    "        \"\"\"\n",
    "        hashTable = {}\n",
    "        for word in words:\n",
    "            if word in hashTable.keys():\n",
    "                hashTable[word] += 1\n",
    "            else:\n",
    "                hashTable[word] = 1\n",
    "        l = sorted(hashTable.items(), reverse=True, key = lambda kv:(kv[1], kv[0]))\n",
    "        print(l)\n",
    "        return [key for (key,value) in l[0:k]]\n",
    "\n"
   ],
   "metadata": {
    "collapsed": false,
    "pycharm": {
     "name": "#%%\n"
    }
   }
  },
  {
   "cell_type": "code",
   "execution_count": 9,
   "outputs": [
    {
     "name": "stdout",
     "output_type": "stream",
     "text": [
      "[('love', 2), ('i', 2), ('leetcode', 1), ('coding', 1)]\n"
     ]
    },
    {
     "data": {
      "text/plain": "['love', 'i']"
     },
     "execution_count": 9,
     "metadata": {},
     "output_type": "execute_result"
    }
   ],
   "source": [
    "test = Solution()\n",
    "words = [\"i\", \"love\", \"leetcode\", \"i\", \"love\", \"coding\"]\n",
    "k = 2\n",
    "test.topKFrequent(words,k)"
   ],
   "metadata": {
    "collapsed": false,
    "pycharm": {
     "name": "#%%\n"
    }
   }
  },
  {
   "cell_type": "markdown",
   "source": [
    "### 结果\n",
    "![](https://cdn.jsdelivr.net/gh/Alephant6/PicBed/202205241117990.png)\n",
    "原因：\n",
    "1. 没有按照满足‘不同的单词有相同出现频率， 按字典顺序 排序’\n",
    "2. 目前不知道怎么解"
   ],
   "metadata": {
    "collapsed": false,
    "pycharm": {
     "name": "#%% md\n"
    }
   }
  },
  {
   "cell_type": "markdown",
   "source": [
    "## 理解一下sorted()\n",
    "参考：https://docs.python.org/3.8/howto/sorting.html\n",
    "\n",
    "## 问题二有两个思路：\n",
    "1. 改写heapq的比较器__lt__()使其满足\n",
    "2. 参考[sorted()文档](https://docs.python.org/3.8/howto/sorting.html)在思考一基础上编写一个mutisorted()函数"
   ],
   "metadata": {
    "collapsed": false,
    "pycharm": {
     "name": "#%% md\n"
    }
   }
  },
  {
   "cell_type": "markdown",
   "source": [
    "### 思路一"
   ],
   "metadata": {
    "collapsed": false,
    "pycharm": {
     "name": "#%% md\n"
    }
   }
  },
  {
   "cell_type": "code",
   "execution_count": 10,
   "outputs": [
    {
     "ename": "TypeError",
     "evalue": "module() takes at most 2 arguments (3 given)",
     "output_type": "error",
     "traceback": [
      "\u001B[1;31m---------------------------------------------------------------------------\u001B[0m",
      "\u001B[1;31mTypeError\u001B[0m                                 Traceback (most recent call last)",
      "Input \u001B[1;32mIn [10]\u001B[0m, in \u001B[0;36m<cell line: 1>\u001B[1;34m()\u001B[0m\n\u001B[1;32m----> 1\u001B[0m \u001B[38;5;28;01mclass\u001B[39;00m \u001B[38;5;21;01mmaxHeapq\u001B[39;00m(heapq):\n\u001B[0;32m      2\u001B[0m     \u001B[38;5;28;01mdef\u001B[39;00m \u001B[38;5;21m__lt__\u001B[39m(\u001B[38;5;28mself\u001B[39m, other):\n\u001B[0;32m      3\u001B[0m         \u001B[38;5;28;01mif\u001B[39;00m \u001B[38;5;28mself\u001B[39m\u001B[38;5;241m.\u001B[39mvalue[\u001B[38;5;241m0\u001B[39m] \u001B[38;5;241m>\u001B[39m \u001B[38;5;28mself\u001B[39m\u001B[38;5;241m.\u001B[39mvalue[\u001B[38;5;241m0\u001B[39m]:\n",
      "\u001B[1;31mTypeError\u001B[0m: module() takes at most 2 arguments (3 given)"
     ]
    }
   ],
   "source": [
    "class maxHeapq(heapq):\n",
    "    def __lt__(self, other):\n",
    "        if self.value[0] > self.value[0]:\n",
    "            return True\n",
    "        elif self.value[0] == self.value[0] and self.value[1] < other.value[1]:\n",
    "            return True\n",
    "        else:\n",
    "            return False"
   ],
   "metadata": {
    "collapsed": false,
    "pycharm": {
     "name": "#%%\n"
    }
   }
  },
  {
   "cell_type": "code",
   "execution_count": null,
   "outputs": [],
   "source": [],
   "metadata": {
    "collapsed": false,
    "pycharm": {
     "name": "#%%\n"
    }
   }
  },
  {
   "cell_type": "markdown",
   "source": [
    "### 思路二"
   ],
   "metadata": {
    "collapsed": false,
    "pycharm": {
     "name": "#%% md\n"
    }
   }
  },
  {
   "cell_type": "markdown",
   "source": [
    "#### 仿照文档改写"
   ],
   "metadata": {
    "collapsed": false,
    "pycharm": {
     "name": "#%% md\n"
    }
   }
  },
  {
   "cell_type": "code",
   "execution_count": 11,
   "outputs": [
    {
     "data": {
      "text/plain": "[('john', 'A', 15), ('jane', 'B', 12), ('dave', 'B', 10), ('apple', 'B', 9)]"
     },
     "execution_count": 11,
     "metadata": {},
     "output_type": "execute_result"
    }
   ],
   "source": [
    "student_tuples = [\n",
    "    ('john', 'A', 15),\n",
    "    ('jane', 'B', 12),\n",
    "    ('dave', 'B', 10),\n",
    "    ('apple', 'B', 9)\n",
    "]\n",
    "sorted(student_tuples, key=lambda student: student[1])\n",
    "# sort by age"
   ],
   "metadata": {
    "collapsed": false,
    "pycharm": {
     "name": "#%%\n"
    }
   }
  },
  {
   "cell_type": "code",
   "execution_count": 12,
   "outputs": [],
   "source": [
    "from operator import attrgetter, itemgetter\n",
    "\n",
    "def multisort(xs, specs):\n",
    "    for index, reverse in reversed(specs):\n",
    "        xs.sort(key=lambda student: student[index], reverse=reverse)\n",
    "    return xs"
   ],
   "metadata": {
    "collapsed": false,
    "pycharm": {
     "name": "#%%\n"
    }
   }
  },
  {
   "cell_type": "code",
   "execution_count": 13,
   "outputs": [
    {
     "data": {
      "text/plain": "[('john', 'A', 15), ('jane', 'B', 12), ('dave', 'B', 10), ('apple', 'B', 9)]"
     },
     "execution_count": 13,
     "metadata": {},
     "output_type": "execute_result"
    }
   ],
   "source": [
    "# 对于student_tuples第一个元素从大到小排序，第二个元素从小到大排序，第三个元素从大到小排序\n",
    "multisort(student_tuples,((0,True),(1,False),(2,True)))"
   ],
   "metadata": {
    "collapsed": false,
    "pycharm": {
     "name": "#%%\n"
    }
   }
  },
  {
   "cell_type": "code",
   "execution_count": 14,
   "outputs": [],
   "source": [
    "# 字典转列表\n",
    "def dict2list(dict):\n",
    "    list1 = dict.keys()\n",
    "    list2 = dict.values()\n",
    "    lis = list(zip(list1,list2))\n",
    "    return lis"
   ],
   "metadata": {
    "collapsed": false,
    "pycharm": {
     "name": "#%%\n"
    }
   }
  },
  {
   "cell_type": "code",
   "execution_count": 15,
   "outputs": [
    {
     "name": "stdout",
     "output_type": "stream",
     "text": [
      "{1: 's', 2: 't'}\n",
      "[(1, 's'), (2, 't')]\n"
     ]
    }
   ],
   "source": [
    "dict = {1:'s',2:'t'}\n",
    "print(dict)\n",
    "print(dict2list(dict))"
   ],
   "metadata": {
    "collapsed": false,
    "pycharm": {
     "name": "#%%\n"
    }
   }
  },
  {
   "cell_type": "markdown",
   "source": [
    "#### 对问题二操作"
   ],
   "metadata": {
    "collapsed": false,
    "pycharm": {
     "name": "#%% md\n"
    }
   }
  },
  {
   "cell_type": "code",
   "execution_count": 16,
   "outputs": [],
   "source": [
    "import heapq\n",
    "# 字典转列表[(key,value),...]\n",
    "def dict2list(dict):\n",
    "    list1 = dict.keys()\n",
    "    list2 = dict.values()\n",
    "    lis = list(zip(list1,list2))\n",
    "    return lis\n",
    "\n",
    "# 综合排序函数\n",
    "def multisort(xs, specs):\n",
    "    for index, reverse in reversed(specs):\n",
    "        xs.sort(key=lambda t: t[index], reverse=reverse)\n",
    "    return xs\n",
    "\n",
    "\n",
    "class Solution(object):\n",
    "    def topKFrequent(self, words, k):\n",
    "        \"\"\"\n",
    "        :type words: List[str]\n",
    "        :type k: int\n",
    "        :rtype: List[str]\n",
    "        \"\"\"\n",
    "        # 哈希表记录词频\n",
    "        hashTable = {}\n",
    "        for word in words:\n",
    "            if word in hashTable.keys():\n",
    "                hashTable[word] += 1\n",
    "            else:\n",
    "                hashTable[word] = 1\n",
    "\n",
    "        # 将哈希表转为列表[(key,value),...]\n",
    "        l = dict2list(hashTable)\n",
    "        # 对频数从大到小排序，对单词从小到大排序\n",
    "        resMultisort = multisort(l,((1,True),(0,False)))\n",
    "\n",
    "        # 返回前k个高频单词，以list的格式\n",
    "        return [key for key,value in resMultisort[0:k]]"
   ],
   "metadata": {
    "collapsed": false,
    "pycharm": {
     "name": "#%%\n"
    }
   }
  },
  {
   "cell_type": "code",
   "execution_count": 17,
   "outputs": [
    {
     "data": {
      "text/plain": "['i', 'love']"
     },
     "execution_count": 17,
     "metadata": {},
     "output_type": "execute_result"
    }
   ],
   "source": [
    "# 测试\n",
    "test = Solution()\n",
    "words = [\"i\", \"love\", \"leetcode\", \"i\", \"love\", \"coding\"]\n",
    "k = 2\n",
    "test.topKFrequent(words,k)"
   ],
   "metadata": {
    "collapsed": false,
    "pycharm": {
     "name": "#%%\n"
    }
   }
  },
  {
   "cell_type": "markdown",
   "source": [
    "#### 结果\n",
    "![](https://cdn.jsdelivr.net/gh/Alephant6/PicBed/202205241457041.png)"
   ],
   "metadata": {
    "collapsed": false,
    "pycharm": {
     "name": "#%% md\n"
    }
   }
  },
  {
   "cell_type": "code",
   "execution_count": null,
   "outputs": [],
   "source": [],
   "metadata": {
    "collapsed": false,
    "pycharm": {
     "name": "#%%\n"
    }
   }
  }
 ],
 "metadata": {
  "kernelspec": {
   "display_name": "Python 3",
   "language": "python",
   "name": "python3"
  },
  "language_info": {
   "codemirror_mode": {
    "name": "ipython",
    "version": 2
   },
   "file_extension": ".py",
   "mimetype": "text/x-python",
   "name": "python",
   "nbconvert_exporter": "python",
   "pygments_lexer": "ipython2",
   "version": "2.7.6"
  }
 },
 "nbformat": 4,
 "nbformat_minor": 0
}