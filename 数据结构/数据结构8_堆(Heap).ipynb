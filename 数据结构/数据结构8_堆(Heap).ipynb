{
 "cells": [
  {
   "cell_type": "markdown",
   "source": [
    "@date: 24 May, 2022\n",
    "@author: Alephant"
   ],
   "metadata": {
    "collapsed": false,
    "pycharm": {
     "name": "#%% md\n"
    }
   }
  },
  {
   "cell_type": "markdown",
   "source": [
    "# 堆\n",
    "## 定义\n",
    "1. 完全二叉树\n",
    "2. 每个节点 >= or <= 孩子节点\n",
    "\n",
    "## 操作\n",
    "![](https://cdn.jsdelivr.net/gh/Alephant6/PicBed/202205240936339.png)\n",
    "\n",
    "一般是删除堆顶元素\n",
    "\n",
    "## 常用操作\n",
    "![](https://cdn.jsdelivr.net/gh/Alephant6/PicBed/202205240938257.png)\n",
    "\n",
    "## 练习题\n",
    "1. 215\n",
    "2. 692"
   ],
   "metadata": {
    "collapsed": false,
    "pycharm": {
     "name": "#%% md\n"
    }
   }
  },
  {
   "cell_type": "markdown",
   "source": [
    "## python中的操作"
   ],
   "metadata": {
    "collapsed": false,
    "pycharm": {
     "name": "#%% md\n"
    }
   }
  },
  {
   "cell_type": "code",
   "execution_count": 1,
   "outputs": [],
   "source": [
    "import heapq"
   ],
   "metadata": {
    "collapsed": false,
    "pycharm": {
     "name": "#%%\n"
    }
   }
  },
  {
   "cell_type": "code",
   "execution_count": 2,
   "outputs": [
    {
     "name": "stdout",
     "output_type": "stream",
     "text": [
      "[1, 2, 9, 10, 8, 11]\n"
     ]
    }
   ],
   "source": [
    "# Create minheap\n",
    "minheap = []\n",
    "heapq.heapify(minheap)\n",
    "\n",
    "# Add element\n",
    "heapq.heappush(minheap, 10)\n",
    "heapq.heappush(minheap, 8)\n",
    "heapq.heappush(minheap, 9)\n",
    "heapq.heappush(minheap, 2)\n",
    "heapq.heappush(minheap, 1)\n",
    "heapq.heappush(minheap, 11)\n",
    "\n",
    "# [1,2,9,10,8,11]\n",
    "print(minheap)\n"
   ],
   "metadata": {
    "collapsed": false,
    "pycharm": {
     "name": "#%%\n"
    }
   }
  },
  {
   "cell_type": "code",
   "execution_count": 3,
   "outputs": [
    {
     "name": "stdout",
     "output_type": "stream",
     "text": [
      "[1, 2, 9, 10, 8, 11]\n"
     ]
    }
   ],
   "source": [
    "# peek\n",
    "# 1\n",
    "print(minheap)"
   ],
   "metadata": {
    "collapsed": false,
    "pycharm": {
     "name": "#%%\n"
    }
   }
  },
  {
   "cell_type": "code",
   "execution_count": 4,
   "outputs": [
    {
     "data": {
      "text/plain": "1"
     },
     "execution_count": 4,
     "metadata": {},
     "output_type": "execute_result"
    }
   ],
   "source": [
    "# Delete\n",
    "heapq.heappop(minheap)"
   ],
   "metadata": {
    "collapsed": false,
    "pycharm": {
     "name": "#%%\n"
    }
   }
  },
  {
   "cell_type": "code",
   "execution_count": 5,
   "outputs": [
    {
     "data": {
      "text/plain": "5"
     },
     "execution_count": 5,
     "metadata": {},
     "output_type": "execute_result"
    }
   ],
   "source": [
    "# Size\n",
    "len(minheap)"
   ],
   "metadata": {
    "collapsed": false,
    "pycharm": {
     "name": "#%%\n"
    }
   }
  },
  {
   "cell_type": "code",
   "execution_count": 6,
   "outputs": [
    {
     "name": "stdout",
     "output_type": "stream",
     "text": [
      "2\n",
      "8\n",
      "9\n",
      "10\n",
      "11\n"
     ]
    }
   ],
   "source": [
    "# Iteration\n",
    "while len(minheap) != 0:\n",
    "    print(heapq.heappop(minheap))"
   ],
   "metadata": {
    "collapsed": false,
    "pycharm": {
     "name": "#%%\n"
    }
   }
  },
  {
   "cell_type": "markdown",
   "source": [
    "python里没有创建最大堆的方法，可以每个值都取负值"
   ],
   "metadata": {
    "collapsed": false,
    "pycharm": {
     "name": "#%% md\n"
    }
   }
  },
  {
   "cell_type": "markdown",
   "source": [
    "# 问题一 215. 数组中的第K个最大元素\n",
    "https://leetcode.cn/problems/kth-largest-element-in-an-array/\n",
    "\n",
    "给定整数数组 nums 和整数 k，请返回数组中第 k 个最大的元素。\n",
    "\n",
    "请注意，你需要找的是数组排序后的第 k 个最大的元素，而不是第 k 个不同的元素。"
   ],
   "metadata": {
    "collapsed": false,
    "pycharm": {
     "name": "#%% md\n"
    }
   }
  },
  {
   "cell_type": "markdown",
   "source": [
    "## 自己思考"
   ],
   "metadata": {
    "collapsed": false,
    "pycharm": {
     "name": "#%% md\n"
    }
   }
  },
  {
   "cell_type": "code",
   "execution_count": 7,
   "outputs": [],
   "source": [
    "class Solution(object):\n",
    "    def findKthLargest(self, nums, k):\n",
    "        \"\"\"\n",
    "        :type nums: List[int]\n",
    "        :type k: int\n",
    "        :rtype: int\n",
    "        \"\"\"\n",
    "        import heapq\n",
    "        nums = [num * (-1) for num in nums]\n",
    "        heapq.heapify(nums)\n",
    "        for i in range(0, k-1):\n",
    "            heapq.heappop(nums)\n",
    "        return -1*heapq.heappop(nums)\n"
   ],
   "metadata": {
    "collapsed": false,
    "pycharm": {
     "name": "#%%\n"
    }
   }
  },
  {
   "cell_type": "markdown",
   "source": [
    "### 结果\n",
    "![](https://cdn.jsdelivr.net/gh/Alephant6/PicBed/202205241025596.png)"
   ],
   "metadata": {
    "collapsed": false,
    "pycharm": {
     "name": "#%% md\n"
    }
   }
  },
  {
   "cell_type": "markdown",
   "source": [
    "# 问题二 692. 前K个高频单词\n",
    "给定一个单词列表 words 和一个整数 k ，返回前 k 个出现次数最多的单词。\n",
    "\n",
    "返回的答案应该按单词出现频率由高到低排序。如果不同的单词有相同出现频率， 按字典顺序 排序。\n"
   ],
   "metadata": {
    "collapsed": false,
    "pycharm": {
     "name": "#%% md\n"
    }
   }
  },
  {
   "cell_type": "code",
   "execution_count": 8,
   "outputs": [],
   "source": [
    "import heapq\n",
    "class Solution(object):\n",
    "    def topKFrequent(self, words, k):\n",
    "        \"\"\"\n",
    "        :type words: List[str]\n",
    "        :type k: int\n",
    "        :rtype: List[str]\n",
    "        \"\"\"\n",
    "        hashTable = {}\n",
    "        for word in words:\n",
    "            if word in hashTable.keys():\n",
    "                hashTable[word] += 1\n",
    "            else:\n",
    "                hashTable[word] = 1\n",
    "        l = sorted(hashTable.items(), reverse=True, key = lambda kv:(kv[1], kv[0]))\n",
    "        print(l)\n",
    "        return [key for (key,value) in l[0:k]]\n",
    "\n"
   ],
   "metadata": {
    "collapsed": false,
    "pycharm": {
     "name": "#%%\n"
    }
   }
  },
  {
   "cell_type": "markdown",
   "source": [
    "### 结果\n",
    "![](https://cdn.jsdelivr.net/gh/Alephant6/PicBed/202205241117990.png)\n",
    "原因：\n",
    "1. 没有按照满足‘不同的单词有相同出现频率， 按字典顺序 排序’\n",
    "2. 目前不知道怎么解"
   ],
   "metadata": {
    "collapsed": false,
    "pycharm": {
     "name": "#%% md\n"
    }
   }
  },
  {
   "cell_type": "code",
   "execution_count": 8,
   "outputs": [],
   "source": [],
   "metadata": {
    "collapsed": false,
    "pycharm": {
     "name": "#%%\n"
    }
   }
  }
 ],
 "metadata": {
  "kernelspec": {
   "display_name": "Python 3",
   "language": "python",
   "name": "python3"
  },
  "language_info": {
   "codemirror_mode": {
    "name": "ipython",
    "version": 2
   },
   "file_extension": ".py",
   "mimetype": "text/x-python",
   "name": "python",
   "nbconvert_exporter": "python",
   "pygments_lexer": "ipython2",
   "version": "2.7.6"
  }
 },
 "nbformat": 4,
 "nbformat_minor": 0
}