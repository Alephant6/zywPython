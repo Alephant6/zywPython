{
 "cells": [
  {
   "cell_type": "markdown",
   "source": [
    "@date: 25 May, 2022\n",
    "\n",
    "@author: Alephant"
   ],
   "metadata": {
    "collapsed": false,
    "pycharm": {
     "name": "#%% md\n"
    }
   }
  },
  {
   "cell_type": "markdown",
   "source": [
    "# 图 Graph\n",
    "## 定义\n",
    "![](https://cdn.jsdelivr.net/gh/Alephant6/PicBed/202205250943905.png)\n",
    "## 分类\n",
    "1. 无向图\n",
    "2. 有向图\n",
    "3. 权重图\n",
    "\n",
    "### 有向图\n",
    "![](https://cdn.jsdelivr.net/gh/Alephant6/PicBed/202205250946467.png)\n",
    "### 权重图\n",
    "\n",
    "一般要求最短路径\n",
    "## 算法\n",
    "1. 最短路径\n",
    "![](https://cdn.jsdelivr.net/gh/Alephant6/PicBed/202205250948185.png)"
   ],
   "metadata": {
    "collapsed": false,
    "pycharm": {
     "name": "#%% md\n"
    }
   }
  }
 ],
 "metadata": {
  "kernelspec": {
   "display_name": "Python 3",
   "language": "python",
   "name": "python3"
  },
  "language_info": {
   "codemirror_mode": {
    "name": "ipython",
    "version": 2
   },
   "file_extension": ".py",
   "mimetype": "text/x-python",
   "name": "python",
   "nbconvert_exporter": "python",
   "pygments_lexer": "ipython2",
   "version": "2.7.6"
  }
 },
 "nbformat": 4,
 "nbformat_minor": 0
}