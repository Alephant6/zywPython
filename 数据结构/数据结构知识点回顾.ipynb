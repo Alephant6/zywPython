{
 "cells": [
  {
   "cell_type": "markdown",
   "source": [
    "@date: 25 May, 2022\n",
    "\n",
    "@author: Alephant"
   ],
   "metadata": {
    "collapsed": false,
    "pycharm": {
     "name": "#%% md\n"
    }
   }
  },
  {
   "cell_type": "markdown",
   "source": [
    "## 数组\n",
    "数组和链表的区别？\n",
    "\n",
    "适合读\n",
    "\n",
    "## 链表\n",
    "适合写\n",
    "\n",
    "## 队列\n",
    "\n",
    "## 栈\n",
    "\n",
    "## 堆\n",
    "\n",
    "## 哈希表\n",
    "\n",
    "## 哈希集合\n",
    "哈希碰撞了怎么办\n",
    "\n",
    "## 树\n",
    "\n",
    "## 图\n",
    "\n",
    "## 基本操作的\n",
    "1. 访问Access\n",
    "2. 搜索Search\n",
    "3. 添加Insert\n",
    "4. 删除Delete"
   ],
   "metadata": {
    "collapsed": false,
    "pycharm": {
     "name": "#%% md\n"
    }
   }
  }
 ],
 "metadata": {
  "kernelspec": {
   "display_name": "Python 3",
   "language": "python",
   "name": "python3"
  },
  "language_info": {
   "codemirror_mode": {
    "name": "ipython",
    "version": 2
   },
   "file_extension": ".py",
   "mimetype": "text/x-python",
   "name": "python",
   "nbconvert_exporter": "python",
   "pygments_lexer": "ipython2",
   "version": "2.7.6"
  }
 },
 "nbformat": 4,
 "nbformat_minor": 0
}