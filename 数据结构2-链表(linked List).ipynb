{
 "cells": [
  {
   "cell_type": "markdown",
   "source": [
    "@date: 11 May, 2022\n",
    "\n",
    "@author: Alephant"
   ],
   "metadata": {
    "collapsed": false,
    "pycharm": {
     "name": "#%% md\n"
    }
   }
  },
  {
   "cell_type": "markdown",
   "source": [
    "# 链表\n",
    "## 链表分类\n",
    "![](https://cdn.jsdelivr.net/gh/Alephant6/PicBed/202205121432339.png)\n",
    "\n",
    "\n",
    "## 如何判断一个数组、链表的好坏\n",
    "![](https://cdn.jsdelivr.net/gh/Alephant6/PicBed/202205121433156.png)\n",
    "\n",
    "### 缺点：前两个\n",
    "1. 访问\n",
    "2. 搜索\n",
    "\n",
    "### 优点：\n",
    "1. 插入\n",
    "2. 删除\n",
    "\n",
    "## 特点\n",
    "写很快，度很慢 -> 读少写多\n",
    "\n",
    "## 链表常用操作\n",
    "![](https://cdn.jsdelivr.net/gh/Alephant6/PicBed/202205121436175.png)\n",
    "\n",
    "##  推荐练习题\n",
    "![](https://cdn.jsdelivr.net/gh/Alephant6/PicBed/202205121437365.png)"
   ],
   "metadata": {
    "collapsed": false,
    "pycharm": {
     "name": "#%% md\n"
    }
   }
  },
  {
   "cell_type": "code",
   "execution_count": null,
   "outputs": [],
   "source": [],
   "metadata": {
    "collapsed": false,
    "pycharm": {
     "name": "#%%\n"
    }
   }
  }
 ],
 "metadata": {
  "kernelspec": {
   "display_name": "Python 3",
   "language": "python",
   "name": "python3"
  },
  "language_info": {
   "codemirror_mode": {
    "name": "ipython",
    "version": 2
   },
   "file_extension": ".py",
   "mimetype": "text/x-python",
   "name": "python",
   "nbconvert_exporter": "python",
   "pygments_lexer": "ipython2",
   "version": "2.7.6"
  }
 },
 "nbformat": 4,
 "nbformat_minor": 0
}