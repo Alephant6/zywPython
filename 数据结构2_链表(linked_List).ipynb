{
 "cells": [
  {
   "cell_type": "markdown",
   "metadata": {
    "id": "view-in-github",
    "colab_type": "text",
    "pycharm": {
     "name": "#%% md\n"
    }
   },
   "source": [
    "<a href=\"https://colab.research.google.com/github/Alephant6/zywPython/blob/main/%E6%95%B0%E6%8D%AE%E7%BB%93%E6%9E%842_%E9%93%BE%E8%A1%A8(linked_List).ipynb\" target=\"_parent\"><img src=\"https://colab.research.google.com/assets/colab-badge.svg\" alt=\"Open In Colab\"/></a>"
   ]
  },
  {
   "cell_type": "markdown",
   "source": [
    "@date: 11 May, 2022\n",
    "\n",
    "@author: Alephant"
   ],
   "metadata": {
    "collapsed": false,
    "pycharm": {
     "name": "#%% md\n"
    },
    "id": "e66-34PZOhnp"
   }
  },
  {
   "cell_type": "markdown",
   "source": [
    "# 链表\n",
    "## 链表分类\n",
    "![](https://cdn.jsdelivr.net/gh/Alephant6/PicBed/202205121432339.png)\n",
    "\n",
    "\n",
    "## 如何判断一个数组、链表的好坏\n",
    "![](https://cdn.jsdelivr.net/gh/Alephant6/PicBed/202205121433156.png)\n",
    "\n",
    "### 缺点：前两个\n",
    "1. 访问\n",
    "2. 搜索\n",
    "\n",
    "### 优点：\n",
    "1. 插入\n",
    "2. 删除\n",
    "\n",
    "## 特点\n",
    "写很快，度很慢 -> 读少写多\n",
    "\n",
    "## 链表常用操作\n",
    "![](https://cdn.jsdelivr.net/gh/Alephant6/PicBed/202205121436175.png)\n",
    "\n",
    "##  推荐练习题\n",
    "![](https://cdn.jsdelivr.net/gh/Alephant6/PicBed/202205121437365.png)"
   ],
   "metadata": {
    "collapsed": false,
    "pycharm": {
     "name": "#%% md\n"
    },
    "id": "8CDS_ZP4Ohns"
   }
  },
  {
   "cell_type": "markdown",
   "source": [
    "## 链表常用操作\n",
    "> zyw笔记\n",
    "\n",
    "![](https://cdn.jsdelivr.net/gh/Alephant6/PicBed/202205121524069.png)"
   ],
   "metadata": {
    "collapsed": false,
    "pycharm": {
     "name": "#%% md\n"
    },
    "id": "2GKjZy6JOhnt"
   }
  },
  {
   "cell_type": "code",
   "source": [
    "from collections import deque"
   ],
   "metadata": {
    "id": "6337PaxZR2xG",
    "pycharm": {
     "name": "#%%\n"
    }
   },
   "execution_count": 1,
   "outputs": []
  },
  {
   "cell_type": "code",
   "source": [
    "queue = deque(['name','age','DOB'])  \n",
    "      \n",
    "print(queue)"
   ],
   "metadata": {
    "colab": {
     "base_uri": "https://localhost:8080/"
    },
    "id": "AWTyK5XOTMbn",
    "outputId": "08f1d9bd-1ad0-4ccd-89c2-50b846d08513",
    "pycharm": {
     "name": "#%%\n"
    }
   },
   "execution_count": 2,
   "outputs": [
    {
     "name": "stdout",
     "output_type": "stream",
     "text": [
      "deque(['name', 'age', 'DOB'])\n"
     ]
    }
   ]
  },
  {
   "cell_type": "code",
   "source": [
    "queue.append('3d4')\n",
    "print(queue)"
   ],
   "metadata": {
    "colab": {
     "base_uri": "https://localhost:8080/"
    },
    "id": "Fenq9FreUq2_",
    "outputId": "49ea6dbb-78b4-416e-b240-974326d18e6d",
    "pycharm": {
     "name": "#%%\n"
    }
   },
   "execution_count": 3,
   "outputs": [
    {
     "name": "stdout",
     "output_type": "stream",
     "text": [
      "deque(['name', 'age', 'DOB', '3d4'])\n"
     ]
    }
   ]
  },
  {
   "cell_type": "code",
   "source": [
    "queue[2]"
   ],
   "metadata": {
    "colab": {
     "base_uri": "https://localhost:8080/",
     "height": 38
    },
    "id": "16z2J7dvVg1f",
    "outputId": "452f7f35-7815-4db5-b37a-d12fddd258e5",
    "pycharm": {
     "name": "#%%\n"
    }
   },
   "execution_count": 4,
   "outputs": [
    {
     "data": {
      "text/plain": "'DOB'"
     },
     "execution_count": 4,
     "metadata": {},
     "output_type": "execute_result"
    }
   ]
  },
  {
   "cell_type": "code",
   "source": [
    "queue.index('age')"
   ],
   "metadata": {
    "colab": {
     "base_uri": "https://localhost:8080/"
    },
    "id": "7V772lPrVkva",
    "outputId": "ece9d8da-a38d-4bcb-9b36-ebd35a839dc4",
    "pycharm": {
     "name": "#%%\n"
    }
   },
   "execution_count": 5,
   "outputs": [
    {
     "data": {
      "text/plain": "1"
     },
     "execution_count": 5,
     "metadata": {},
     "output_type": "execute_result"
    }
   ]
  },
  {
   "cell_type": "code",
   "source": [
    "queue.remove('name')\n",
    "print(queue)"
   ],
   "metadata": {
    "colab": {
     "base_uri": "https://localhost:8080/"
    },
    "id": "utO-JHxqVzHj",
    "outputId": "0b846d0b-b160-4cff-d089-641734195a59",
    "pycharm": {
     "name": "#%%\n"
    }
   },
   "execution_count": 6,
   "outputs": [
    {
     "name": "stdout",
     "output_type": "stream",
     "text": [
      "deque(['age', 'DOB', '3d4'])\n"
     ]
    }
   ]
  },
  {
   "cell_type": "code",
   "source": [
    "len(queue)"
   ],
   "metadata": {
    "colab": {
     "base_uri": "https://localhost:8080/"
    },
    "id": "vHqEsH3PVbm3",
    "outputId": "7ec9dcdb-977b-4c2b-ebf8-8f8f59dcc1ec",
    "pycharm": {
     "name": "#%%\n"
    }
   },
   "execution_count": 7,
   "outputs": [
    {
     "data": {
      "text/plain": "3"
     },
     "execution_count": 7,
     "metadata": {},
     "output_type": "execute_result"
    }
   ]
  },
  {
   "cell_type": "code",
   "source": [
    "'a' == 'a'"
   ],
   "metadata": {
    "colab": {
     "base_uri": "https://localhost:8080/"
    },
    "id": "Fo6Q64kuWGQJ",
    "outputId": "95f6254b-ed74-4929-8250-5f6c6c6ee5c3",
    "pycharm": {
     "name": "#%%\n"
    }
   },
   "execution_count": 8,
   "outputs": [
    {
     "data": {
      "text/plain": "True"
     },
     "execution_count": 8,
     "metadata": {},
     "output_type": "execute_result"
    }
   ]
  },
  {
   "cell_type": "markdown",
   "source": [
    "# 问题一：203.移除链表元素\n",
    "给你一个链表的头节点 head 和一个整数 val ，请你删除链表中所有满足 Node.val == val 的节点，并返回 新的头节点 。\n",
    " \n",
    "\n",
    "示例 1：\n",
    "\n",
    "\n",
    "输入：head = [1,2,6,3,4,5,6], val = 6\n",
    "\n",
    "输出：[1,2,3,4,5]\n",
    "\n",
    "示例 2：\n",
    "\n",
    "输入：head = [], val = 1\n",
    "\n",
    "输出：[]\n",
    "\n",
    "示例 3：\n",
    "\n",
    "输入：head = [7,7,7,7], val = 7\n",
    "\n",
    "输出：[]\n",
    " \n",
    "\n",
    "提示：\n",
    "\n",
    "列表中的节点数目在范围 [0, 104] 内\n",
    "\n",
    "1 <= Node.val <= 50\n",
    "\n",
    "0 <= val <= 50\n",
    "\n",
    "来源：力扣（LeetCode）\n",
    "链接：https://leetcode-cn.com/problems/remove-linked-list-elements\n",
    "著作权归领扣网络所有。商业转载请联系官方授权，非商业转载请注明出处。"
   ],
   "metadata": {
    "id": "qctur4MCQR_Q",
    "pycharm": {
     "name": "#%% md\n"
    }
   }
  },
  {
   "cell_type": "markdown",
   "source": [
    "## 自己想法\n",
    "但是力扣报错❌，要用他的类"
   ],
   "metadata": {
    "id": "t_VSAphiaWxb",
    "pycharm": {
     "name": "#%% md\n"
    }
   }
  },
  {
   "cell_type": "code",
   "source": [
    "from collections import deque"
   ],
   "metadata": {
    "id": "FF8ZfnG6VJRU",
    "pycharm": {
     "name": "#%%\n"
    }
   },
   "execution_count": 9,
   "outputs": []
  },
  {
   "cell_type": "code",
   "source": [
    "head1 = deque([1,2,6,3,4,5,6])\n",
    "print(head1)\n",
    "print(head1[2])\n",
    "print(head1[0]==1)"
   ],
   "metadata": {
    "colab": {
     "base_uri": "https://localhost:8080/"
    },
    "id": "KJknQSS9Xxmv",
    "outputId": "9ad99d01-cb55-40ae-dcf7-7b656782b5c9",
    "pycharm": {
     "name": "#%%\n"
    }
   },
   "execution_count": 10,
   "outputs": [
    {
     "name": "stdout",
     "output_type": "stream",
     "text": [
      "deque([1, 2, 6, 3, 4, 5, 6])\n",
      "6\n",
      "True\n"
     ]
    }
   ]
  },
  {
   "cell_type": "code",
   "source": [
    "class Solution(object):\n",
    "    def removeElements(self, head, val):\n",
    "        \"\"\"\n",
    "        :type head: ListNode\n",
    "        :type val: int\n",
    "        :rtype: ListNode\n",
    "        \"\"\"\n",
    "        if len(head) == 0:\n",
    "          return 0\n",
    "        for i in range(0,len(head)):\n",
    "          if head[i] == val:\n",
    "            head.remove(val)\n",
    "        return head\n"
   ],
   "metadata": {
    "id": "bYGGSUtcSSKB",
    "pycharm": {
     "name": "#%%\n"
    }
   },
   "execution_count": 11,
   "outputs": []
  },
  {
   "cell_type": "code",
   "source": [
    "a = Solution()\n",
    "print(a.removeElements(head=head1, val=1))"
   ],
   "metadata": {
    "colab": {
     "base_uri": "https://localhost:8080/"
    },
    "id": "h7vPBajVYwRk",
    "outputId": "99c0c2dd-a678-4bf5-d69a-ce6944c57e51",
    "pycharm": {
     "name": "#%%\n"
    }
   },
   "execution_count": 13,
   "outputs": [
    {
     "name": "stdout",
     "output_type": "stream",
     "text": [
      "deque([2, 6, 3, 4, 5, 6])\n"
     ]
    }
   ]
  },
  {
   "cell_type": "markdown",
   "source": [
    "### 为什么错？\n",
    "1. 他不是deque类型\n",
    "2. 是题目中给的ListNode类型\n",
    "3. 要用指针的思想去做\n",
    "- df\n",
    "- $\\delta = h^2 * a_1$"
   ],
   "metadata": {
    "collapsed": false,
    "pycharm": {
     "name": "#%% md\n"
    }
   }
  },
  {
   "cell_type": "markdown",
   "source": [
    "## 尝试2\n",
    "应用ListNode类"
   ],
   "metadata": {
    "id": "70-AmHzOfRag",
    "pycharm": {
     "name": "#%% md\n"
    }
   }
  },
  {
   "cell_type": "code",
   "source": [
    "# Definition for singly-linked list.\n",
    "class ListNode(object):\n",
    "    def __init__(self, val=0, next=None):\n",
    "      self.val = val\n",
    "      self.next = next\n",
    "    def append(self, num):\n",
    "      appendListNode = ListNode(num)\n",
    "      temp = self\n",
    "      while temp.next:\n",
    "        temp = temp.next\n",
    "      temp.next = appendListNode\n",
    "      return self\n",
    "    def print(self):\n",
    "      # 输出这个节点后的所有元素\n",
    "      temp = self\n",
    "      while temp.next:\n",
    "        print(temp.val, end=' ')\n",
    "        temp = temp.next\n",
    "      print(temp.val)\n"
   ],
   "metadata": {
    "id": "M9Z5ErqfXwA6",
    "pycharm": {
     "name": "#%%\n"
    }
   },
   "execution_count": 14,
   "outputs": []
  },
  {
   "cell_type": "code",
   "source": [
    "# 创立一个链表head2 = [1,2,3,4]\n",
    "head2 = ListNode(1)\n",
    "head2.append(1).append(2).append(3)\n",
    "\n",
    "# 输出head2\n",
    "print(\"head2\")\n",
    "head2.print()\n",
    "\n",
    "# 创立一个链表head3 = [1,1,2,3]\n",
    "head3 = ListNode(1)\n",
    "head3.append(1).append(2).append(3)\n",
    "\n",
    "# 输出head3\n",
    "print(\"head3\")\n",
    "head3.print()\n"
   ],
   "metadata": {
    "colab": {
     "base_uri": "https://localhost:8080/"
    },
    "id": "1KOHagCScc7i",
    "outputId": "a8dc99a6-2a3b-42a0-cc31-127dc81cd6d7",
    "pycharm": {
     "name": "#%%\n"
    }
   },
   "execution_count": 15,
   "outputs": [
    {
     "name": "stdout",
     "output_type": "stream",
     "text": [
      "head2\n",
      "1 1 2 3\n",
      "head3\n",
      "1 1 2 3\n"
     ]
    }
   ]
  },
  {
   "cell_type": "code",
   "source": [
    "class Solution(object):\n",
    "    def removeElements(self, head, val):\n",
    "        \"\"\"\n",
    "        :type head: ListNode\n",
    "        :type val: int\n",
    "        :rtype: ListNode\n",
    "        \"\"\"\n",
    "        ln = ListNode(None) # 暂存一下\n",
    "        # 把开头的几个相同的val去掉\n",
    "        while head.val == val:\n",
    "          ln.next = head.next\n",
    "          head = head.next\n",
    "        temp = ln\n",
    "        while temp.next:\n",
    "          if temp.next.val != val:\n",
    "            temp = temp.next\n",
    "          else:\n",
    "            temp = temp.next.next\n",
    "        return ln.next\n"
   ],
   "metadata": {
    "id": "DQVmyXCnh3jj",
    "pycharm": {
     "name": "#%%\n"
    }
   },
   "execution_count": 16,
   "outputs": []
  },
  {
   "cell_type": "code",
   "source": [
    "Solution.removeElements(Solution, head2, 1).print()"
   ],
   "metadata": {
    "colab": {
     "base_uri": "https://localhost:8080/"
    },
    "id": "FJKhUXY_k9b8",
    "outputId": "e2576faf-228d-4acb-c230-e7353469dff3",
    "pycharm": {
     "name": "#%%\n"
    }
   },
   "execution_count": 17,
   "outputs": [
    {
     "name": "stdout",
     "output_type": "stream",
     "text": [
      "2 3\n"
     ]
    }
   ]
  },
  {
   "cell_type": "markdown",
   "source": [
    "## 参考答案\n"
   ],
   "metadata": {
    "id": "46nzqs3yfC_n",
    "pycharm": {
     "name": "#%% md\n"
    }
   }
  },
  {
   "cell_type": "code",
   "source": [
    "class Solution:\n",
    "    def removeElements2(self, head: ListNode, val: int) -> ListNode:\n",
    "        node = ListNode(-1)\n",
    "        node.next = head#设置虚拟结点\n",
    "        \n",
    "        p = node\n",
    "        while p.next:\n",
    "            print(f\"node.val: {node.val}  next: {node.next.val}\" )\n",
    "            print(f\"p.val: {p.val}  next: {p.next.val}\")\n",
    "            print(\"---------\")\n",
    "            if p.next.val != val:\n",
    "                #相当于将p.next实例化了，并将这个对象（这一块内存）取名为p，也就是说现在p代表的对象和node代表的对象不一样了\n",
    "                print(\"p在此时和node的对象（内存）不一样了\")\n",
    "                p = p.next\n",
    "            else:\n",
    "                p.next = p.next.next\n",
    "        return node.next\n"
   ],
   "metadata": {
    "id": "_bc57e8QeqE4",
    "pycharm": {
     "name": "#%%\n"
    }
   },
   "execution_count": 33,
   "outputs": []
  },
  {
   "cell_type": "code",
   "execution_count": 34,
   "outputs": [
    {
     "name": "stdout",
     "output_type": "stream",
     "text": [
      "node.val: -1  next: 1\n",
      "p.val: -1  next: 1\n",
      "---------\n",
      "node.val: -1  next: 1\n",
      "p.val: -1  next: 1\n",
      "---------\n",
      "node.val: -1  next: 2\n",
      "p.val: -1  next: 2\n",
      "---------\n",
      "p在此时和node的对象（内存）不一样了\n",
      "node.val: -1  next: 2\n",
      "p.val: 2  next: 3\n",
      "---------\n",
      "p在此时和node的对象（内存）不一样了\n",
      "2 3\n"
     ]
    }
   ],
   "source": [
    "# 跑一下\n",
    "Solution.removeElements2(Solution,head2,1).print()"
   ],
   "metadata": {
    "collapsed": false,
    "pycharm": {
     "name": "#%%\n"
    }
   }
  },
  {
   "cell_type": "markdown",
   "source": [
    "## 关于python内存思考\n"
   ],
   "metadata": {
    "collapsed": false,
    "pycharm": {
     "name": "#%% md\n"
    }
   }
  },
  {
   "cell_type": "code",
   "source": [
    "from collections import deque\n",
    "b1 = deque(['2', 'df'])\n",
    "b2 = b1 # 本质上是给对象——deque(['2', 'df'])，取一个别名b2，它和b1的内存位置是一样的\n",
    "print(b1,b2)"
   ],
   "metadata": {
    "colab": {
     "base_uri": "https://localhost:8080/"
    },
    "id": "C8t1Z6Mdnc8H",
    "outputId": "cfa183ce-81bc-4fd2-8292-ae10ad550baa",
    "pycharm": {
     "name": "#%%\n"
    }
   },
   "execution_count": 20,
   "outputs": [
    {
     "name": "stdout",
     "output_type": "stream",
     "text": [
      "deque(['2', 'df']) deque(['2', 'df'])\n"
     ]
    }
   ]
  },
  {
   "cell_type": "code",
   "source": [
    "b2.append('s') # 所以在b2\n",
    "print(b1, b2)"
   ],
   "metadata": {
    "colab": {
     "base_uri": "https://localhost:8080/"
    },
    "id": "iHJvymCclrH9",
    "outputId": "8642c859-ad70-4b3d-9e2c-012e087022b6",
    "pycharm": {
     "name": "#%%\n"
    }
   },
   "execution_count": 21,
   "outputs": [
    {
     "name": "stdout",
     "output_type": "stream",
     "text": [
      "deque(['2', 'df', 's']) deque(['2', 'df', 's'])\n"
     ]
    }
   ]
  },
  {
   "cell_type": "code",
   "execution_count": 22,
   "outputs": [
    {
     "name": "stdout",
     "output_type": "stream",
     "text": [
      "10 10\n"
     ]
    }
   ],
   "source": [
    "c1 = 10\n",
    "c2 = c1\n",
    "print(c1, c2)"
   ],
   "metadata": {
    "collapsed": false,
    "pycharm": {
     "name": "#%%\n"
    }
   }
  },
  {
   "cell_type": "code",
   "execution_count": 23,
   "outputs": [
    {
     "name": "stdout",
     "output_type": "stream",
     "text": [
      "5 10\n"
     ]
    }
   ],
   "source": [
    "c1 = 5 #实际上等价于 c1 = new int 5，即对于c1赋予了新的对象\n",
    "print(c1, c2)"
   ],
   "metadata": {
    "collapsed": false,
    "pycharm": {
     "name": "#%%\n"
    }
   }
  },
  {
   "cell_type": "markdown",
   "source": [
    "# 类-class的理解"
   ],
   "metadata": {
    "collapsed": false,
    "pycharm": {
     "name": "#%% md\n"
    }
   }
  },
  {
   "cell_type": "code",
   "execution_count": 24,
   "outputs": [],
   "source": [
    "class BiYiBi(object):\n",
    "    def __init__(self, val=0, next=None):\n",
    "        self.val = val\n",
    "        self.next = next\n",
    "    def pp(self):\n",
    "        print(self.val)\n",
    "    def com(self, other):\n",
    "        if self.val >= other.val:\n",
    "            print(\"我牛逼！\")\n",
    "        else:\n",
    "            print(\"还是你更zyw一点！\")"
   ],
   "metadata": {
    "collapsed": false,
    "pycharm": {
     "name": "#%%\n"
    }
   }
  },
  {
   "cell_type": "code",
   "execution_count": 25,
   "outputs": [],
   "source": [
    "Olifant = BiYiBi(val=8) #xxx = new Shilimign(xxx,xxx)\n",
    "zyw = BiYiBi(val=1,next=Olifant)"
   ],
   "metadata": {
    "collapsed": false,
    "pycharm": {
     "name": "#%%\n"
    }
   }
  },
  {
   "cell_type": "code",
   "execution_count": 26,
   "outputs": [
    {
     "name": "stdout",
     "output_type": "stream",
     "text": [
      "8\n",
      "1\n"
     ]
    }
   ],
   "source": [
    "Olifant.pp()\n",
    "zyw.pp()"
   ],
   "metadata": {
    "collapsed": false,
    "pycharm": {
     "name": "#%%\n"
    }
   }
  },
  {
   "cell_type": "code",
   "execution_count": 27,
   "outputs": [
    {
     "name": "stdout",
     "output_type": "stream",
     "text": [
      "我牛逼！\n"
     ]
    }
   ],
   "source": [
    "Olifant.com(zyw)"
   ],
   "metadata": {
    "collapsed": false,
    "pycharm": {
     "name": "#%%\n"
    }
   }
  },
  {
   "cell_type": "code",
   "execution_count": 28,
   "outputs": [
    {
     "name": "stdout",
     "output_type": "stream",
     "text": [
      "还是你更zyw一点！\n"
     ]
    }
   ],
   "source": [
    "zyw.com(Olifant)"
   ],
   "metadata": {
    "collapsed": false,
    "pycharm": {
     "name": "#%%\n"
    }
   }
  },
  {
   "cell_type": "code",
   "execution_count": null,
   "outputs": [],
   "source": [],
   "metadata": {
    "collapsed": false,
    "pycharm": {
     "name": "#%%\n"
    }
   }
  }
 ],
 "metadata": {
  "kernelspec": {
   "display_name": "Python 3",
   "language": "python",
   "name": "python3"
  },
  "language_info": {
   "codemirror_mode": {
    "name": "ipython",
    "version": 2
   },
   "file_extension": ".py",
   "mimetype": "text/x-python",
   "name": "python",
   "nbconvert_exporter": "python",
   "pygments_lexer": "ipython2",
   "version": "2.7.6"
  },
  "colab": {
   "name": "数据结构2-链表(linked List).ipynb",
   "provenance": [],
   "collapsed_sections": [],
   "include_colab_link": true
  }
 },
 "nbformat": 4,
 "nbformat_minor": 0
}