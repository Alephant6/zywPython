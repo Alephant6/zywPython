{
  "cells": [
    {
      "cell_type": "markdown",
      "metadata": {
        "id": "view-in-github",
        "colab_type": "text"
      },
      "source": [
        "<a href=\"https://colab.research.google.com/github/Alephant6/zywPython/blob/main/%E6%95%B0%E6%8D%AE%E7%BB%93%E6%9E%842_%E9%93%BE%E8%A1%A8(linked_List).ipynb\" target=\"_parent\"><img src=\"https://colab.research.google.com/assets/colab-badge.svg\" alt=\"Open In Colab\"/></a>"
      ]
    },
    {
      "cell_type": "markdown",
      "source": [
        "@date: 11 May, 2022\n",
        "\n",
        "@author: Alephant"
      ],
      "metadata": {
        "collapsed": false,
        "pycharm": {
          "name": "#%% md\n"
        },
        "id": "e66-34PZOhnp"
      }
    },
    {
      "cell_type": "markdown",
      "source": [
        "# 链表\n",
        "## 链表分类\n",
        "![](https://cdn.jsdelivr.net/gh/Alephant6/PicBed/202205121432339.png)\n",
        "\n",
        "\n",
        "## 如何判断一个数组、链表的好坏\n",
        "![](https://cdn.jsdelivr.net/gh/Alephant6/PicBed/202205121433156.png)\n",
        "\n",
        "### 缺点：前两个\n",
        "1. 访问\n",
        "2. 搜索\n",
        "\n",
        "### 优点：\n",
        "1. 插入\n",
        "2. 删除\n",
        "\n",
        "## 特点\n",
        "写很快，度很慢 -> 读少写多\n",
        "\n",
        "## 链表常用操作\n",
        "![](https://cdn.jsdelivr.net/gh/Alephant6/PicBed/202205121436175.png)\n",
        "\n",
        "##  推荐练习题\n",
        "![](https://cdn.jsdelivr.net/gh/Alephant6/PicBed/202205121437365.png)"
      ],
      "metadata": {
        "collapsed": false,
        "pycharm": {
          "name": "#%% md\n"
        },
        "id": "8CDS_ZP4Ohns"
      }
    },
    {
      "cell_type": "markdown",
      "source": [
        "## 链表常用操作\n",
        "> zyw笔记\n",
        "\n",
        "![](https://cdn.jsdelivr.net/gh/Alephant6/PicBed/202205121524069.png)"
      ],
      "metadata": {
        "collapsed": false,
        "pycharm": {
          "name": "#%% md\n"
        },
        "id": "2GKjZy6JOhnt"
      }
    },
    {
      "cell_type": "code",
      "source": [
        "from collections import deque"
      ],
      "metadata": {
        "id": "6337PaxZR2xG"
      },
      "execution_count": null,
      "outputs": []
    },
    {
      "cell_type": "code",
      "source": [
        "queue = deque(['name','age','DOB'])  \n",
        "      \n",
        "print(queue)"
      ],
      "metadata": {
        "colab": {
          "base_uri": "https://localhost:8080/"
        },
        "id": "AWTyK5XOTMbn",
        "outputId": "08f1d9bd-1ad0-4ccd-89c2-50b846d08513"
      },
      "execution_count": null,
      "outputs": [
        {
          "output_type": "stream",
          "name": "stdout",
          "text": [
            "deque(['name', 'age', 'DOB'])\n"
          ]
        }
      ]
    },
    {
      "cell_type": "code",
      "source": [
        "queue.append('3d4')\n",
        "print(queue)"
      ],
      "metadata": {
        "colab": {
          "base_uri": "https://localhost:8080/"
        },
        "id": "Fenq9FreUq2_",
        "outputId": "49ea6dbb-78b4-416e-b240-974326d18e6d"
      },
      "execution_count": null,
      "outputs": [
        {
          "output_type": "stream",
          "name": "stdout",
          "text": [
            "deque(['name', 'age', 'DOB', '3d4'])\n"
          ]
        }
      ]
    },
    {
      "cell_type": "code",
      "source": [
        "queue[2]"
      ],
      "metadata": {
        "colab": {
          "base_uri": "https://localhost:8080/",
          "height": 38
        },
        "id": "16z2J7dvVg1f",
        "outputId": "452f7f35-7815-4db5-b37a-d12fddd258e5"
      },
      "execution_count": null,
      "outputs": [
        {
          "output_type": "execute_result",
          "data": {
            "text/plain": [
              "'DOB'"
            ],
            "application/vnd.google.colaboratory.intrinsic+json": {
              "type": "string"
            }
          },
          "metadata": {},
          "execution_count": 18
        }
      ]
    },
    {
      "cell_type": "code",
      "source": [
        "queue.index('age')"
      ],
      "metadata": {
        "colab": {
          "base_uri": "https://localhost:8080/"
        },
        "id": "7V772lPrVkva",
        "outputId": "ece9d8da-a38d-4bcb-9b36-ebd35a839dc4"
      },
      "execution_count": null,
      "outputs": [
        {
          "output_type": "execute_result",
          "data": {
            "text/plain": [
              "1"
            ]
          },
          "metadata": {},
          "execution_count": 19
        }
      ]
    },
    {
      "cell_type": "code",
      "source": [
        "queue.remove('name')\n",
        "print(queue)"
      ],
      "metadata": {
        "colab": {
          "base_uri": "https://localhost:8080/"
        },
        "id": "utO-JHxqVzHj",
        "outputId": "0b846d0b-b160-4cff-d089-641734195a59"
      },
      "execution_count": null,
      "outputs": [
        {
          "output_type": "stream",
          "name": "stdout",
          "text": [
            "deque(['age', 'DOB', '3d4'])\n"
          ]
        }
      ]
    },
    {
      "cell_type": "code",
      "source": [
        "len(queue)"
      ],
      "metadata": {
        "colab": {
          "base_uri": "https://localhost:8080/"
        },
        "id": "vHqEsH3PVbm3",
        "outputId": "7ec9dcdb-977b-4c2b-ebf8-8f8f59dcc1ec"
      },
      "execution_count": null,
      "outputs": [
        {
          "output_type": "execute_result",
          "data": {
            "text/plain": [
              "3"
            ]
          },
          "metadata": {},
          "execution_count": 21
        }
      ]
    },
    {
      "cell_type": "code",
      "source": [
        "'a' == 'a'"
      ],
      "metadata": {
        "colab": {
          "base_uri": "https://localhost:8080/"
        },
        "id": "Fo6Q64kuWGQJ",
        "outputId": "95f6254b-ed74-4929-8250-5f6c6c6ee5c3"
      },
      "execution_count": null,
      "outputs": [
        {
          "output_type": "execute_result",
          "data": {
            "text/plain": [
              "True"
            ]
          },
          "metadata": {},
          "execution_count": 22
        }
      ]
    },
    {
      "cell_type": "markdown",
      "source": [
        "# 问题一：203.移除链表元素\n",
        "给你一个链表的头节点 head 和一个整数 val ，请你删除链表中所有满足 Node.val == val 的节点，并返回 新的头节点 。\n",
        " \n",
        "\n",
        "示例 1：\n",
        "\n",
        "\n",
        "输入：head = [1,2,6,3,4,5,6], val = 6\n",
        "\n",
        "输出：[1,2,3,4,5]\n",
        "\n",
        "示例 2：\n",
        "\n",
        "输入：head = [], val = 1\n",
        "\n",
        "输出：[]\n",
        "\n",
        "示例 3：\n",
        "\n",
        "输入：head = [7,7,7,7], val = 7\n",
        "\n",
        "输出：[]\n",
        " \n",
        "\n",
        "提示：\n",
        "\n",
        "列表中的节点数目在范围 [0, 104] 内\n",
        "\n",
        "1 <= Node.val <= 50\n",
        "\n",
        "0 <= val <= 50\n",
        "\n",
        "来源：力扣（LeetCode）\n",
        "链接：https://leetcode-cn.com/problems/remove-linked-list-elements\n",
        "著作权归领扣网络所有。商业转载请联系官方授权，非商业转载请注明出处。"
      ],
      "metadata": {
        "id": "qctur4MCQR_Q"
      }
    },
    {
      "cell_type": "markdown",
      "source": [
        "## 自己想法\n",
        "但是力扣报错❌，要用他的类"
      ],
      "metadata": {
        "id": "t_VSAphiaWxb"
      }
    },
    {
      "cell_type": "code",
      "source": [
        "from collections import deque"
      ],
      "metadata": {
        "id": "FF8ZfnG6VJRU"
      },
      "execution_count": null,
      "outputs": []
    },
    {
      "cell_type": "code",
      "source": [
        "head1 = deque([1,2,6,3,4,5,6])\n",
        "print(head1)\n",
        "print(head1[2])\n",
        "print(head1[0]==1)"
      ],
      "metadata": {
        "colab": {
          "base_uri": "https://localhost:8080/"
        },
        "id": "KJknQSS9Xxmv",
        "outputId": "9ad99d01-cb55-40ae-dcf7-7b656782b5c9"
      },
      "execution_count": null,
      "outputs": [
        {
          "output_type": "stream",
          "name": "stdout",
          "text": [
            "deque([1, 2, 6, 3, 4, 5, 6])\n",
            "6\n",
            "True\n"
          ]
        }
      ]
    },
    {
      "cell_type": "code",
      "source": [
        "class Solution(object):\n",
        "    def removeElements(self, head, val):\n",
        "        \"\"\"\n",
        "        :type head: ListNode\n",
        "        :type val: int\n",
        "        :rtype: ListNode\n",
        "        \"\"\"\n",
        "        if len(head) == 0:\n",
        "          return 0\n",
        "        for i in range(0,len(head)):\n",
        "          if head[i] == val:\n",
        "            \n",
        "            head.remove(val)\n",
        "        return head\n"
      ],
      "metadata": {
        "id": "bYGGSUtcSSKB"
      },
      "execution_count": null,
      "outputs": []
    },
    {
      "cell_type": "code",
      "source": [
        "print(Solution.removeElements(Solution, head1, 1))"
      ],
      "metadata": {
        "colab": {
          "base_uri": "https://localhost:8080/"
        },
        "id": "h7vPBajVYwRk",
        "outputId": "99c0c2dd-a678-4bf5-d69a-ce6944c57e51"
      },
      "execution_count": null,
      "outputs": [
        {
          "output_type": "stream",
          "name": "stdout",
          "text": [
            "deque([2, 6, 3, 4, 5, 6])\n"
          ]
        }
      ]
    },
    {
      "cell_type": "markdown",
      "source": [
        "## 尝试2\n",
        "应用ListNode类"
      ],
      "metadata": {
        "id": "70-AmHzOfRag"
      }
    },
    {
      "cell_type": "code",
      "source": [
        "# Definition for singly-linked list.\n",
        "class ListNode(object):\n",
        "    def __init__(self, val=0, next=None):\n",
        "      self.val = val\n",
        "      self.next = next\n",
        "    def append(self, num):\n",
        "      appendListNode = ListNode(num)\n",
        "      temp = self\n",
        "      while temp.next:\n",
        "        temp = temp.next\n",
        "      temp.next = appendListNode\n",
        "      return self\n",
        "    def print(self):\n",
        "      # 输出这个节点后的所有元素\n",
        "      temp = self\n",
        "      while temp.next:\n",
        "        print(temp.val, end=' ')\n",
        "        temp = temp.next\n",
        "      print(temp.val)\n"
      ],
      "metadata": {
        "id": "M9Z5ErqfXwA6"
      },
      "execution_count": null,
      "outputs": []
    },
    {
      "cell_type": "code",
      "source": [
        "# 创立一个链表head = [1,2,6,3,4,5,6]\n",
        "head2 = ListNode(1)\n",
        "head2.append(1).append(2).append(6).append(3).append(4).append(5).append(6)\n",
        "\n",
        "# 输出\n",
        "head2.print()\n"
      ],
      "metadata": {
        "colab": {
          "base_uri": "https://localhost:8080/"
        },
        "id": "1KOHagCScc7i",
        "outputId": "a8dc99a6-2a3b-42a0-cc31-127dc81cd6d7"
      },
      "execution_count": null,
      "outputs": [
        {
          "output_type": "stream",
          "name": "stdout",
          "text": [
            "1 1 2 6 3 4 5 6\n"
          ]
        }
      ]
    },
    {
      "cell_type": "code",
      "source": [
        "class Solution(object):\n",
        "    def removeElements(self, head, val):\n",
        "        \"\"\"\n",
        "        :type head: ListNode\n",
        "        :type val: int\n",
        "        :rtype: ListNode\n",
        "        \"\"\"\n",
        "        ln = ListNode(None) # 暂存一下\n",
        "        # 把开头的几个相同的val去掉\n",
        "        while head.val == val:\n",
        "          ln.next = head.next\n",
        "          head = head.next\n",
        "        temp = ln\n",
        "        while temp.next:\n",
        "          if temp.next.val != val:\n",
        "            temp = temp.next\n",
        "          else:\n",
        "            temp = temp.next.next\n",
        "        return ln.next\n"
      ],
      "metadata": {
        "id": "DQVmyXCnh3jj"
      },
      "execution_count": null,
      "outputs": []
    },
    {
      "cell_type": "code",
      "source": [
        "Solution.removeElements(Solution, head2, 1).print()"
      ],
      "metadata": {
        "colab": {
          "base_uri": "https://localhost:8080/"
        },
        "id": "FJKhUXY_k9b8",
        "outputId": "e2576faf-228d-4acb-c230-e7353469dff3"
      },
      "execution_count": null,
      "outputs": [
        {
          "output_type": "stream",
          "name": "stdout",
          "text": [
            "2 6 3 4 5 6\n"
          ]
        }
      ]
    },
    {
      "cell_type": "markdown",
      "source": [
        "## 参考答案\n"
      ],
      "metadata": {
        "id": "46nzqs3yfC_n"
      }
    },
    {
      "cell_type": "code",
      "source": [
        "class Solution:\n",
        "    def removeElements2(self, head: ListNode, val: int) -> ListNode:\n",
        "        node = ListNode(None)\n",
        "        node.next = head#设置虚拟结点\n",
        "        \n",
        "        p = node\n",
        "        while p.next:\n",
        "          print(node.next.val)\n",
        "          if p.next.val != val:\n",
        "              p = p.next\n",
        "          else:\n",
        "              p.next = p.next.next\n",
        "        return node.next\n"
      ],
      "metadata": {
        "id": "_bc57e8QeqE4"
      },
      "execution_count": null,
      "outputs": []
    },
    {
      "cell_type": "code",
      "source": [
        "a = Solution.removeElements2(Solution, head2, 1)\n",
        "a.print()"
      ],
      "metadata": {
        "colab": {
          "base_uri": "https://localhost:8080/"
        },
        "id": "mrHbEzj-esJz",
        "outputId": "25024c31-3918-4b35-800d-87eed5ed7d1e"
      },
      "execution_count": null,
      "outputs": [
        {
          "output_type": "stream",
          "name": "stdout",
          "text": [
            "1\n",
            "1\n",
            "2\n",
            "2\n",
            "2\n",
            "2\n",
            "2\n",
            "2\n",
            "2 6 3 4 5 6\n"
          ]
        }
      ]
    },
    {
      "cell_type": "code",
      "source": [
        "b1 = deque('2')\n",
        "b2 = b1\n",
        "print(b1,b2)"
      ],
      "metadata": {
        "colab": {
          "base_uri": "https://localhost:8080/"
        },
        "id": "C8t1Z6Mdnc8H",
        "outputId": "cfa183ce-81bc-4fd2-8292-ae10ad550baa"
      },
      "execution_count": null,
      "outputs": [
        {
          "output_type": "stream",
          "name": "stdout",
          "text": [
            "deque(['2']) deque(['2'])\n"
          ]
        }
      ]
    },
    {
      "cell_type": "code",
      "source": [
        "b2.append('s')\n",
        "print(b1, b2)"
      ],
      "metadata": {
        "colab": {
          "base_uri": "https://localhost:8080/"
        },
        "id": "iHJvymCclrH9",
        "outputId": "8642c859-ad70-4b3d-9e2c-012e087022b6"
      },
      "execution_count": null,
      "outputs": [
        {
          "output_type": "stream",
          "name": "stdout",
          "text": [
            "deque(['2', 's']) deque(['2', 's'])\n"
          ]
        }
      ]
    },
    {
      "cell_type": "code",
      "source": [
        ""
      ],
      "metadata": {
        "id": "SHawQTP5l9jt"
      },
      "execution_count": null,
      "outputs": []
    }
  ],
  "metadata": {
    "kernelspec": {
      "display_name": "Python 3",
      "language": "python",
      "name": "python3"
    },
    "language_info": {
      "codemirror_mode": {
        "name": "ipython",
        "version": 2
      },
      "file_extension": ".py",
      "mimetype": "text/x-python",
      "name": "python",
      "nbconvert_exporter": "python",
      "pygments_lexer": "ipython2",
      "version": "2.7.6"
    },
    "colab": {
      "name": "数据结构2-链表(linked List).ipynb",
      "provenance": [],
      "collapsed_sections": [],
      "include_colab_link": true
    }
  },
  "nbformat": 4,
  "nbformat_minor": 0
}