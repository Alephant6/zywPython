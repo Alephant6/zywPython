{
 "cells": [
  {
   "cell_type": "markdown",
   "source": [
    "@date: 16 May, 2022\n",
    "\n",
    "@author: Alephant"
   ],
   "metadata": {
    "collapsed": false,
    "pycharm": {
     "name": "#%% md\n"
    }
   }
  },
  {
   "cell_type": "markdown",
   "source": [
    "# 队列\n",
    "## 介绍\n",
    "![](https://cdn.jsdelivr.net/gh/Alephant6/PicBed/202205161600971.png)\n",
    "## 时间复杂度\n",
    "![](https://cdn.jsdelivr.net/gh/Alephant6/PicBed/202205161601785.png)\n",
    "\n",
    "## 队列常用操作\n",
    "1. 创建队列\n",
    "2. 添加元素\n",
    "3. 获取即将出兑的元素 - `peak()`\n",
    "4. 删除即将出队的元素 - `remove()`, `pop()`,\n",
    "5. 判断对练是否为空\n",
    "6. 队列长度\n",
    "7. 遍历队列（边删除边遍历队列操作）"
   ],
   "metadata": {
    "collapsed": false,
    "pycharm": {
     "name": "#%% md\n"
    }
   }
  },
  {
   "cell_type": "markdown",
   "source": [
    "## 力扣练习题\n",
    "933 最近的请求次数 Number of Recent Calls\n",
    "239 滑动窗口最大值 Sliding Windows Maximum"
   ],
   "metadata": {
    "collapsed": false,
    "pycharm": {
     "name": "#%% md\n"
    }
   }
  },
  {
   "cell_type": "markdown",
   "source": [
    "## Python队列常用操作"
   ],
   "metadata": {
    "collapsed": false,
    "pycharm": {
     "name": "#%% md\n"
    }
   }
  },
  {
   "cell_type": "code",
   "execution_count": 1,
   "outputs": [],
   "source": [
    "from collections import deque"
   ],
   "metadata": {
    "collapsed": false,
    "pycharm": {
     "name": "#%%\n"
    }
   }
  },
  {
   "cell_type": "code",
   "execution_count": 2,
   "outputs": [],
   "source": [
    "# Create a queue\n",
    "queue = deque()"
   ],
   "metadata": {
    "collapsed": false,
    "pycharm": {
     "name": "#%%\n"
    }
   }
  },
  {
   "cell_type": "code",
   "execution_count": 3,
   "outputs": [
    {
     "name": "stdout",
     "output_type": "stream",
     "text": [
      "deque([1, 2, 3])\n"
     ]
    }
   ],
   "source": [
    "# Add element\n",
    "# Time Complexity: O(1)\n",
    "queue.append(1)\n",
    "queue.append(2)\n",
    "queue.append(3)\n",
    "# [1, 2, 3]\n",
    "print(queue)"
   ],
   "metadata": {
    "collapsed": false,
    "pycharm": {
     "name": "#%%\n"
    }
   }
  },
  {
   "cell_type": "code",
   "execution_count": 4,
   "outputs": [
    {
     "name": "stdout",
     "output_type": "stream",
     "text": [
      "1\n"
     ]
    }
   ],
   "source": [
    "# Get the head of the queue\n",
    "# Time Complexity: O(1)\n",
    "temp1 = queue[0]\n",
    "# 1\n",
    "print(temp1)"
   ],
   "metadata": {
    "collapsed": false,
    "pycharm": {
     "name": "#%%\n"
    }
   }
  },
  {
   "cell_type": "code",
   "execution_count": 5,
   "outputs": [
    {
     "name": "stdout",
     "output_type": "stream",
     "text": [
      "1\n",
      "deque([2, 3])\n"
     ]
    }
   ],
   "source": [
    "# Remove the head of the queue\n",
    "# Time Complexity: O(1)\n",
    "temp2 = queue.popleft()\n",
    "# 1\n",
    "print(temp2)\n",
    "# [2,3]\n",
    "print(queue)"
   ],
   "metadata": {
    "collapsed": false,
    "pycharm": {
     "name": "#%%\n"
    }
   }
  },
  {
   "cell_type": "code",
   "execution_count": 6,
   "outputs": [
    {
     "data": {
      "text/plain": "False"
     },
     "execution_count": 6,
     "metadata": {},
     "output_type": "execute_result"
    }
   ],
   "source": [
    "# Queue is empty?\n",
    "# Time Complexity: O(1)\n",
    "len(queue) == 0"
   ],
   "metadata": {
    "collapsed": false,
    "pycharm": {
     "name": "#%%\n"
    }
   }
  },
  {
   "cell_type": "code",
   "execution_count": 7,
   "outputs": [
    {
     "name": "stdout",
     "output_type": "stream",
     "text": [
      "2\n",
      "3\n"
     ]
    }
   ],
   "source": [
    "# Time Complexity: O(N)\n",
    "while len(queue) != 0:\n",
    "    temp = queue.popleft()\n",
    "    print(temp)"
   ],
   "metadata": {
    "collapsed": false,
    "pycharm": {
     "name": "#%%\n"
    }
   }
  },
  {
   "cell_type": "markdown",
   "source": [
    "# 问题一：[933. 最近的请求次数](https://leetcode.cn/problems/number-of-recent-calls/)\n",
    "写一个 RecentCounter 类来计算特定时间范围内最近的请求。\n",
    "\n",
    "请你实现 RecentCounter 类：\n",
    "\n",
    "RecentCounter() 初始化计数器，请求数为 0 。\n",
    "int ping(int t) 在时间 t 添加一个新请求，其中 t 表示以毫秒为单位的某个时间，并返回过去 3000 毫秒内发生的所有请求数（包括新请求）。确切地说，返回在 [t-3000, t] 内发生的请求数。\n",
    "保证 每次对 ping 的调用都使用比之前更大的 t 值。\n",
    "\n",
    "\n",
    "\n",
    "示例 1：\n",
    "\n",
    "输入：\n",
    "[\"RecentCounter\", \"ping\", \"ping\", \"ping\", \"ping\"]\n",
    "[[], [1], [100], [3001], [3002]]\n",
    "输出：\n",
    "[null, 1, 2, 3, 3]\n",
    "\n",
    "解释：\n",
    "RecentCounter recentCounter = new RecentCounter();\n",
    "recentCounter.ping(1);     // requests = [1]，范围是 [-2999,1]，返回 1\n",
    "recentCounter.ping(100);   // requests = [1, 100]，范围是 [-2900,100]，返回 2\n",
    "recentCounter.ping(3001);  // requests = [1, 100, 3001]，范围是 [1,3001]，返回 3\n",
    "recentCounter.ping(3002);  // requests = [1, 100, 3001, 3002]，范围是 [2,3002]，返回 3\n",
    "\n",
    "\n",
    "提示：\n",
    "\n",
    "1 <= t <= 109\n",
    "保证每次对 ping 调用所使用的 t 值都 严格递增\n",
    "至多调用 ping 方法 104 次"
   ],
   "metadata": {
    "collapsed": false,
    "pycharm": {
     "name": "#%% md\n"
    }
   }
  },
  {
   "cell_type": "code",
   "execution_count": 8,
   "outputs": [],
   "source": [
    "class RecentCounter(object):\n",
    "\n",
    "    def __init__(self, queue=deque()):\n",
    "        self.queue = queue\n",
    "\n",
    "    def ping(self, t):\n",
    "        \"\"\"\n",
    "        :type t: int\n",
    "        :rtype: int\n",
    "        \"\"\"\n",
    "        self.queue.append(t)\n",
    "        while self.queue[0] < t-3000:\n",
    "            self.queue.popleft()\n",
    "        return len(self.queue)\n",
    "\n",
    "\n",
    "# Your RecentCounter object will be instantiated and called as such:\n",
    "# obj = RecentCounter()\n",
    "# param_1 = obj.ping(t)"
   ],
   "metadata": {
    "collapsed": false,
    "pycharm": {
     "name": "#%%\n"
    }
   }
  },
  {
   "cell_type": "code",
   "execution_count": null,
   "outputs": [],
   "source": [],
   "metadata": {
    "collapsed": false,
    "pycharm": {
     "name": "#%%\n"
    }
   }
  }
 ],
 "metadata": {
  "kernelspec": {
   "display_name": "Python 3",
   "language": "python",
   "name": "python3"
  },
  "language_info": {
   "codemirror_mode": {
    "name": "ipython",
    "version": 2
   },
   "file_extension": ".py",
   "mimetype": "text/x-python",
   "name": "python",
   "nbconvert_exporter": "python",
   "pygments_lexer": "ipython2",
   "version": "2.7.6"
  }
 },
 "nbformat": 4,
 "nbformat_minor": 0
}