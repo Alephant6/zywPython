{
 "cells": [
  {
   "cell_type": "markdown",
   "source": [
    "@date: 16 May, 2022\n",
    "\n",
    "@author: Alephant"
   ],
   "metadata": {
    "collapsed": false,
    "pycharm": {
     "name": "#%% md\n"
    }
   }
  },
  {
   "cell_type": "markdown",
   "source": [
    "## 笔记见OneNote\n",
    "## 练习题\n",
    "力扣 20\n",
    "力扣 496"
   ],
   "metadata": {
    "collapsed": false,
    "pycharm": {
     "name": "#%% md\n"
    }
   }
  },
  {
   "cell_type": "markdown",
   "source": [
    "## python栈的常用操作"
   ],
   "metadata": {
    "collapsed": false,
    "pycharm": {
     "name": "#%% md\n"
    }
   }
  },
  {
   "cell_type": "code",
   "execution_count": 1,
   "outputs": [],
   "source": [
    "# Create a stack\n",
    "stack = []"
   ],
   "metadata": {
    "collapsed": false,
    "pycharm": {
     "name": "#%%\n"
    }
   }
  },
  {
   "cell_type": "code",
   "execution_count": 2,
   "outputs": [
    {
     "name": "stdout",
     "output_type": "stream",
     "text": [
      "[1, 2, 3]\n"
     ]
    }
   ],
   "source": [
    "stack.append(1)\n",
    "stack.append(2)\n",
    "stack.append(3)\n",
    "# [1,2,3]\n",
    "print(stack)"
   ],
   "metadata": {
    "collapsed": false,
    "pycharm": {
     "name": "#%%\n"
    }
   }
  },
  {
   "cell_type": "code",
   "execution_count": 3,
   "outputs": [
    {
     "data": {
      "text/plain": "3"
     },
     "execution_count": 3,
     "metadata": {},
     "output_type": "execute_result"
    }
   ],
   "source": [
    "# Get the top of stack\n",
    "# Time complexity: O(1)\n",
    "stack[-1]"
   ],
   "metadata": {
    "collapsed": false,
    "pycharm": {
     "name": "#%%\n"
    }
   }
  },
  {
   "cell_type": "code",
   "execution_count": 4,
   "outputs": [
    {
     "name": "stdout",
     "output_type": "stream",
     "text": [
      "3\n"
     ]
    }
   ],
   "source": [
    "# Remove the top of stack\n",
    "# Time complexity: O(1)\n",
    "temp = stack.pop()\n",
    "# 3\n",
    "print(temp)"
   ],
   "metadata": {
    "collapsed": false,
    "pycharm": {
     "name": "#%%\n"
    }
   }
  },
  {
   "cell_type": "code",
   "execution_count": 5,
   "outputs": [
    {
     "data": {
      "text/plain": "False"
     },
     "execution_count": 5,
     "metadata": {},
     "output_type": "execute_result"
    }
   ],
   "source": [
    "# Stack is empty?\n",
    "# Time complexity: O(1)\n",
    "len(stack) == 0"
   ],
   "metadata": {
    "collapsed": false,
    "pycharm": {
     "name": "#%%\n"
    }
   }
  },
  {
   "cell_type": "code",
   "execution_count": 6,
   "outputs": [
    {
     "name": "stdout",
     "output_type": "stream",
     "text": [
      "2\n",
      "1\n"
     ]
    }
   ],
   "source": [
    "# Iterate Stack\n",
    "# Time complexity: O(N)\n",
    "while len(stack) > 0:\n",
    "    temp = stack.pop()\n",
    "    print(temp)"
   ],
   "metadata": {
    "collapsed": false,
    "pycharm": {
     "name": "#%%\n"
    }
   }
  },
  {
   "cell_type": "markdown",
   "source": [
    "# 问题一：20. 有效的括号\n",
    "https://leetcode.cn/problems/valid-parentheses/\n",
    "给定一个只包括 '('，')'，'{'，'}'，'['，']' 的字符串 s ，判断字符串是否有效。\n",
    "\n",
    "有效字符串需满足：\n",
    "\n",
    "左括号必须用相同类型的右括号闭合。\n",
    "左括号必须以正确的顺序闭合。"
   ],
   "metadata": {
    "collapsed": false,
    "pycharm": {
     "name": "#%% md\n"
    }
   }
  },
  {
   "cell_type": "markdown",
   "source": [
    "## 自己思考"
   ],
   "metadata": {
    "collapsed": false,
    "pycharm": {
     "name": "#%% md\n"
    }
   }
  },
  {
   "cell_type": "code",
   "execution_count": 7,
   "outputs": [],
   "source": [
    "class Solution(object):\n",
    "    def isValid(self, s):\n",
    "        \"\"\"\n",
    "        :type s: str\n",
    "        :rtype: bool\n",
    "        \"\"\"\n",
    "        if len(s) % 2 == 1:\n",
    "            return False\n",
    "        stack = []\n",
    "        pairs = {\n",
    "            '(': ')',\n",
    "            '[': ']',\n",
    "            '{': '}',\n",
    "        }\n",
    "        for temp in s:\n",
    "            if temp in pairs.keys():\n",
    "                stack.append(temp)\n",
    "            else:\n",
    "                if len(stack) and pairs[stack.pop()] == temp:\n",
    "                    pass\n",
    "                else:\n",
    "                    return False\n",
    "        if len(stack) == 0:\n",
    "            return True\n",
    "        else:\n",
    "            return False\n",
    "\n"
   ],
   "metadata": {
    "collapsed": false,
    "pycharm": {
     "name": "#%%\n"
    }
   }
  },
  {
   "cell_type": "markdown",
   "source": [
    "### 结果\n",
    "![](https://cdn.jsdelivr.net/gh/Alephant6/PicBed/202205171502574.png)"
   ],
   "metadata": {
    "collapsed": false,
    "pycharm": {
     "name": "#%% md\n"
    }
   }
  },
  {
   "cell_type": "markdown",
   "source": [
    "## zyw\n",
    "对着视频伪代码\n"
   ],
   "metadata": {
    "collapsed": false,
    "pycharm": {
     "name": "#%% md\n"
    }
   }
  },
  {
   "cell_type": "code",
   "execution_count": 1,
   "outputs": [],
   "source": [
    "class Solution:\n",
    "    def isValid(self, s: str) -> bool:\n",
    "        if len(s)%2 == 1:\n",
    "            return False\n",
    "        stack = []\n",
    "        for a in s:\n",
    "            if a == '(' or a=='[' or a=='{':\n",
    "                stack.append(a)\n",
    "            else:\n",
    "                if len(stack) == 0:\n",
    "                    return False\n",
    "                else:\n",
    "                    temp = stack.pop()\n",
    "                    if a == ')':\n",
    "                        if temp !='(':\n",
    "                            return False\n",
    "                    elif a == ']':\n",
    "                        if temp != '[':\n",
    "                            return False\n",
    "                    elif a == '}':\n",
    "                        if temp != '{':\n",
    "                            return False\n",
    "        if len(stack) == 0:\n",
    "            return True\n",
    "        else:\n",
    "            return False"
   ],
   "metadata": {
    "collapsed": false,
    "pycharm": {
     "name": "#%%\n"
    }
   }
  },
  {
   "cell_type": "markdown",
   "source": [
    "## 问题二：497. 下一个更大元素 I\n",
    "https://leetcode.cn/problems/next-greater-element-i/\n",
    "nums1 中数字 x 的 下一个更大元素 是指 x 在 nums2 中对应位置 右侧 的 第一个 比 x 大的元素。\n",
    "\n",
    "给你两个 没有重复元素 的数组 nums1 和 nums2 ，下标从 0 开始计数，其中nums1 是 nums2 的子集。\n",
    "\n",
    "对于每个 0 <= i < nums1.length ，找出满足 nums1[i] == nums2[j] 的下标 j ，并且在 nums2 确定 nums2[j] 的 下一个更大元素 。如果不存在下一个更大元素，那么本次查询的答案是 -1 。\n",
    "\n",
    "返回一个长度为 nums1.length 的数组 ans 作为答案，满足 ans[i] 是如上所述的 下一个更大元素 。\n"
   ],
   "metadata": {
    "collapsed": false,
    "pycharm": {
     "name": "#%% md\n"
    }
   }
  },
  {
   "cell_type": "markdown",
   "source": [
    "## 自己想法"
   ],
   "metadata": {
    "collapsed": false,
    "pycharm": {
     "name": "#%% md\n"
    }
   }
  },
  {
   "cell_type": "code",
   "execution_count": 8,
   "outputs": [],
   "source": [
    "class Solution(object):\n",
    "    def nextGreaterElement(self, nums1, nums2):\n",
    "        \"\"\"\n",
    "        :type nums1: List[int]\n",
    "        :type nums2: List[int]\n",
    "        :rtype: List[int]\n",
    "        \"\"\"\n",
    "\n",
    "        result = []\n",
    "        for num1 in nums1:\n",
    "            i = nums2.index(num1)\n",
    "            temp = nums2[i+1:] if i != len(nums2) else []\n",
    "            mark = 1\n",
    "            while len(temp):\n",
    "                p = temp.pop(0)\n",
    "                if p > num1:\n",
    "                    result.append(p)\n",
    "                    mark = 0\n",
    "                    break\n",
    "            if mark:\n",
    "                result.append(-1)\n",
    "        return result"
   ],
   "metadata": {
    "collapsed": false,
    "pycharm": {
     "name": "#%%\n"
    }
   }
  },
  {
   "cell_type": "code",
   "execution_count": 9,
   "outputs": [],
   "source": [
    "test2 = Solution()\n",
    "nums1 = [3,1,5,7,9,2,6]\n",
    "nums2 = [1,2,3,5,6,7,9,11]"
   ],
   "metadata": {
    "collapsed": false,
    "pycharm": {
     "name": "#%%\n"
    }
   }
  },
  {
   "cell_type": "code",
   "execution_count": 10,
   "outputs": [
    {
     "data": {
      "text/plain": "[5, 2, 6, 9, 11, 3, 7]"
     },
     "execution_count": 10,
     "metadata": {},
     "output_type": "execute_result"
    }
   ],
   "source": [
    "test2.nextGreaterElement(nums1, nums2)"
   ],
   "metadata": {
    "collapsed": false,
    "pycharm": {
     "name": "#%%\n"
    }
   }
  },
  {
   "cell_type": "code",
   "execution_count": null,
   "outputs": [],
   "source": [
    "class Solution(object):\n",
    "    def nextGreaterElement(self, nums1, nums2):\n",
    "        \"\"\"\n",
    "        :type nums1: List[int]\n",
    "        :type nums2: List[int]\n",
    "        :rtype: List[int]\n",
    "        \"\"\"\n",
    "\n",
    "        result = []\n",
    "        for num1 in nums1:\n",
    "            i = nums2.index(num1)\n",
    "            temp = nums2[i+1:] if i != len(nums2) else []\n",
    "            mark = 1\n",
    "            while len(temp):\n",
    "                p = temp.pop(0)\n",
    "                if p > num1:\n",
    "                    result.append(p)\n",
    "                    mark = 0\n",
    "                    break\n",
    "            if mark:\n",
    "                result.append(-1)\n",
    "        return result"
   ],
   "metadata": {
    "collapsed": false,
    "pycharm": {
     "name": "#%%\n"
    }
   }
  },
  {
   "cell_type": "markdown",
   "source": [
    "### 结果\n",
    "![](https://cdn.jsdelivr.net/gh/Alephant6/PicBed/202205171601473.png)\n",
    "太差劲了，学习一下参考答案"
   ],
   "metadata": {
    "collapsed": false,
    "pycharm": {
     "name": "#%% md\n"
    }
   }
  },
  {
   "cell_type": "markdown",
   "source": [
    "## 参考答案\n"
   ],
   "metadata": {
    "collapsed": false,
    "pycharm": {
     "name": "#%% md\n"
    }
   }
  },
  {
   "cell_type": "code",
   "execution_count": 2,
   "outputs": [],
   "source": [
    "class Solution:\n",
    "    def nextGreaterElement(self, nums1, nums2):\n",
    "        m, n = len(nums1), len(nums2)\n",
    "        res = [0] * m\n",
    "        for i in range(m):\n",
    "            j = nums2.index(nums1[i])\n",
    "            k = j + 1\n",
    "            while k < n and nums2[k] < nums2[j]:\n",
    "                k += 1\n",
    "            res[i] = nums2[k] if k < n else -1\n",
    "        return res"
   ],
   "metadata": {
    "collapsed": false,
    "pycharm": {
     "name": "#%%\n"
    }
   }
  },
  {
   "cell_type": "code",
   "execution_count": 3,
   "outputs": [],
   "source": [
    "test2 = Solution()\n",
    "nums1 = [3,1,5,7,9,2,6]\n",
    "nums2 = [1,2,3,5,6,7,9,11]"
   ],
   "metadata": {
    "collapsed": false,
    "pycharm": {
     "name": "#%%\n"
    }
   }
  },
  {
   "cell_type": "code",
   "execution_count": 4,
   "outputs": [
    {
     "data": {
      "text/plain": "[5, 2, 6, 9, 11, 3, 7]"
     },
     "execution_count": 4,
     "metadata": {},
     "output_type": "execute_result"
    }
   ],
   "source": [
    "test2.nextGreaterElement(nums1, nums2)"
   ],
   "metadata": {
    "collapsed": false,
    "pycharm": {
     "name": "#%%\n"
    }
   }
  },
  {
   "cell_type": "markdown",
   "source": [
    "### 思考\n",
    "1. 没有用到栈\n",
    "2. 内存初始化了\n",
    "3. 也是属于暴力求解，每次都要遍历\n",
    "\n",
    "### 还有一种方法二：单调栈 + 哈希表\n",
    "```python\n",
    "class Solution:\n",
    "    def nextGreaterElement(self, nums1: List[int], nums2: List[int]) -> List[int]:\n",
    "        res = {}\n",
    "        stack = []\n",
    "        for num in reversed(nums2):\n",
    "            while stack and num >= stack[-1]:\n",
    "                stack.pop()\n",
    "            res[num] = stack[-1] if stack else -1\n",
    "            stack.append(num)\n",
    "        return [res[num] for num in nums1]\n",
    "```\n",
    "\n",
    "\n",
    "作者：LeetCode-Solution\n",
    "链接：https://leetcode.cn/problems/next-greater-element-i/solution/xia-yi-ge-geng-da-yuan-su-i-by-leetcode-bfcoj/\n",
    "来源：力扣（LeetCode）\n",
    "著作权归作者所有。商业转载请联系作者获得授权，非商业转载请注明出处。"
   ],
   "metadata": {
    "collapsed": false,
    "pycharm": {
     "name": "#%% md\n"
    }
   }
  }
 ],
 "metadata": {
  "kernelspec": {
   "name": "pycharm-8bf0ea06",
   "language": "python",
   "display_name": "PyCharm (Digital_imaging_processing)"
  },
  "language_info": {
   "codemirror_mode": {
    "name": "ipython",
    "version": 2
   },
   "file_extension": ".py",
   "mimetype": "text/x-python",
   "name": "python",
   "nbconvert_exporter": "python",
   "pygments_lexer": "ipython2",
   "version": "2.7.6"
  }
 },
 "nbformat": 4,
 "nbformat_minor": 0
}