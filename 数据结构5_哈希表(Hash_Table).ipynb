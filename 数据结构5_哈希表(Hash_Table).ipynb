{
 "cells": [
  {
   "cell_type": "markdown",
   "source": [
    "@date: 18 May, 2022\n",
    "@author: Alephant"
   ],
   "metadata": {
    "collapsed": false,
    "pycharm": {
     "name": "#%% md\n"
    }
   }
  },
  {
   "cell_type": "markdown",
   "source": [
    "# 哈希表\n",
    "详细笔记见OneNote\n",
    "\n",
    "## 特点\n",
    "可以根据内存大小和索引直接找到对应的值，无需遍历一遍。\n",
    "\n",
    "这也是一种哈希表。\n",
    "\n",
    "## 哈希碰撞\n",
    "2个不同的key通过同一个哈希函数得到相同的内存地址\n",
    "\n",
    "解决方案：用链表，索引下一个\n",
    "\n",
    "## 操作\n",
    "1. 哈希表不存在访问操作\n",
    "\n",
    "2. 碰撞：O(k) - k：碰撞元素的个数\n",
    "\n",
    "3. 搜索 Search: O(1)\n",
    "\n",
    "4. 插入 Insert: O(1)\n",
    "\n",
    "5. 删除 Delete: O(1)\n",
    "    1. 通过key删除\n",
    "\n",
    "## 哈希表操作\n",
    "![](https://cdn.jsdelivr.net/gh/Alephant6/PicBed/202205181502406.png)\n",
    "\n",
    "## 练习题\n",
    "1. 217\n",
    "2. 389\n",
    "3. 496\n"
   ],
   "metadata": {
    "collapsed": false,
    "pycharm": {
     "name": "#%% md\n"
    }
   }
  },
  {
   "cell_type": "markdown",
   "source": [
    "## python的哈希表常用操作"
   ],
   "metadata": {
    "collapsed": false,
    "pycharm": {
     "name": "#%% md\n"
    }
   }
  },
  {
   "cell_type": "code",
   "execution_count": 1,
   "outputs": [],
   "source": [
    "# Create HashTable by Array\n",
    "hashTable = [''] * 4\n",
    "# Create HashTable by Dictionary\n",
    "mapping = {}"
   ],
   "metadata": {
    "collapsed": false,
    "pycharm": {
     "name": "#%%\n"
    }
   }
  },
  {
   "cell_type": "code",
   "execution_count": 2,
   "outputs": [],
   "source": [
    "# Add element\n",
    "# Time Complexity: O(1)\n",
    "hashTable[1] = 'hanmeimei'\n",
    "hashTable[2] = 'lihua'\n",
    "hashTable[3] = 'siyangyuan'\n",
    "\n",
    "mapping[1] = 'hanmeimei'\n",
    "mapping[2] = 'lihua'\n",
    "mapping[3] = 'siyangyuan'"
   ],
   "metadata": {
    "collapsed": false,
    "pycharm": {
     "name": "#%%\n"
    }
   }
  },
  {
   "cell_type": "code",
   "execution_count": 3,
   "outputs": [],
   "source": [
    "# Update element\n",
    "# Time Complexity: O(1)\n",
    "hashTable[1] = 'bishi'\n",
    "mapping[1] = 'bishi'"
   ],
   "metadata": {
    "collapsed": false,
    "pycharm": {
     "name": "#%%\n"
    }
   }
  },
  {
   "cell_type": "code",
   "execution_count": 4,
   "outputs": [
    {
     "data": {
      "text/plain": "'bishi'"
     },
     "execution_count": 4,
     "metadata": {},
     "output_type": "execute_result"
    }
   ],
   "source": [
    "# Remove element\n",
    "# Time Complexity: O(1)\n",
    "hashTable[1] = ''\n",
    "mapping.pop(1)\n",
    "# del mapping[1]"
   ],
   "metadata": {
    "collapsed": false,
    "pycharm": {
     "name": "#%%\n"
    }
   }
  },
  {
   "cell_type": "code",
   "execution_count": 5,
   "outputs": [
    {
     "data": {
      "text/plain": "'siyangyuan'"
     },
     "execution_count": 5,
     "metadata": {},
     "output_type": "execute_result"
    }
   ],
   "source": [
    "# Get Value\n",
    "# Time Complexity: O(1)\n",
    "hashTable[3]\n",
    "mapping[3]"
   ],
   "metadata": {
    "collapsed": false,
    "pycharm": {
     "name": "#%%\n"
    }
   }
  },
  {
   "cell_type": "code",
   "execution_count": 6,
   "outputs": [
    {
     "data": {
      "text/plain": "True"
     },
     "execution_count": 6,
     "metadata": {},
     "output_type": "execute_result"
    }
   ],
   "source": [
    "# Check key\n",
    "# Time Complexity: O(1)\n",
    "# hashTable No\n",
    "3 in mapping"
   ],
   "metadata": {
    "collapsed": false,
    "pycharm": {
     "name": "#%%\n"
    }
   }
  },
  {
   "cell_type": "code",
   "execution_count": 7,
   "outputs": [
    {
     "data": {
      "text/plain": "2"
     },
     "execution_count": 7,
     "metadata": {},
     "output_type": "execute_result"
    }
   ],
   "source": [
    "# Length\n",
    "# Time Complexity: O(1)\n",
    "# hashTable No\n",
    "len(mapping)"
   ],
   "metadata": {
    "collapsed": false,
    "pycharm": {
     "name": "#%%\n"
    }
   }
  },
  {
   "cell_type": "code",
   "execution_count": 8,
   "outputs": [
    {
     "data": {
      "text/plain": "False"
     },
     "execution_count": 8,
     "metadata": {},
     "output_type": "execute_result"
    }
   ],
   "source": [
    "# is Empty\n",
    "# Time Complexity: O(1)\n",
    "# hashTable No\n",
    "len(mapping) == 0"
   ],
   "metadata": {
    "collapsed": false,
    "pycharm": {
     "name": "#%%\n"
    }
   }
  },
  {
   "cell_type": "markdown",
   "source": [
    "# 问题一：217. 存在重复元素\n",
    "https://leetcode.cn/problems/contains-duplicate/\n",
    "给你一个整数数组 nums 。如果任一值在数组中出现 至少两次 ，返回 true ；如果数组中每个元素互不相同，返回 false 。"
   ],
   "metadata": {
    "collapsed": false,
    "pycharm": {
     "name": "#%% md\n"
    }
   }
  },
  {
   "cell_type": "markdown",
   "source": [
    "## 自己想法"
   ],
   "metadata": {
    "collapsed": false,
    "pycharm": {
     "name": "#%% md\n"
    }
   }
  },
  {
   "cell_type": "code",
   "execution_count": 9,
   "outputs": [],
   "source": [
    "class Solution(object):\n",
    "    def containsDuplicate(self, nums):\n",
    "        \"\"\"\n",
    "        :type nums: List[int]\n",
    "        :rtype: bool\n",
    "        \"\"\"\n",
    "        for i in range(0, len(nums)-1):\n",
    "            for j in range(i+1, len(nums)):\n",
    "                if nums[i] == nums[j]:\n",
    "                    return True\n",
    "        return False"
   ],
   "metadata": {
    "collapsed": false,
    "pycharm": {
     "name": "#%%\n"
    }
   }
  },
  {
   "cell_type": "markdown",
   "source": [
    "## 想法二"
   ],
   "metadata": {
    "collapsed": false,
    "pycharm": {
     "name": "#%% md\n"
    }
   }
  },
  {
   "cell_type": "code",
   "execution_count": 12,
   "outputs": [],
   "source": [
    "class Solution(object):\n",
    "    def containsDuplicate(self, nums):\n",
    "        \"\"\"\n",
    "        :type nums: List[int]\n",
    "        :rtype: bool\n",
    "        \"\"\"\n",
    "        if len(nums) == 0:\n",
    "            return False\n",
    "        nums.sort()\n",
    "        for i in range(0,len(nums)-1):\n",
    "            if nums[i] == nums[i+1]:\n",
    "                return True\n",
    "        return False"
   ],
   "metadata": {
    "collapsed": false,
    "pycharm": {
     "name": "#%%\n"
    }
   }
  },
  {
   "cell_type": "markdown",
   "source": [
    "### 结果\n",
    "![](https://cdn.jsdelivr.net/gh/Alephant6/PicBed/202205181541135.png)\n"
   ],
   "metadata": {
    "collapsed": false,
    "pycharm": {
     "name": "#%% md\n"
    }
   }
  },
  {
   "cell_type": "markdown",
   "source": [
    "## 视频讲解\n",
    "利用哈希表\n",
    "\n",
    "key: 数组元素\n",
    "\n",
    "value: 元素出现的次数\n",
    "\n",
    "读到有value大于2的就是\n",
    "\n",
    "![](https://cdn.jsdelivr.net/gh/Alephant6/PicBed/202205181543751.png)\n"
   ],
   "metadata": {
    "collapsed": false,
    "pycharm": {
     "name": "#%% md\n"
    }
   }
  },
  {
   "cell_type": "code",
   "execution_count": 11,
   "outputs": [],
   "source": [
    "class Solution(object):\n",
    "    def containsDuplicate(self, nums):\n",
    "        \"\"\"\n",
    "        :type nums: List[int]\n",
    "        :rtype: bool\n",
    "        \"\"\"\n",
    "        if len(nums) == 0:\n",
    "            return False\n",
    "        hashTable = {}\n",
    "        for num in nums:\n",
    "            if num not in hashTable.keys():\n",
    "                hashTable[num] = 1\n",
    "            else:\n",
    "                return True\n",
    "        #         temp = hashTable[num]\n",
    "        #         hashTable[num] = temp + 1\n",
    "        # for key in hashTable.keys():\n",
    "        #     if hashTable[key] > 1:\n",
    "        #         return True\n",
    "        return False\n",
    "\n"
   ],
   "metadata": {
    "collapsed": false,
    "pycharm": {
     "name": "#%%\n"
    }
   }
  },
  {
   "cell_type": "markdown",
   "source": [
    "## 结果\n",
    "超出时间限制"
   ],
   "metadata": {
    "collapsed": false,
    "pycharm": {
     "name": "#%% md\n"
    }
   }
  },
  {
   "cell_type": "markdown",
   "source": [
    "# 问题二：389找不同\n",
    "给定两个字符串 s 和 t ，它们只包含小写字母。\n",
    "\n",
    "字符串 t 由字符串 s 随机重排，然后在随机位置添加一个字母。\n",
    "\n",
    "请找出在 t 中被添加的字母。\n"
   ],
   "metadata": {
    "collapsed": false,
    "pycharm": {
     "name": "#%% md\n"
    }
   }
  },
  {
   "cell_type": "code",
   "execution_count": null,
   "outputs": [],
   "source": [
    "class Solution(object):\n",
    "    def findTheDifference(self, s, t):\n",
    "        \"\"\"\n",
    "        :type s: str\n",
    "        :type t: str\n",
    "        :rtype: str\n",
    "        \"\"\"\n",
    "        hashTable1 = {}\n",
    "        for a in s:\n",
    "            if a not in hashTable1.keys():\n",
    "                hashTable1[a] = 1\n",
    "            else:\n",
    "                hashTable1[a] += 1\n",
    "        hashTable2 = {}\n",
    "        for a in t:\n",
    "            if a not in hashTable2.keys():\n",
    "                hashTable2[a] = 1\n",
    "            else:\n",
    "                hashTable2[a] += 1\n",
    "        for key in hashTable2.keys():\n",
    "            if key in hashTable1.keys():\n",
    "                if hashTable1[key] != hashTable2[key]:\n",
    "                    return key\n",
    "            else:\n",
    "                return key\n"
   ],
   "metadata": {
    "collapsed": false,
    "pycharm": {
     "name": "#%%\n"
    }
   }
  },
  {
   "cell_type": "markdown",
   "source": [
    "### 结果\n",
    "用哈希效率太差了\n",
    "![](https://cdn.jsdelivr.net/gh/Alephant6/PicBed/202205181613469.png)"
   ],
   "metadata": {
    "collapsed": false,
    "pycharm": {
     "name": "#%% md\n"
    }
   }
  },
  {
   "cell_type": "markdown",
   "source": [
    "# 问题三：496"
   ],
   "metadata": {
    "collapsed": false,
    "pycharm": {
     "name": "#%% md\n"
    }
   }
  }
 ],
 "metadata": {
  "kernelspec": {
   "display_name": "Python 3",
   "language": "python",
   "name": "python3"
  },
  "language_info": {
   "codemirror_mode": {
    "name": "ipython",
    "version": 2
   },
   "file_extension": ".py",
   "mimetype": "text/x-python",
   "name": "python",
   "nbconvert_exporter": "python",
   "pygments_lexer": "ipython2",
   "version": "2.7.6"
  }
 },
 "nbformat": 4,
 "nbformat_minor": 0
}